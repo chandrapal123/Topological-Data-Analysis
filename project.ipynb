{
 "cells": [
  {
   "cell_type": "code",
   "execution_count": 1,
   "metadata": {},
   "outputs": [],
   "source": [
    "%load_ext autoreload\n",
    "%autoreload 2"
   ]
  },
  {
   "cell_type": "code",
   "execution_count": 2,
   "metadata": {},
   "outputs": [],
   "source": [
    "from ripser import ripser\n",
    "from persim import plot_diagrams\n",
    "import matplotlib.pyplot as plt\n",
    "import numpy as np\n",
    "from sklearn import datasets\n",
    "from sklearn.model_selection import train_test_split\n",
    "from sklearn.preprocessing import LabelEncoder\n",
    "\n",
    "import cv2                  \n",
    "import numpy as np  \n",
    "from tqdm import tqdm\n",
    "import os                   \n",
    "from random import shuffle  \n",
    "from zipfile import ZipFile\n",
    "from PIL import Image"
   ]
  },
  {
   "cell_type": "code",
   "execution_count": 3,
   "metadata": {},
   "outputs": [
    {
     "name": "stderr",
     "output_type": "stream",
     "text": [
      "Using TensorFlow backend.\n"
     ]
    }
   ],
   "source": [
    "from sklearn.model_selection import train_test_split\n",
    "from sklearn.model_selection import KFold\n",
    "from sklearn.metrics import accuracy_score,precision_score,recall_score,confusion_matrix,roc_curve,roc_auc_score\n",
    "from sklearn.model_selection import GridSearchCV\n",
    "from sklearn.preprocessing import LabelEncoder\n",
    "#preprocess.\n",
    "from keras.preprocessing.image import ImageDataGenerator\n",
    "\n",
    "#dl libraraies\n",
    "from keras import backend as K\n",
    "from keras.models import Sequential\n",
    "from keras.layers import Dense\n",
    "from keras.optimizers import Adam,SGD,Adagrad,Adadelta,RMSprop\n",
    "from keras.utils import to_categorical\n",
    "\n",
    "# specifically for cnn\n",
    "from keras.layers import Dropout, Flatten,Activation\n",
    "from keras.layers import Conv2D, MaxPooling2D, BatchNormalization\n",
    "from keras.layers import Dropout \n",
    "import tensorflow as tf\n",
    "import random as rn"
   ]
  },
  {
   "cell_type": "code",
   "execution_count": 4,
   "metadata": {},
   "outputs": [],
   "source": [
    "import csv\n",
    "l1=[]\n",
    "a=0\n",
    "with open('model1b.txt','r') as csvFile:\n",
    "    reader = csv.reader(csvFile) \n",
    "    for row in reader:\n",
    "        y=[]\n",
    "        l=row[0]\n",
    "        s=str(l)\n",
    "        a+=1\n",
    "        list_of_integers = list(map(float,s.split()))\n",
    "        if( list_of_integers==[]):\n",
    "            continue\n",
    "        y.append(list_of_integers[0])\n",
    "        y.append(list_of_integers[1])\n",
    "        y.append(list_of_integers[2])\n",
    "        l1.append(y)\n",
    "csvFile.close()"
   ]
  },
  {
   "cell_type": "code",
   "execution_count": 4,
   "metadata": {},
   "outputs": [],
   "source": [
    "import csv\n",
    "DIR='/Users/user/Desktop/Protien'\n",
    "a=0\n",
    "l2=[]\n",
    "with open('model2b.txt','r') as csvFile:\n",
    "    reader = csv.reader(csvFile) \n",
    "    for row in reader:\n",
    "        y=[]\n",
    "        l=row[0]\n",
    "        a+=1\n",
    "        s=str(l)\n",
    "        list_of_integers = list(map(float,s.split()))\n",
    "        if( list_of_integers==[]):\n",
    "            continue\n",
    "        y.append(list_of_integers[0])\n",
    "        y.append(list_of_integers[1])\n",
    "        y.append(list_of_integers[2])\n",
    "        l2.append(y)\n",
    "csvFile.close() "
   ]
  },
  {
   "cell_type": "code",
   "execution_count": 6,
   "metadata": {},
   "outputs": [],
   "source": [
    "import csv\n",
    "l3=[]\n",
    "with open('model3b.txt','r') as csvFile:\n",
    "    reader = csv.reader(csvFile) \n",
    "    for row in reader:\n",
    "        y=[]\n",
    "        l=row[0]\n",
    "        s=str(l)\n",
    "        list_of_integers = list(map(float,s.split()))\n",
    "        if( list_of_integers==[]):\n",
    "            continue\n",
    "        y.append(list_of_integers[0])\n",
    "        y.append(list_of_integers[1])\n",
    "        y.append(list_of_integers[2])\n",
    "        l3.append(y)\n",
    "csvFile.close() "
   ]
  },
  {
   "cell_type": "code",
   "execution_count": 7,
   "metadata": {},
   "outputs": [],
   "source": [
    "w,h=150,4\n",
    "Matrix = [[0 for x in range(w)] for y in range(h)]\n",
    "import csv\n",
    "l4=[]\n",
    "with open('model4b.txt','r') as csvFile:\n",
    "    reader = csv.reader(csvFile) \n",
    "    for row in reader:\n",
    "        y=[]\n",
    "        l=row[0]\n",
    "        s=str(l)\n",
    "        list_of_integers = list(map(float,s.split()))\n",
    "        if( list_of_integers==[]):\n",
    "            continue\n",
    "        y.append(list_of_integers[0])\n",
    "        y.append(list_of_integers[1])\n",
    "        y.append(list_of_integers[2])\n",
    "        l4.append(y)\n",
    "csvFile.close() "
   ]
  },
  {
   "cell_type": "code",
   "execution_count": 8,
   "metadata": {},
   "outputs": [],
   "source": [
    "l5=[]\n",
    "with open('model11b.txt','r') as csvFile:\n",
    "    reader = csv.reader(csvFile) \n",
    "    for row in reader:\n",
    "        y=[]\n",
    "        l=row[0]\n",
    "        s=str(l)\n",
    "        list_of_integers = list(map(float,s.split()))\n",
    "        if( list_of_integers==[]):\n",
    "            continue\n",
    "        y.append(list_of_integers[0])\n",
    "        y.append(list_of_integers[1])\n",
    "        y.append(list_of_integers[2])\n",
    "        l5.append(y)\n",
    "csvFile.close() "
   ]
  },
  {
   "cell_type": "code",
   "execution_count": 9,
   "metadata": {},
   "outputs": [],
   "source": [
    "l6=[]\n",
    "with open('model1r.txt','r') as csvFile:\n",
    "    reader = csv.reader(csvFile) \n",
    "    for row in reader:\n",
    "        y=[]\n",
    "        l=row[0]\n",
    "        s=str(l)\n",
    "        list_of_integers = list(map(float,s.split()))\n",
    "        if( list_of_integers==[]):\n",
    "            continue\n",
    "        y.append(list_of_integers[0])\n",
    "        y.append(list_of_integers[1])\n",
    "        y.append(list_of_integers[2])\n",
    "        l6.append(y)\n",
    "csvFile.close() "
   ]
  },
  {
   "cell_type": "code",
   "execution_count": 10,
   "metadata": {},
   "outputs": [],
   "source": [
    "l7=[]\n",
    "with open('model3r.txt','r') as csvFile:\n",
    "    reader = csv.reader(csvFile) \n",
    "    for row in reader:\n",
    "        y=[]\n",
    "        l=row[0]\n",
    "        s=str(l)\n",
    "        list_of_integers = list(map(float,s.split()))\n",
    "        if( list_of_integers==[]):\n",
    "            continue\n",
    "        y.append(list_of_integers[0])\n",
    "        y.append(list_of_integers[1])\n",
    "        y.append(list_of_integers[2])\n",
    "        l7.append(y)\n",
    "csvFile.close() "
   ]
  },
  {
   "cell_type": "code",
   "execution_count": 16,
   "metadata": {},
   "outputs": [],
   "source": [
    "l8=[]\n",
    "with open('model15r.txt','r') as csvFile:\n",
    "    reader = csv.reader(csvFile) \n",
    "    for row in reader:\n",
    "        y=[]\n",
    "        l=row[0]\n",
    "        s=str(l)\n",
    "        list_of_integers = list(map(float,s.split()))\n",
    "        if( list_of_integers==[]):\n",
    "            continue\n",
    "        y.append(list_of_integers[0])\n",
    "        y.append(list_of_integers[1])\n",
    "        y.append(list_of_integers[2])\n",
    "        l8.append(y)\n",
    "csvFile.close() "
   ]
  },
  {
   "cell_type": "code",
   "execution_count": 17,
   "metadata": {},
   "outputs": [],
   "source": [
    "l9=[]\n",
    "with open('model14r.txt','r') as csvFile:\n",
    "    reader = csv.reader(csvFile) \n",
    "    for row in reader:\n",
    "        y=[]\n",
    "        l=row[0]\n",
    "        s=str(l)\n",
    "        list_of_integers = list(map(float,s.split()))\n",
    "        if( list_of_integers==[]):\n",
    "            continue\n",
    "        y.append(list_of_integers[0])\n",
    "        y.append(list_of_integers[1])\n",
    "        y.append(list_of_integers[2])\n",
    "        l9.append(y)\n",
    "csvFile.close() "
   ]
  },
  {
   "cell_type": "code",
   "execution_count": 5,
   "metadata": {},
   "outputs": [],
   "source": [
    "list1=[]\n",
    "import csv\n",
    "def f(path_txt):\n",
    "    list2=[]\n",
    "    with open(path_txt,'r') as csvFile:\n",
    "     reader = csv.reader(csvFile) \n",
    "     for row in reader:\n",
    "        y=[]\n",
    "        l=row[0]\n",
    "        s=str(l)\n",
    "        list_of_integers = list(map(float,s.split()))\n",
    "        if( list_of_integers==[]):\n",
    "            continue\n",
    "        y.append(list_of_integers[0])\n",
    "        y.append(list_of_integers[1])\n",
    "        y.append(list_of_integers[2])\n",
    "        list2.append(y)\n",
    "    csvFile.close() \n",
    "    list1.append(list2)"
   ]
  },
  {
   "cell_type": "code",
   "execution_count": 6,
   "metadata": {},
   "outputs": [],
   "source": [
    "IVPR= os.listdir(\"C:/Users/user/Desktop/protien-tda/Protein DATA/+R\") \n",
    "IVP= os.listdir(\"C:/Users/user/Desktop/protien-tda/Protein DATA/-R\") "
   ]
  },
  {
   "cell_type": "code",
   "execution_count": 7,
   "metadata": {},
   "outputs": [],
   "source": [
    "for i in IVPR:\n",
    "    f(i)\n",
    "for i in IVP:\n",
    "    f(i)"
   ]
  },
  {
   "cell_type": "code",
   "execution_count": 8,
   "metadata": {},
   "outputs": [],
   "source": [
    "from skimage import color\n",
    "from skimage import io"
   ]
  },
  {
   "cell_type": "code",
   "execution_count": 9,
   "metadata": {},
   "outputs": [],
   "source": [
    "import numpy as np\n",
    "from ripser import ripser\n",
    "from persim import plot_diagrams"
   ]
  },
  {
   "cell_type": "code",
   "execution_count": 10,
   "metadata": {},
   "outputs": [],
   "source": [
    "import gudhi"
   ]
  },
  {
   "cell_type": "code",
   "execution_count": 5,
   "metadata": {},
   "outputs": [],
   "source": [
    "l1=[]\n",
    "l2=[]\n",
    "l3=[]\n",
    "def barcodes(diag):\n",
    "    for i in range(3):\n",
    "        li=[]\n",
    "        lii=[]\n",
    "        for j in diag[i]:\n",
    "            birth=j[0]\n",
    "            deth=j[1]\n",
    "            if((j[1]-j[0])>.1):\n",
    "              li.append(deth)\n",
    "              lii.append(birth)\n",
    "        if(i==0):\n",
    "            l1.append(li)\n",
    "            l1.append(lii)\n",
    "        if(i==1):\n",
    "            l2.append(li)\n",
    "            l2.append(lii)\n",
    "        if(i==2):\n",
    "            l3.append(li)\n",
    "            l3.append(lii)"
   ]
  },
  {
   "cell_type": "code",
   "execution_count": 11,
   "metadata": {},
   "outputs": [],
   "source": [
    "def features(diag,k):\n",
    "    la=[]\n",
    "    for i in range(3):\n",
    "        lr=[]\n",
    "        for j in diag[i]:\n",
    "          if(j[1]-j[0]<10):\n",
    "            lr.append(j[1]-j[0])\n",
    "        la.append(max(lr))\n",
    "        lr.remove(max(lr))\n",
    "        la.append(max(lr))\n",
    "    for i in range(3):\n",
    "        lr=[]\n",
    "        for j in diag[i]:\n",
    "           if(j[1]-j[0]<10):\n",
    "            lr.append(j[1]-j[0])\n",
    "        s=0\n",
    "        for i in range(len(lr)):\n",
    "            s=s+lr[i]\n",
    "        la.append(s/len(lr))\n",
    "        la.append(s/len(lr))\n",
    "    for i in range(3):\n",
    "        lr=[]\n",
    "        lz=[]\n",
    "        for j in diag[i]:\n",
    "           if(j[1]-j[0]<10):\n",
    "            lr.append(j[1]-j[0])\n",
    "            lz.append(j[0])\n",
    "        s=0\n",
    "        for i in range(len(lr)):\n",
    "            s=s+(lr[i]/2+lz[i])\n",
    "        la.append(s/len(lr))\n",
    "    return la"
   ]
  },
  {
   "cell_type": "code",
   "execution_count": 12,
   "metadata": {},
   "outputs": [],
   "source": [
    "def betti_nums1(data, eps,k):\n",
    "    diagrams = ripser(data, maxdim = 2,distance_matrix=False, metric = 'euclidean',thresh =5)['dgms']\n",
    "    b=[]\n",
    "    c=0\n",
    "    for j in range(len(diagrams[0])):\n",
    "        if(diagrams[0][j][1]-diagrams[0][j][0]>.1):\n",
    "            c+=1\n",
    "    b0=c\n",
    "    c=0\n",
    "    for j in range(len(diagrams[1])):\n",
    "        if(diagrams[1][j][1]-diagrams[1][j][0]>.01):\n",
    "            c+=1\n",
    "    b1=c   \n",
    "    c=0\n",
    "    for j in range(len(diagrams[2])):\n",
    "        if(diagrams[2][j][1]-diagrams[2][j][0]>.1):\n",
    "            c+=1\n",
    "    b2=c\n",
    "    b.append(b0)\n",
    "    b.append(b1)\n",
    "    b.append(b2)\n",
    "    X.append(b)\n",
    "    #plot_diagrams(diagrams)  \n",
    "    #barcodes(diagrams)\n",
    "    z=features(diagrams,k)\n",
    "    return z"
   ]
  },
  {
   "cell_type": "code",
   "execution_count": 13,
   "metadata": {},
   "outputs": [],
   "source": [
    "\n",
    "import numpy as np\n",
    "import math\n",
    "import random\n",
    "import gudhi\n",
    "from sklearn.neighbors import KDTree\n",
    "from sklearn.metrics.pairwise import euclidean_distances\n",
    "import matplotlib.pyplot as plt\n",
    "from mpl_toolkits.mplot3d import Axes3D\n",
    "\n"
   ]
  },
  {
   "cell_type": "code",
   "execution_count": 13,
   "metadata": {},
   "outputs": [
    {
     "ename": "IndexError",
     "evalue": "tuple index out of range",
     "output_type": "error",
     "traceback": [
      "\u001b[1;31m---------------------------------------------------------------------------\u001b[0m",
      "\u001b[1;31mIndexError\u001b[0m                                Traceback (most recent call last)",
      "\u001b[1;32m<ipython-input-13-98e9a47937d7>\u001b[0m in \u001b[0;36m<module>\u001b[1;34m\u001b[0m\n\u001b[0;32m      1\u001b[0m \u001b[0ml1\u001b[0m\u001b[1;33m=\u001b[0m\u001b[0mnp\u001b[0m\u001b[1;33m.\u001b[0m\u001b[0marray\u001b[0m\u001b[1;33m(\u001b[0m\u001b[0ml1\u001b[0m\u001b[1;33m)\u001b[0m\u001b[1;33m\u001b[0m\u001b[1;33m\u001b[0m\u001b[0m\n\u001b[0;32m      2\u001b[0m \u001b[0ml2\u001b[0m\u001b[1;33m=\u001b[0m\u001b[0mnp\u001b[0m\u001b[1;33m.\u001b[0m\u001b[0marray\u001b[0m\u001b[1;33m(\u001b[0m\u001b[0ml2\u001b[0m\u001b[1;33m)\u001b[0m\u001b[1;33m\u001b[0m\u001b[1;33m\u001b[0m\u001b[0m\n\u001b[1;32m----> 3\u001b[1;33m \u001b[0mX1\u001b[0m\u001b[1;33m=\u001b[0m\u001b[0mbetti_nums1\u001b[0m\u001b[1;33m(\u001b[0m\u001b[0ml2\u001b[0m\u001b[1;33m,\u001b[0m \u001b[1;36m1.42\u001b[0m \u001b[1;33m)\u001b[0m\u001b[1;33m\u001b[0m\u001b[1;33m\u001b[0m\u001b[0m\n\u001b[0m\u001b[0;32m      4\u001b[0m \u001b[0mX\u001b[0m\u001b[1;33m=\u001b[0m\u001b[0mbetti_nums1\u001b[0m\u001b[1;33m(\u001b[0m\u001b[0ml1\u001b[0m\u001b[1;33m,\u001b[0m \u001b[1;36m1.42\u001b[0m \u001b[1;33m)\u001b[0m\u001b[1;33m\u001b[0m\u001b[1;33m\u001b[0m\u001b[0m\n\u001b[0;32m      5\u001b[0m \u001b[0ml3\u001b[0m\u001b[1;33m=\u001b[0m\u001b[0mnp\u001b[0m\u001b[1;33m.\u001b[0m\u001b[0marray\u001b[0m\u001b[1;33m(\u001b[0m\u001b[0ml3\u001b[0m\u001b[1;33m)\u001b[0m\u001b[1;33m\u001b[0m\u001b[1;33m\u001b[0m\u001b[0m\n",
      "\u001b[1;32m<ipython-input-11-91fe62e1a62f>\u001b[0m in \u001b[0;36mbetti_nums1\u001b[1;34m(data, eps)\u001b[0m\n\u001b[0;32m      1\u001b[0m \u001b[1;32mdef\u001b[0m \u001b[0mbetti_nums1\u001b[0m\u001b[1;33m(\u001b[0m\u001b[0mdata\u001b[0m\u001b[1;33m,\u001b[0m \u001b[0meps\u001b[0m\u001b[1;33m)\u001b[0m\u001b[1;33m:\u001b[0m\u001b[1;33m\u001b[0m\u001b[1;33m\u001b[0m\u001b[0m\n\u001b[1;32m----> 2\u001b[1;33m     \u001b[0mdiagrams\u001b[0m \u001b[1;33m=\u001b[0m \u001b[0mripser\u001b[0m\u001b[1;33m(\u001b[0m\u001b[0mdata\u001b[0m\u001b[1;33m,\u001b[0m \u001b[0mmaxdim\u001b[0m \u001b[1;33m=\u001b[0m \u001b[1;36m2\u001b[0m\u001b[1;33m,\u001b[0m\u001b[0mdistance_matrix\u001b[0m\u001b[1;33m=\u001b[0m\u001b[1;32mFalse\u001b[0m\u001b[1;33m,\u001b[0m \u001b[0mmetric\u001b[0m \u001b[1;33m=\u001b[0m \u001b[1;34m'euclidean'\u001b[0m\u001b[1;33m,\u001b[0m\u001b[0mthresh\u001b[0m \u001b[1;33m=\u001b[0m\u001b[1;36m5\u001b[0m\u001b[1;33m)\u001b[0m\u001b[1;33m[\u001b[0m\u001b[1;34m'dgms'\u001b[0m\u001b[1;33m]\u001b[0m\u001b[1;33m\u001b[0m\u001b[1;33m\u001b[0m\u001b[0m\n\u001b[0m\u001b[0;32m      3\u001b[0m     \u001b[0mb\u001b[0m\u001b[1;33m=\u001b[0m\u001b[1;33m[\u001b[0m\u001b[1;33m]\u001b[0m\u001b[1;33m\u001b[0m\u001b[1;33m\u001b[0m\u001b[0m\n\u001b[0;32m      4\u001b[0m     \u001b[0mc\u001b[0m\u001b[1;33m=\u001b[0m\u001b[1;36m0\u001b[0m\u001b[1;33m\u001b[0m\u001b[1;33m\u001b[0m\u001b[0m\n\u001b[0;32m      5\u001b[0m     \u001b[1;32mfor\u001b[0m \u001b[0mj\u001b[0m \u001b[1;32min\u001b[0m \u001b[0mrange\u001b[0m\u001b[1;33m(\u001b[0m\u001b[0mlen\u001b[0m\u001b[1;33m(\u001b[0m\u001b[0mdiagrams\u001b[0m\u001b[1;33m[\u001b[0m\u001b[1;36m0\u001b[0m\u001b[1;33m]\u001b[0m\u001b[1;33m)\u001b[0m\u001b[1;33m)\u001b[0m\u001b[1;33m:\u001b[0m\u001b[1;33m\u001b[0m\u001b[1;33m\u001b[0m\u001b[0m\n",
      "\u001b[1;32mC:\\ProgramData\\Anaconda3\\lib\\site-packages\\ripser\\ripser.py\u001b[0m in \u001b[0;36mripser\u001b[1;34m(X, maxdim, thresh, coeff, distance_matrix, do_cocycles, metric, n_perm)\u001b[0m\n\u001b[0;32m    210\u001b[0m             \u001b[1;32mraise\u001b[0m \u001b[0mException\u001b[0m\u001b[1;33m(\u001b[0m\u001b[1;34m\"Distance matrix is not square\"\u001b[0m\u001b[1;33m)\u001b[0m\u001b[1;33m\u001b[0m\u001b[1;33m\u001b[0m\u001b[0m\n\u001b[0;32m    211\u001b[0m     \u001b[1;32melse\u001b[0m\u001b[1;33m:\u001b[0m\u001b[1;33m\u001b[0m\u001b[1;33m\u001b[0m\u001b[0m\n\u001b[1;32m--> 212\u001b[1;33m         \u001b[1;32mif\u001b[0m \u001b[0mX\u001b[0m\u001b[1;33m.\u001b[0m\u001b[0mshape\u001b[0m\u001b[1;33m[\u001b[0m\u001b[1;36m0\u001b[0m\u001b[1;33m]\u001b[0m \u001b[1;33m==\u001b[0m \u001b[0mX\u001b[0m\u001b[1;33m.\u001b[0m\u001b[0mshape\u001b[0m\u001b[1;33m[\u001b[0m\u001b[1;36m1\u001b[0m\u001b[1;33m]\u001b[0m\u001b[1;33m:\u001b[0m\u001b[1;33m\u001b[0m\u001b[1;33m\u001b[0m\u001b[0m\n\u001b[0m\u001b[0;32m    213\u001b[0m             warnings.warn(\n\u001b[0;32m    214\u001b[0m                 \u001b[1;34m\"The input matrix is square, but the distance_matrix \"\u001b[0m\u001b[1;33m\u001b[0m\u001b[1;33m\u001b[0m\u001b[0m\n",
      "\u001b[1;31mIndexError\u001b[0m: tuple index out of range"
     ]
    }
   ],
   "source": [
    "l1=np.array(l1)\n",
    "l2=np.array(l2)\n",
    "X1=betti_nums1(l2, 1.42 )\n",
    "X=betti_nums1(l1, 1.42 )\n",
    "l3=np.array(l3)\n",
    "X2=betti_nums1(l3, 1.42 )\n",
    "l4=np.array(l4)\n",
    "X3=betti_nums1(l4, 1.42 )\n",
    "l5=np.array(l5)\n",
    "X4=betti_nums1(l5, 1.42 )"
   ]
  },
  {
   "cell_type": "code",
   "execution_count": 24,
   "metadata": {},
   "outputs": [
    {
     "name": "stdout",
     "output_type": "stream",
     "text": [
      "[1884, 613, 80]\n",
      "[1884, 601, 87]\n",
      "[1884, 618, 89]\n",
      "[1884, 625, 78]\n",
      "[1884, 625, 82]\n"
     ]
    }
   ],
   "source": [
    "print(X)\n",
    "print(X1)\n",
    "print(X2)\n",
    "print(X3)\n",
    "print(X4)"
   ]
  },
  {
   "cell_type": "code",
   "execution_count": 25,
   "metadata": {},
   "outputs": [],
   "source": [
    "l6=np.array(l6)\n",
    "X5=betti_nums1(l6, 1.42 )\n",
    "l7=np.array(l7)\n",
    "X6=betti_nums1(l7, 1.42 )\n",
    "l8=np.array(l8)\n",
    "X7=betti_nums1(l8, 1.42 )\n",
    "l9=np.array(l9)\n",
    "X8=betti_nums1(l9, 1.42 )"
   ]
  },
  {
   "cell_type": "code",
   "execution_count": 26,
   "metadata": {},
   "outputs": [
    {
     "name": "stdout",
     "output_type": "stream",
     "text": [
      "[1918, 657, 100]\n",
      "[1918, 642, 103]\n",
      "[1918, 665, 95]\n",
      "[1918, 678, 94]\n"
     ]
    }
   ],
   "source": [
    "print(X5)\n",
    "print(X6)\n",
    "print(X7)\n",
    "print(X8)"
   ]
  },
  {
   "cell_type": "code",
   "execution_count": 134,
   "metadata": {
    "scrolled": false
   },
   "outputs": [
    {
     "data": {
      "text/plain": [
       "[1884, 610, 85]"
      ]
     },
     "execution_count": 134,
     "metadata": {},
     "output_type": "execute_result"
    },
    {
     "data": {
      "image/png": "[encoded data removed]",
      "text/plain": [
       "<Figure size 640x480 with 1 Axes>"
      ]
     },
     "metadata": {},
     "output_type": "display_data"
    }
   ],
   "source": [
    "i=np.array(list1[0])\n",
    "betti_nums1(i, 1.42 )"
   ]
  },
  {
   "cell_type": "code",
   "execution_count": 143,
   "metadata": {},
   "outputs": [
    {
     "data": {
      "image/png": "[encoded data removed]",
      "text/plain": [
       "<Figure size 640x480 with 1 Axes>"
      ]
     },
     "metadata": {},
     "output_type": "display_data"
    }
   ],
   "source": [
    "import numpy as np\n",
    "import matplotlib.pyplot as plt\n",
    "import pylab as pl\n",
    "Y=0\n",
    "for i in range(len(l1[0])):\n",
    "       x=[l1[0][i],l1[1][i]]\n",
    "       y=[Y,Y]\n",
    "       Y=Y+5\n",
    "       if(i==len(l1[0])-1):\n",
    "         plt.plot(x, y,c='b',label='H0')\n",
    "       else:\n",
    "         plt.plot(x, y,c='b')\n",
    "for i in range(len(l2[0])):\n",
    "       x=[l2[0][i],l2[1][i]]\n",
    "       y=[Y,Y]\n",
    "       Y=Y+5\n",
    "       if(i==len(l2[0])-1):\n",
    "         plt.plot(x, y,c='r',label='H1')\n",
    "       else:\n",
    "         plt.plot(x, y,c='r')\n",
    "for i in range(len(l3[0])):\n",
    "       x=[l3[0][i],l3[1][i]]\n",
    "       y=[Y,Y]\n",
    "       Y=Y+5\n",
    "       if(i==len(l3[0])-1):\n",
    "         plt.plot(x, y,c='g',label='H2')\n",
    "       else:\n",
    "         plt.plot(x, y,c='g')\n",
    "plt.title(\"Homology Barcodes\")\n",
    "plt.xlabel('time')\n",
    "pl.legend()\n",
    "pl.show()"
   ]
  },
  {
   "cell_type": "code",
   "execution_count": 14,
   "metadata": {},
   "outputs": [],
   "source": [
    "X=[]\n",
    "k=0\n",
    "for i in list1:\n",
    "    i=np.array(i)\n",
    "    d=betti_nums1(i, 1.42,k)\n",
    "    for j in d:\n",
    "        X[k].append(j)\n",
    "    k=k+1"
   ]
  },
  {
   "cell_type": "code",
   "execution_count": 15,
   "metadata": {},
   "outputs": [],
   "source": [
    "def DTM(X,query_pts,m):\n",
    "    N_tot = X.shape[0]     \n",
    "    k = math.floor(m*N_tot)+1   # number of neighbors\n",
    "    kdt = KDTree(X, leaf_size=30, metric='euclidean')\n",
    "    NN_Dist, NN = kdt.query(query_pts, k, return_distance=True)  \n",
    "    DTM_result = np.sqrt(np.sum(NN_Dist*NN_Dist,axis=1) / k)\n",
    "    return(DTM_result)\n",
    "def Filtration_value(p, fx, fy, d, n = 10):\n",
    "    if p==np.inf:\n",
    "        value = max([fx,fy,d/2])\n",
    "    else:\n",
    "        fmax = max([fx,fy])\n",
    "        if d < (abs(fx**p-fy**p))**(1/p):\n",
    "            value = fmax\n",
    "        elif p==1:\n",
    "            value = (fx+fy+d)/2\n",
    "        elif p==2:\n",
    "            value = np.sqrt( ( (fx+fy)**2 +d**2 )*( (fx-fy)**2 +d**2 ) )/(2*d)            \n",
    "        else:\n",
    "            Imin = fmax; Imax = (d**p+fmax**p)**(1/p)\n",
    "            for i in range(n):\n",
    "                I = (Imin+Imax)/2\n",
    "                g = (I**p-fx**p)**(1/p)+(I**p-fy**p)**(1/p)\n",
    "                if g<d:\n",
    "                    Imin=I\n",
    "                else:\n",
    "                    Imax=I\n",
    "            value = I\n",
    "    return value\n",
    "def WeightedRipsFiltration(X, F, p, dimension_max , filtration_max):\n",
    "    N_tot = X.shape[0]     \n",
    "    distances = euclidean_distances(X)         \n",
    "    st = gudhi.SimplexTree()                    \n",
    "\n",
    "    for i in range(N_tot):                  \n",
    "        value = F[i]\n",
    "        if value<filtration_max:\n",
    "            st.insert([i], filtration = F[i])            \n",
    "    for i in range(N_tot):                  \n",
    "        for j in range(i):\n",
    "            value = Filtration_value(p, F[i], F[j], distances[i][j])\n",
    "            if value<filtration_max:\n",
    "                st.insert([i,j], filtration  = value)\n",
    "    \n",
    "    st.expansion(dimension_max)                \n",
    " \n",
    "    result_str = 'Weighted Rips Complex is of dimension ' + repr(st.dimension()) + ' - ' + \\\n",
    "        repr(st.num_simplices()) + ' simplices - ' + \\\n",
    "        repr(st.num_vertices()) + ' vertices.' +\\\n",
    "        ' Filtration maximal value is ' + str(filtration_max) + '.'\n",
    "    print(result_str)\n",
    "\n",
    "    return st\n",
    "def DTMFiltration(X, m, p, dimension_max, filtration_max = 8):\n",
    "    \n",
    "    DTM_values = DTM(X,X,m)\n",
    "    st = WeightedRipsFiltration(X, DTM_values, p, dimension_max, filtration_max)\n",
    "    return st\n",
    "def AlphaWeightedRipsFiltration(X, F, p,dimension_max, filtration_max):\n",
    "    N_tot = X.shape[0]     \n",
    "    distances = euclidean_distances(X)          #compute the pairwise distances\n",
    "\n",
    "    st_alpha = gudhi.AlphaComplex(points=X).create_simplex_tree()    \n",
    "    st = gudhi.SimplexTree()                   #create an empty simplex tree\n",
    "    \n",
    "    for simplex in st_alpha.get_skeleton(2):            #add vertices with corresponding filtration value\n",
    "        if len(simplex[0])==1:\n",
    "            i = simplex[0][0]\n",
    "            st.insert([i], filtration  = F[i])\n",
    "        if len(simplex[0])==2:                     #add edges with corresponding filtration value\n",
    "            i = simplex[0][0]\n",
    "            j = simplex[0][1]\n",
    "            value = Filtration_value(p, F[i], F[j], distances[i][j])\n",
    "            st.insert([i,j], filtration  = value)\n",
    "\n",
    "    st.expansion(dimension_max)                 #expand the complex\n",
    "\n",
    "    result_str = 'Alpha Weighted Rips Complex is of dimension ' + repr(st.dimension()) + ' - ' + \\\n",
    "        repr(st.num_simplices()) + ' simplices - ' + \\\n",
    "        repr(st.num_vertices()) + ' vertices.' +\\\n",
    "        ' Filtration maximal value is ' + str(filtration_max) + '.'\n",
    "    print(result_str)\n",
    "\n",
    "    return st\n",
    "def AlphaDTMFiltration(X, m, p, dimension_max, filtration_max = 8):\n",
    "    DTM_values = DTM(X,X,m)\n",
    "    st = AlphaWeightedRipsFiltration(X, DTM_values, p, dimension_max, filtration_max)\n",
    "    return st"
   ]
  },
  {
   "cell_type": "code",
   "execution_count": 28,
   "metadata": {},
   "outputs": [],
   "source": [
    "def fil(l,X):\n",
    " p ,m= 1,.1\n",
    " dimension_max = 3     \n",
    " st_DTM = DTMFiltration(l, m, p, dimension_max) \n",
    " diagram_DTM = st_DTM.persistence()  \n",
    " st_alpha = gudhi.AlphaComplex(points=l).create_simplex_tree()  \n",
    " diagram_alpha = st_alpha.persistence()  \n",
    " b1,b2,b3=0,0,0;\n",
    " for i in range(len(diagram_DTM)):\n",
    "        if(diagram_DTM[i][0]==2):\n",
    "            if(diagram_DTM[i][1][1]-diagram_DTM[i][1][0]>.1):\n",
    "                b1+=1\n",
    "        if(diagram_DTM[i][0]==1):\n",
    "            if(diagram_DTM[i][1][1]-diagram_DTM[i][1][0]>.1):\n",
    "                b2+=1\n",
    "        if(diagram_DTM[i][0]==0):\n",
    "            if(diagram_DTM[i][1][1]-diagram_DTM[i][1][0]>.1):\n",
    "                b3+=1\n",
    " if(b1!=0):\n",
    "  X.append(b1)\n",
    " if(b2!=0):\n",
    "  X.append(b2)\n",
    " if(b3!=0):\n",
    "  X.append(b3)\n",
    " \n",
    " b1,b2,b3=0,0,0;\n",
    " for i in range(len(diagram_alpha)):\n",
    "        if(diagram_alpha[i][0]==2):\n",
    "            if(diagram_alpha[i][1][1]-diagram_alpha[i][1][0]>.1):\n",
    "                b1+=1\n",
    "        if(diagram_alpha[i][0]==1):\n",
    "            if(diagram_alpha[i][1][1]-diagram_alpha[i][1][0]>.1):\n",
    "                b2+=1\n",
    "        if(diagram_alpha[i][0]==0):\n",
    "            if(diagram_alpha[i][1][1]-diagram_alpha[i][1][0]>.1):\n",
    "                b3+=1\n",
    " if(b1!=0):\n",
    "  X.append(b1)\n",
    " if(b2!=0):\n",
    "  X.append(b2)\n",
    " if(b3!=0):\n",
    "  X.append(b3) \n",
    "  "
   ]
  },
  {
   "cell_type": "code",
   "execution_count": 29,
   "metadata": {},
   "outputs": [
    {
     "name": "stdout",
     "output_type": "stream",
     "text": [
      "Weighted Rips Complex is of dimension 3 - 26090 simplices - 1526 vertices. Filtration maximal value is 8.\n",
      "Weighted Rips Complex is of dimension 3 - 30327 simplices - 1560 vertices. Filtration maximal value is 8.\n",
      "Weighted Rips Complex is of dimension 3 - 31079 simplices - 1558 vertices. Filtration maximal value is 8.\n",
      "Weighted Rips Complex is of dimension 3 - 27180 simplices - 1514 vertices. Filtration maximal value is 8.\n",
      "Weighted Rips Complex is of dimension 3 - 27120 simplices - 1526 vertices. Filtration maximal value is 8.\n",
      "Weighted Rips Complex is of dimension 3 - 59600 simplices - 1601 vertices. Filtration maximal value is 8.\n",
      "Weighted Rips Complex is of dimension 3 - 52376 simplices - 1600 vertices. Filtration maximal value is 8.\n",
      "Weighted Rips Complex is of dimension 3 - 59600 simplices - 1601 vertices. Filtration maximal value is 8.\n",
      "Weighted Rips Complex is of dimension 3 - 52376 simplices - 1600 vertices. Filtration maximal value is 8.\n"
     ]
    }
   ],
   "source": [
    "fil(l1,X)\n",
    "fil(l2,X1)\n",
    "fil(l3,X2)\n",
    "fil(l4,X3)\n",
    "fil(l5,X4)\n",
    "fil(l6,X5)\n",
    "fil(l7,X6)\n",
    "fil(l6,X7)\n",
    "fil(l7,X8)"
   ]
  },
  {
   "cell_type": "code",
   "execution_count": 30,
   "metadata": {},
   "outputs": [
    {
     "name": "stdout",
     "output_type": "stream",
     "text": [
      "[1884, 613, 80, 9, 196, 1526, 369, 1587, 1884]\n",
      "[1884, 601, 87, 11, 216, 1560, 337, 1607, 1884]\n",
      "[1884, 618, 89, 8, 225, 1558, 357, 1621, 1884]\n",
      "[1884, 625, 78, 7, 200, 1514, 354, 1627, 1884]\n",
      "[1884, 625, 82, 14, 201, 1526, 383, 1614, 1884]\n"
     ]
    }
   ],
   "source": [
    "print(X)\n",
    "print(X1)\n",
    "print(X2)\n",
    "print(X3)\n",
    "print(X4)"
   ]
  },
  {
   "cell_type": "code",
   "execution_count": 31,
   "metadata": {},
   "outputs": [
    {
     "name": "stdout",
     "output_type": "stream",
     "text": [
      "[1918, 657, 100, 16, 272, 1601, 381, 1682, 1918]\n",
      "[1918, 642, 103, 11, 275, 1600, 374, 1721, 1916]\n",
      "[1918, 665, 95, 16, 272, 1601, 381, 1682, 1918]\n",
      "[1918, 678, 94, 11, 275, 1600, 374, 1721, 1916]\n"
     ]
    }
   ],
   "source": [
    "print(X5)\n",
    "print(X6)\n",
    "print(X7)\n",
    "print(X8)"
   ]
  },
  {
   "cell_type": "code",
   "execution_count": 37,
   "metadata": {},
   "outputs": [],
   "source": [
    "x=[]\n",
    "x1=[]\n",
    "x.append(X)\n",
    "x.append(X1)\n",
    "x.append(X3)\n",
    "x.append(X4)\n",
    "x1.append(X5)\n",
    "x1.append(X6)\n",
    "x1.append(X7)\n",
    "x1.append(X8)"
   ]
  },
  {
   "cell_type": "code",
   "execution_count": 16,
   "metadata": {},
   "outputs": [],
   "source": [
    "def fil(l,X,k):\n",
    " p ,m= 1,.1\n",
    " dimension_max = 3     \n",
    " st_DTM = DTMFiltration(l, m, p, dimension_max) \n",
    " diagram_DTM = st_DTM.persistence()  \n",
    " st_alpha = gudhi.AlphaComplex(points=l).create_simplex_tree()  \n",
    " diagram_alpha = st_alpha.persistence()  \n",
    " b1,b2,b3=0,0,0;\n",
    " for i in range(len(diagram_DTM)):\n",
    "        if(diagram_DTM[i][0]==2):\n",
    "            if(diagram_DTM[i][1][1]-diagram_DTM[i][1][0]>.1):\n",
    "                b1+=1\n",
    "        if(diagram_DTM[i][0]==1):\n",
    "            if(diagram_DTM[i][1][1]-diagram_DTM[i][1][0]>.1):\n",
    "                b2+=1\n",
    "        if(diagram_DTM[i][0]==0):\n",
    "            if(diagram_DTM[i][1][1]-diagram_DTM[i][1][0]>.1):\n",
    "                b3+=1\n",
    " if(b1!=0):\n",
    "  X[k].append(b1)\n",
    " if(b2!=0):\n",
    "  X[k].append(b2)\n",
    " if(b3!=0):\n",
    "  X[k].append(b3)\n",
    " \n",
    " b1,b2,b3=0,0,0;\n",
    " for i in range(len(diagram_alpha)):\n",
    "        if(diagram_alpha[i][0]==2):\n",
    "            if(diagram_alpha[i][1][1]-diagram_alpha[i][1][0]>.1):\n",
    "                b1+=1\n",
    "        if(diagram_alpha[i][0]==1):\n",
    "            if(diagram_alpha[i][1][1]-diagram_alpha[i][1][0]>.1):\n",
    "                b2+=1\n",
    "        if(diagram_alpha[i][0]==0):\n",
    "            if(diagram_alpha[i][1][1]-diagram_alpha[i][1][0]>.1):\n",
    "                b3+=1\n",
    " if(b1!=0):\n",
    "  X[k].append(b1)\n",
    " if(b2!=0):\n",
    "  X[k].append(b2)\n",
    " if(b3!=0):\n",
    "  X[k].append(b3) \n",
    "  "
   ]
  },
  {
   "cell_type": "code",
   "execution_count": 17,
   "metadata": {},
   "outputs": [
    {
     "name": "stdout",
     "output_type": "stream",
     "text": [
      "Weighted Rips Complex is of dimension 3 - 39011 simplices - 1584 vertices. Filtration maximal value is 8.\n",
      "Weighted Rips Complex is of dimension 3 - 31046 simplices - 1568 vertices. Filtration maximal value is 8.\n",
      "Weighted Rips Complex is of dimension 3 - 37272 simplices - 1598 vertices. Filtration maximal value is 8.\n",
      "Weighted Rips Complex is of dimension 3 - 36590 simplices - 1598 vertices. Filtration maximal value is 8.\n",
      "Weighted Rips Complex is of dimension 3 - 34456 simplices - 1609 vertices. Filtration maximal value is 8.\n",
      "Weighted Rips Complex is of dimension 3 - 40104 simplices - 1596 vertices. Filtration maximal value is 8.\n",
      "Weighted Rips Complex is of dimension 3 - 38633 simplices - 1593 vertices. Filtration maximal value is 8.\n",
      "Weighted Rips Complex is of dimension 3 - 34847 simplices - 1602 vertices. Filtration maximal value is 8.\n",
      "Weighted Rips Complex is of dimension 3 - 37653 simplices - 1578 vertices. Filtration maximal value is 8.\n",
      "Weighted Rips Complex is of dimension 3 - 64026 simplices - 1625 vertices. Filtration maximal value is 8.\n",
      "Weighted Rips Complex is of dimension 3 - 37237 simplices - 1576 vertices. Filtration maximal value is 8.\n",
      "Weighted Rips Complex is of dimension 3 - 37237 simplices - 1576 vertices. Filtration maximal value is 8.\n",
      "Weighted Rips Complex is of dimension 3 - 36139 simplices - 1572 vertices. Filtration maximal value is 8.\n",
      "Weighted Rips Complex is of dimension 3 - 40954 simplices - 1607 vertices. Filtration maximal value is 8.\n",
      "Weighted Rips Complex is of dimension 3 - 38401 simplices - 1586 vertices. Filtration maximal value is 8.\n",
      "Weighted Rips Complex is of dimension 3 - 26090 simplices - 1526 vertices. Filtration maximal value is 8.\n",
      "Weighted Rips Complex is of dimension 3 - 32256 simplices - 1565 vertices. Filtration maximal value is 8.\n",
      "Weighted Rips Complex is of dimension 3 - 27120 simplices - 1526 vertices. Filtration maximal value is 8.\n",
      "Weighted Rips Complex is of dimension 3 - 28965 simplices - 1555 vertices. Filtration maximal value is 8.\n",
      "Weighted Rips Complex is of dimension 3 - 30291 simplices - 1559 vertices. Filtration maximal value is 8.\n",
      "Weighted Rips Complex is of dimension 3 - 25889 simplices - 1497 vertices. Filtration maximal value is 8.\n",
      "Weighted Rips Complex is of dimension 3 - 35820 simplices - 1561 vertices. Filtration maximal value is 8.\n",
      "Weighted Rips Complex is of dimension 3 - 30327 simplices - 1560 vertices. Filtration maximal value is 8.\n",
      "Weighted Rips Complex is of dimension 3 - 31079 simplices - 1558 vertices. Filtration maximal value is 8.\n",
      "Weighted Rips Complex is of dimension 3 - 27180 simplices - 1514 vertices. Filtration maximal value is 8.\n",
      "Weighted Rips Complex is of dimension 3 - 26610 simplices - 1538 vertices. Filtration maximal value is 8.\n",
      "Weighted Rips Complex is of dimension 3 - 26952 simplices - 1526 vertices. Filtration maximal value is 8.\n",
      "Weighted Rips Complex is of dimension 3 - 28464 simplices - 1540 vertices. Filtration maximal value is 8.\n",
      "Weighted Rips Complex is of dimension 3 - 29320 simplices - 1520 vertices. Filtration maximal value is 8.\n",
      "Weighted Rips Complex is of dimension 3 - 26401 simplices - 1546 vertices. Filtration maximal value is 8.\n"
     ]
    }
   ],
   "source": [
    "k=0\n",
    "for i in list1:\n",
    "    i=np.array(i)\n",
    "    fil(i,X,k)\n",
    "    k+=1"
   ]
  },
  {
   "cell_type": "code",
   "execution_count": 18,
   "metadata": {},
   "outputs": [],
   "source": [
    "import matplotlib.pyplot as plt\n",
    "import pandas as pd\n",
    "from sklearn.decomposition import PCA as sklearnPCA\n",
    "from sklearn.discriminant_analysis import LinearDiscriminantAnalysis as LDA\n",
    "from sklearn.datasets.samples_generator import make_blobs"
   ]
  },
  {
   "cell_type": "code",
   "execution_count": 24,
   "metadata": {},
   "outputs": [
    {
     "ename": "NameError",
     "evalue": "name 'x' is not defined",
     "output_type": "error",
     "traceback": [
      "\u001b[1;31m---------------------------------------------------------------------------\u001b[0m",
      "\u001b[1;31mNameError\u001b[0m                                 Traceback (most recent call last)",
      "\u001b[1;32m<ipython-input-24-cce14e84c416>\u001b[0m in \u001b[0;36m<module>\u001b[1;34m\u001b[0m\n\u001b[1;32m----> 1\u001b[1;33m \u001b[1;32mfor\u001b[0m \u001b[0mk\u001b[0m \u001b[1;32min\u001b[0m \u001b[0mx\u001b[0m\u001b[1;33m:\u001b[0m\u001b[1;33m\u001b[0m\u001b[1;33m\u001b[0m\u001b[0m\n\u001b[0m\u001b[0;32m      2\u001b[0m    \u001b[1;32mfor\u001b[0m \u001b[0ml\u001b[0m \u001b[1;32min\u001b[0m \u001b[0mrange\u001b[0m\u001b[1;33m(\u001b[0m\u001b[0mlen\u001b[0m\u001b[1;33m(\u001b[0m\u001b[0mk\u001b[0m\u001b[1;33m)\u001b[0m\u001b[1;33m)\u001b[0m\u001b[1;33m:\u001b[0m\u001b[1;33m\u001b[0m\u001b[1;33m\u001b[0m\u001b[0m\n\u001b[0;32m      3\u001b[0m      \u001b[0mk\u001b[0m\u001b[1;33m[\u001b[0m\u001b[0ml\u001b[0m\u001b[1;33m]\u001b[0m\u001b[1;33m=\u001b[0m\u001b[0mk\u001b[0m\u001b[1;33m[\u001b[0m\u001b[0ml\u001b[0m\u001b[1;33m]\u001b[0m\u001b[1;33m/\u001b[0m\u001b[0msum\u001b[0m\u001b[1;33m(\u001b[0m\u001b[0mk\u001b[0m\u001b[1;33m)\u001b[0m\u001b[1;33m\u001b[0m\u001b[1;33m\u001b[0m\u001b[0m\n\u001b[0;32m      4\u001b[0m \u001b[1;32mfor\u001b[0m \u001b[0mk\u001b[0m \u001b[1;32min\u001b[0m \u001b[0mx1\u001b[0m\u001b[1;33m:\u001b[0m\u001b[1;33m\u001b[0m\u001b[1;33m\u001b[0m\u001b[0m\n\u001b[0;32m      5\u001b[0m    \u001b[1;32mfor\u001b[0m \u001b[0ml\u001b[0m \u001b[1;32min\u001b[0m \u001b[0mrange\u001b[0m\u001b[1;33m(\u001b[0m\u001b[0mlen\u001b[0m\u001b[1;33m(\u001b[0m\u001b[0mk\u001b[0m\u001b[1;33m)\u001b[0m\u001b[1;33m)\u001b[0m\u001b[1;33m:\u001b[0m\u001b[1;33m\u001b[0m\u001b[1;33m\u001b[0m\u001b[0m\n",
      "\u001b[1;31mNameError\u001b[0m: name 'x' is not defined"
     ]
    }
   ],
   "source": [
    "for k in x:\n",
    "   for l in range(len(k)):\n",
    "     k[l]=k[l]/sum(k)\n",
    "for k in x1:\n",
    "   for l in range(len(k)):\n",
    "     k[l]=k[l]/sum(k)"
   ]
  },
  {
   "cell_type": "code",
   "execution_count": 19,
   "metadata": {},
   "outputs": [],
   "source": [
    "for k in X:\n",
    "   for l in range(len(k)):\n",
    "     k[l]=k[l]/sum(k)"
   ]
  },
  {
   "cell_type": "code",
   "execution_count": 31,
   "metadata": {},
   "outputs": [
    {
     "data": {
      "image/png": "[encoded data removed]",
      "text/plain": [
       "<Figure size 432x288 with 1 Axes>"
      ]
     },
     "metadata": {
      "needs_background": "light"
     },
     "output_type": "display_data"
    }
   ],
   "source": [
    "import pylab as pl\n",
    "for i in range(15):\n",
    "    pca_2d=[max(X[i]),min(X[i])]\n",
    "    pl.scatter(pca_2d[0],pca_2d[1],c='r', marker='o')\n",
    "for i in range(15,30,1):\n",
    "    pca_2d1=[max(X[i]),min(X[i])]\n",
    "    pl.scatter(pca_2d1[0],pca_2d1[1],c='g', marker='*')\n",
    "pl.title('Influenza Virus protien & bound to rudandamine')\n",
    "plt.plot(pca_2d[0],pca_2d[1],c='r',label='IVP')\n",
    "plt.plot(pca_2d1[0],pca_2d1[1],c='g',label='IVP-R')\n",
    "pl.legend()\n",
    "pl.show()"
   ]
  },
  {
   "cell_type": "code",
   "execution_count": 32,
   "metadata": {},
   "outputs": [],
   "source": [
    "Y=[]\n",
    "for i in range(15):\n",
    "    Y.append(0)\n",
    "for i in range(15,30,1):\n",
    "    Y.append(1)"
   ]
  },
  {
   "cell_type": "code",
   "execution_count": 35,
   "metadata": {},
   "outputs": [
    {
     "name": "stdout",
     "output_type": "stream",
     "text": [
      "Accuracy: 1.0\n"
     ]
    }
   ],
   "source": [
    "from sklearn import metrics\n",
    "from sklearn.tree import DecisionTreeClassifier\n",
    "X_train, X_test, y_train, y_test = train_test_split(X, Y, test_size=0.3, random_state=0)\n",
    "clf = DecisionTreeClassifier()\n",
    "clf = clf.fit(X_train,y_train)\n",
    "y_pred = clf.predict(X_test)\n",
    "print(\"Accuracy:\",metrics.accuracy_score(y_test, y_pred))"
   ]
  },
  {
   "cell_type": "code",
   "execution_count": 36,
   "metadata": {},
   "outputs": [
    {
     "name": "stdout",
     "output_type": "stream",
     "text": [
      "Accuracy: 1.0\n",
      "Accuracy: 1.0\n",
      "Accuracy: 1.0\n",
      "Accuracy: 1.0\n",
      "Accuracy: 1.0\n",
      "Accuracy: 1.0\n"
     ]
    }
   ],
   "source": [
    "from sklearn import metrics\n",
    "from sklearn.tree import DecisionTreeClassifier\n",
    "from sklearn.model_selection import KFold\n",
    "z=0\n",
    "for i in range(5):\n",
    "    X_train, X_test, y_train, y_test = train_test_split(X, Y, test_size=0.2, random_state=0)\n",
    "    clf = DecisionTreeClassifier()\n",
    "    clf = clf.fit(X_train,y_train)\n",
    "    y_pred = clf.predict(X_test)\n",
    "    print(\"Accuracy:\",metrics.accuracy_score(y_test, y_pred))\n",
    "    z+=metrics.accuracy_score(y_test, y_pred)\n",
    "print(\"Accuracy:\",z/5)"
   ]
  },
  {
   "cell_type": "code",
   "execution_count": 38,
   "metadata": {},
   "outputs": [
    {
     "name": "stderr",
     "output_type": "stream",
     "text": [
      "C:\\ProgramData\\Anaconda3\\lib\\site-packages\\sklearn\\svm\\base.py:193: FutureWarning: The default value of gamma will change from 'auto' to 'scale' in version 0.22 to account better for unscaled features. Set gamma explicitly to 'auto' or 'scale' to avoid this warning.\n",
      "  \"avoid this warning.\", FutureWarning)\n"
     ]
    },
    {
     "name": "stdout",
     "output_type": "stream",
     "text": [
      "Accuracy: 1.0\n"
     ]
    },
    {
     "name": "stderr",
     "output_type": "stream",
     "text": [
      "C:\\ProgramData\\Anaconda3\\lib\\site-packages\\sklearn\\svm\\base.py:193: FutureWarning: The default value of gamma will change from 'auto' to 'scale' in version 0.22 to account better for unscaled features. Set gamma explicitly to 'auto' or 'scale' to avoid this warning.\n",
      "  \"avoid this warning.\", FutureWarning)\n"
     ]
    },
    {
     "name": "stdout",
     "output_type": "stream",
     "text": [
      "Accuracy: 1.0\n"
     ]
    },
    {
     "name": "stderr",
     "output_type": "stream",
     "text": [
      "C:\\ProgramData\\Anaconda3\\lib\\site-packages\\sklearn\\svm\\base.py:193: FutureWarning: The default value of gamma will change from 'auto' to 'scale' in version 0.22 to account better for unscaled features. Set gamma explicitly to 'auto' or 'scale' to avoid this warning.\n",
      "  \"avoid this warning.\", FutureWarning)\n"
     ]
    },
    {
     "name": "stdout",
     "output_type": "stream",
     "text": [
      "Accuracy: 1.0\n"
     ]
    },
    {
     "name": "stderr",
     "output_type": "stream",
     "text": [
      "C:\\ProgramData\\Anaconda3\\lib\\site-packages\\sklearn\\svm\\base.py:193: FutureWarning: The default value of gamma will change from 'auto' to 'scale' in version 0.22 to account better for unscaled features. Set gamma explicitly to 'auto' or 'scale' to avoid this warning.\n",
      "  \"avoid this warning.\", FutureWarning)\n"
     ]
    },
    {
     "name": "stdout",
     "output_type": "stream",
     "text": [
      "Accuracy: 1.0\n"
     ]
    },
    {
     "name": "stderr",
     "output_type": "stream",
     "text": [
      "C:\\ProgramData\\Anaconda3\\lib\\site-packages\\sklearn\\svm\\base.py:193: FutureWarning: The default value of gamma will change from 'auto' to 'scale' in version 0.22 to account better for unscaled features. Set gamma explicitly to 'auto' or 'scale' to avoid this warning.\n",
      "  \"avoid this warning.\", FutureWarning)\n"
     ]
    },
    {
     "name": "stdout",
     "output_type": "stream",
     "text": [
      "Accuracy: 1.0\n",
      "Accuracy: 1.0\n"
     ]
    }
   ],
   "source": [
    "from sklearn import metrics\n",
    "from sklearn import svm\n",
    "from sklearn.model_selection import KFold\n",
    "z=0\n",
    "for i in range(5):\n",
    "    X_train, X_test, y_train, y_test = train_test_split(X, Y, test_size=0.2, random_state=0)\n",
    "    clf = svm.SVC()\n",
    "    clf = clf.fit(X_train,y_train)\n",
    "    y_pred = clf.predict(X_test)\n",
    "    print(\"Accuracy:\",metrics.accuracy_score(y_test, y_pred))\n",
    "    z+=metrics.accuracy_score(y_test, y_pred)\n",
    "print(\"Accuracy:\",z/5)"
   ]
  },
  {
   "cell_type": "code",
   "execution_count": 24,
   "metadata": {},
   "outputs": [
    {
     "name": "stdout",
     "output_type": "stream",
     "text": [
      "24\n"
     ]
    }
   ],
   "source": [
    "print(len(X[0]))"
   ]
  },
  {
   "cell_type": "code",
   "execution_count": 25,
   "metadata": {},
   "outputs": [
    {
     "name": "stdout",
     "output_type": "stream",
     "text": [
      " weithted  graph with pc as graph weight\n"
     ]
    },
    {
     "name": "stdout",
     "output_type": "stream",
     "text": [
      "[[1.0, -0.09464429470732173, 0.005720358475080889, 0.006899901006931657, 0.006069678034941622, 0.00022578531575495058, -0.0008262215436830533, 0.0005644216862593879, 5.721942013850598e-06, 0.0013729845308092547, 0.0013735815074679897, 0.00014205479517956864, 0.0001420764606463949, -0.00019360933196002164, -0.0001936189633058628, 0.0006872162652254142, 0.003614548169456343, 0.0027274264897550362, -0.09971694091974932, -1.6470640033612955, -0.8603948276913367, -0.34905132668308586, -1.1856799310157817, 0.0012462229491307121], [-0.3232567654072151, 1.0, -0.3790995628513863, 0.0003952014251472425, 0.0020085009310237046, 0.0006560323543468291, 0.003383494196589728, -0.0001618003299462427, -0.002957702839391085, -0.00019240684618551763, -0.00019249165827335066, -7.893421228473679e-05, -7.894551027890286e-05, 8.513973126726916e-05, 8.514421446204947e-05, -9.630699614314629e-05, -0.0005659568338906735, -0.00036231507326813135, 0.0033609855011192988, 0.8820344815964364, 0.5802501748289065, -0.06352658186474552, -0.30487020304232565, -0.0008826162747650378], [0.017588903298353532, -0.3412837543959848, 1.0, 0.0034747649389971643, 0.0023897659181520373, 0.0009272981134753061, -0.0010411960239085822, -0.004252604084819765, 9.404284474246816e-05, -2.0022826797649966e-05, -2.0023506627718765e-05, -0.0006616600697798085, -0.0006617607114536379, 4.652678393929763e-06, 4.6525601333487635e-06, -1.0156190863383077e-05, 8.939567277289347e-05, -0.00037553071147084654, 0.0033369688547031633, -0.5922698888263223, -1.4716434648382455, 1.151280216459842, 0.37558243905912914, 0.0005220255572077926], [48.55505971093246, 0.8142484694241623, 7.952460991920281, 1.0, 0.7309337370681436, -0.08068338926479694, -0.24691712285150452, 0.08437519691542066, 0.06682100605460913, 0.061321899449055785, 0.06134892412402374, -0.007473724913708842, -0.0074748193096834895, -0.0045914602393156865, -0.00459170230146359, 0.03069159761127716, 0.16176201089690934, 0.042387409733312294, -3.4975494070466446, -85.87514474684743, -86.3748026682257, 14.783362772894934, -47.62983016211989, 0.0876063811475108], [56.81097679978267, 5.504089099132334, 7.274555292234588, 0.9721940908569785, 1.0, -0.07120378956912003, -0.13421713613569286, 0.01407993523796889, 0.03598695172734866, 0.07785429626468067, 0.0778884016384546, -0.009103359437622449, -0.009104741325741175, -0.006257987543934354, -0.006258331395026944, 0.0389657321516359, 0.20828280579523692, 0.06069636611455584, -5.0516666565094965, -98.96061385110767, -97.39115571565802, 25.018003255338485, -65.01652095313241, 0.08261593573510286], [1.9461713416990494, 1.6556077636293287, 2.599496517098392, -0.09882751613117788, -0.06557252171330692, 1.0, 0.5260429543764786, 0.007898537385988658, 0.0030918287541982785, 0.00041175465503916724, 0.00041208202175708076, 0.029215317118197123, 0.029219775253820284, 0.011246664032240316, 0.011247231838009379, 0.00021517905745497244, -0.011719411486957827, 0.08531922628989216, 5.124985161054544, 9.623397377053882, 45.5066865229803, -45.158448069739, -24.979643387843854, 0.010827126307734056], [-8.26035663954217, 9.904089026006282, -3.385472328920608, -0.3508018366950743, -0.1433651684061242, 0.6101521023700885, 1.0, -0.10503839617174084, -0.16270378030237828, -0.007249873520098527, -0.007253151504613852, 0.030110196527990744, 0.030114768911786452, -0.00197573530732433, -0.001975858961513021, -0.003622738216963449, -0.031437380268476194, 0.05247507253068166, 3.277523415425886, 22.117281103672294, 51.709838907951394, -37.722454957203496, -10.143212389311469, -0.020956300284443997], [6.978793577209939, -0.5857372986256643, -17.10078697371867, 0.14825174966757482, 0.018599904574235562, 0.011330210001629124, -0.1299039806521158, 1.0, 0.3747323477212737, 0.006786782490768531, 0.006789695747993192, 0.035024973638167, 0.03503029680177992, 0.04356119082675818, 0.04356339409877608, 0.0034142730194583037, -0.006390290478956889, 0.08826050612978982, 0.16028800262189893, 40.83327632577217, 79.93578827666391, -59.78039738746292, -61.30067385574495, 0.00037721751785866584], [0.21055311164240845, -31.865414067858175, 1.1254558259827356, 0.34941342656535435, 0.14148052772759237, 0.01319921989182157, -0.5988438198423246, 1.1152256122231226, 1.0, -0.007889686836521042, -0.007893074256113485, 0.03498428208835104, 0.03498959308798877, 0.06385900660306396, 0.06386221667035524, -0.003927364873346045, -0.06758226517511959, -0.05250546991793506, -2.4530635736009803, 64.60743610268474, 62.80783796428648, -49.91359016721782, -36.583687861667975, 0.001256052764023441], [704.1741511482317, -28.892277137413092, -3.339829601079512, 4.469288612067195, 4.266093957915794, 0.024500083980918654, -0.37191404677574896, 0.28151510653375067, -0.10996538227288462, 1.0, 1.000434181866206, 0.11214874513057274, 0.11216575431128485, -0.12306480231817378, -0.12307090781981021, 0.5005322307112356, 2.584576586941083, 1.9487038263388865, -80.31971535354239, -1120.6112451086801, -569.977945068237, -251.4529733412139, -893.9042025563048, 0.7786745049463941], [703.8689805911338, -28.87992899695821, -3.3370445997818763, 4.467378084427455, 4.26425905963298, 0.024498284803024527, -0.3717593129629233, 0.28139154490395407, -0.10991712689477746, 0.9995660065299569, 1.0, 0.11209886556710724, 0.11211586718477977, -0.12301165307582487, -0.12301775594158432, 0.500315002714349, 2.5834556899990666, 1.9478568669641623, -80.28471708254834, -1120.1263803818829, -569.7337665050745, -251.34240443529228, -893.5158981451482, 0.7783398415141646], [208.8461190666515, -33.976810390823935, -316.3660860027708, -1.5614065148791958, -1.4298997817139616, 4.983055637639747, 4.427737012301951, 4.164584393443597, 1.3977363686415163, 0.32147743513107707, 0.3216135497760641, 1.0, 1.0001518963726106, 0.29103852697166976, 0.29105321588883865, 0.16118981140254823, 0.29955473832016105, 2.026180730920213, -40.850338263394086, 589.9193793326897, 1385.3499246977692, -1299.843877931615, -1047.5777999495751, -0.16177228249908188], [208.8145300444476, -33.97135251769494, -316.3181043584503, -1.5611608501184444, -1.4296824800521175, 4.982302328880958, 4.427064374085951, 4.163952260496558, 1.3975239705338751, 0.3214285373357092, 0.32156463128295953, 0.9998481266912834, 1.0, 0.29099437503004727, 0.29100906171932756, 0.16116529397930324, 0.2995092656144616, 2.0258745841038586, -40.84407187241099, 589.8297728653278, 1385.1392554240208, -1299.6472292763553, -1047.4186216301116, -0.16174647078250892], [-427.45626711788043, 55.03569987848788, 3.3408187965584695, -1.4405375972345371, -1.4761602104363714, 2.880737888864015, -0.43630669788502524, 7.778367982420729, 3.831504580019752, -0.5297669073958496, -0.5299980431327922, 0.43706434109684994, 0.43713080325624293, 1.0, 1.000050290145254, -0.26485352979984605, -1.9345280168159773, -0.2699801679195577, 48.641356323227, 1407.9394695716942, 1422.363081021821, -546.0066239797384, -308.0786415559237, -0.8188496900805202], [-427.4345389070789, 55.033062507219995, 3.340397893828936, -1.440468656083669, -1.4760928498766472, 2.8805935892692265, -0.43629012146302687, 7.7779790716967945, 3.831311818089629, -0.5297399075006204, -0.5299710314617581, 0.4370424410752356, 0.43710889990505025, 0.999949712378043, 1.0, -0.2648400311536235, -1.934429544694177, -0.2699627085491501, 48.63888080855272, 1407.8677088551772, 1422.2918961859605, -545.9803428557515, -308.0628081122359, -0.8188081474810617], [1406.8367488675801, -57.723801930720306, -6.761851244274974, 8.928492484437088, 8.522490254395944, 0.05110517687418495, -0.7417967796028376, 0.5652907248001355, -0.21849088011233347, 1.9978730460779648, 1.9987404852167685, 0.2244488323759711, 0.22448287381185156, -0.24557866675098636, -0.24559085021347551, 1.0, 5.163384223941581, 3.8938399395490046, -160.47104760701592, -2238.391913975513, -1138.0525134000345, -502.8739538330975, -1786.2972859080953, 1.5555028495931977], [253.9636007011002, -11.642535845413558, 2.0427651515046774, 1.6151109577024345, 1.563523008588202, -0.09552958320243211, -0.2209334753281205, -0.036312938852287834, -0.12904226919933592, 0.35407268975829786, 0.35422653035088936, 0.014316047862941484, 0.014318223454321275, -0.061564035579638576, -0.06156709379181729, 0.17721546893790774, 1.0, 0.7449962000489353, -25.679265936076746, -461.50794158375703, -253.65122579802724, -35.136293924537995, -289.20921700079725, 0.30861078793885405], [138.0080794678208, -5.367656016288293, -6.179899354366297, 0.3047871853837263, 0.3281312151212603, 0.50085612248579, 0.2655841924167246, 0.3611945683877884, -0.07220009949685906, 0.19225730983644188, 0.19234066255987986, 0.06973633638798718, 0.0697469833415818, -0.006187538564837521, -0.006187760742260279, 0.0962452442776273, 0.5365226444391592, 1.0, -17.222912254480214, -171.2586898174393, 9.923013670425023, -191.3203814957486, -207.45867280748917, 0.1647059902757657], [-2.6263306604629353, 0.025917548033273525, 0.028583611092938974, -0.0130903929175608, -0.014215054858205567, 0.01565985331201364, 0.0086342372235182, 0.0003414324647468921, -0.0017557838447856326, -0.004124660263613623, -0.004126443918631332, -0.0007318222390212412, -0.0007319322834709206, 0.0005802574576353233, 0.0005802862874359029, -0.0020645569650035583, -0.009625994354664378, -0.008964696432509266, 1.0, 1.9055132823402834, 1.6373155783878874, 2.044839872955098, 3.9711315496833124, -0.0015105608139956053], [-0.40712040279577005, 0.06383292882390677, -0.047612011461977764, -0.003016395201775298, -0.00261341374194833, 0.00027596590656808615, 0.000546816796376759, 0.0008163003047474699, 0.00043398696634486885, -0.0005400735809443118, -0.000540308781735787, 9.918238424710381e-05, 9.919744742790773e-05, 0.0001576271318550398, 0.0001576349515935403, -0.0002702702514816812, -0.001623581564693577, -0.0008365916988713419, 0.017883145714951785, 1.0, 0.6505549208414793, -0.16403841152783347, 0.27128054716238625, -0.00061336405448355], [-0.28755002663442203, 0.05677768976044481, -0.1599568015686559, -0.004102145466234418, -0.003477511211363925, 0.0017644341553557162, 0.0017285682142090854, 0.002160629107346951, 0.0005704416842273294, -0.00037141482764743554, -0.00037157816852551615, 0.00031492315641824396, 0.00031497093034411666, 0.00021530825939289526, 0.00021531913911521748, -0.00018579227351315508, -0.001206521672741019, 6.554019857068497e-05, 0.02077626893619507, 0.879604000101724, 1.0, -0.5347634428287402, -0.012382407395202933, -0.0005474847667821146], [-0.14036279144756234, -0.007479369826707899, 0.1505664564788165, 0.0008447813262672679, 0.001074852191690164, -0.0021067661533388945, -0.0015172612589789503, -0.001944217466563981, -0.0005454604929896064, -0.0001971537509492595, -0.00019723822154179494, -0.0003555358392191734, -0.0003555900525665053, -9.944780746907797e-05, -9.945302297368925e-05, -9.878057988769094e-05, -0.00020109496454067335, -0.0015204511931483189, 0.03122062204159115, -0.26686761044703144, -0.6434410923648942, 1.0, 0.3863914843870421, -9.485359185984814e-05], [-0.49296266852625126, -0.037111487253203464, 0.050785101530208744, -0.0028140639540853844, -0.002888043215745316, -0.0012048900486040395, -0.00042181284325167333, -0.002061271272841754, -0.0004133479938381058, -0.0007246413412540988, -0.0007249556786863353, -0.0002962527144309955, -0.0002962976917362222, -5.801532789562739e-05, -5.80181812924196e-05, -0.0003627855888235624, -0.0017113594347673315, -0.0017046165478473852, 0.06268741767404895, 0.45630247443981026, -0.01540408939666619, 0.3994950530825933, 1.0, -0.00040159910181755183], [543.9607647171072, -112.79519010590593, 74.1050974680374, 5.433953795111392, 3.852734281825446, 0.5482765362993154, -0.9149221936569746, 0.01331640592388906, 0.01489915158978151, 0.6626944832464698, 0.6629850015057008, -0.04802920793988825, -0.048036135467974785, -0.16188649447884862, -0.16189456397756208, 0.33165944509521694, 1.9171914226487214, 1.4207896003035254, -25.033962106281606, -1083.1229599990459, -715.0365661673504, -102.95866687338994, -421.61689247209233, 1.0]]\n"
     ]
    },
    {
     "name": "stdout",
     "output_type": "stream",
     "text": [
      "\n",
      "\n",
      "removing edges with pc<thresold\n",
      "[[0, 0, 0, 0, 0, 0, 0, 0, 0, 0, 0, 0, 0, 0, 0, 0, 0, 0, 0, 0, -0.8603948276913367, 0, 0, 0], [0, 0, 0, 0, 0, 0, 0, 0, 0, 0, 0, 0, 0, 0, 0, 0, 0, 0, 0, 0.8820344815964364, 0.5802501748289065, 0, 0, 0], [0, 0, 0, 0, 0, 0, 0, 0, 0, 0, 0, 0, 0, 0, 0, 0, 0, 0, 0, -0.5922698888263223, 0, 0, 0, 0], [0, 0.8142484694241623, 0, 0, 0.7309337370681436, 0, 0, 0, 0, 0, 0, 0, 0, 0, 0, 0, 0, 0, 0, 0, 0, 0, 0, 0], [0, 0, 0, 0.9721940908569785, 0, 0, 0, 0, 0, 0, 0, 0, 0, 0, 0, 0, 0, 0, 0, 0, 0, 0, 0, 0], [0, 0, 0, 0, 0, 0, 0.5260429543764786, 0, 0, 0, 0, 0, 0, 0, 0, 0, 0, 0, 0, 0, 0, 0, 0, 0], [0, 0, 0, 0, 0, 0.6101521023700885, 0, 0, 0, 0, 0, 0, 0, 0, 0, 0, 0, 0, 0, 0, 0, 0, 0, 0], [0, -0.5857372986256643, 0, 0, 0, 0, 0, 0, 0, 0, 0, 0, 0, 0, 0, 0, 0, 0, 0, 0, 0, 0, 0, 0], [0, 0, 0, 0, 0, 0, -0.5988438198423246, 0, 0, 0, 0, 0, 0, 0, 0, 0, 0, 0, 0, 0, 0, 0, 0, 0], [0, 0, 0, 0, 0, 0, 0, 0, 0, 0, 0, 0, 0, 0, 0, 0.5005322307112356, 0, 0, 0, 0, 0, 0, 0, 0.7786745049463941], [0, 0, 0, 0, 0, 0, 0, 0, 0, 0.9995660065299569, 0, 0, 0, 0, 0, 0.500315002714349, 0, 0, 0, 0, 0, 0, 0, 0.7783398415141646], [0, 0, 0, 0, 0, 0, 0, 0, 0, 0, 0, 0, 0, 0, 0, 0, 0, 0, 0, 0, 0, 0, 0, 0], [0, 0, 0, 0, 0, 0, 0, 0, 0, 0, 0, 0.9998481266912834, 0, 0, 0, 0, 0, 0, 0, 0, 0, 0, 0, 0], [0, 0, 0, 0, 0, 0, -0.43630669788502524, 0, 0, -0.5297669073958496, -0.5299980431327922, 0.43706434109684994, 0.43713080325624293, 0, 0, 0, 0, 0, 0, 0, 0, 0, 0, -0.8188496900805202], [0, 0, 0, 0, 0, 0, -0.43629012146302687, 0, 0, -0.5297399075006204, -0.5299710314617581, 0.4370424410752356, 0.43710889990505025, 0.999949712378043, 0, 0, 0, 0, 0, 0, 0, 0, 0, -0.8188081474810617], [0, 0, 0, 0, 0, 0, -0.7417967796028376, 0.5652907248001355, 0, 0, 0, 0, 0, 0, 0, 0, 0, 0, 0, 0, 0, 0, 0, 0], [0, 0, 0, 0, 0, 0, 0, 0, 0, 0, 0, 0, 0, 0, 0, 0, 0, 0.7449962000489353, 0, 0, 0, 0, 0, 0], [0, 0, 0, 0, 0, 0.50085612248579, 0, 0, 0, 0, 0, 0, 0, 0, 0, 0, 0.5365226444391592, 0, 0, 0, 0, 0, 0, 0], [0, 0, 0, 0, 0, 0, 0, 0, 0, 0, 0, 0, 0, 0, 0, 0, 0, 0, 0, 0, 0, 0, 0, 0], [-0.40712040279577005, 0, 0, 0, 0, 0, 0, 0, 0, 0, 0, 0, 0, 0, 0, 0, 0, 0, 0, 0, 0.6505549208414793, 0, 0, 0], [0, 0, 0, 0, 0, 0, 0, 0, 0, 0, 0, 0, 0, 0, 0, 0, 0, 0, 0, 0.879604000101724, 0, -0.5347634428287402, 0, 0], [0, 0, 0, 0, 0, 0, 0, 0, 0, 0, 0, 0, 0, 0, 0, 0, 0, 0, 0, 0, -0.6434410923648942, 0, 0, 0], [-0.49296266852625126, 0, 0, 0, 0, 0, 0, 0, 0, 0, 0, 0, 0, 0, 0, 0, 0, 0, 0, 0.45630247443981026, 0, 0, 0, 0], [0, 0, 0, 0, 0, 0.5482765362993154, -0.9149221936569746, 0, 0, 0.6626944832464698, 0.6629850015057008, 0, 0, 0, 0, 0, 0, 0, 0, 0, 0, 0, 0, 0]]\n",
      "\n",
      "\n",
      "importance matrix\n"
     ]
    },
    {
     "name": "stdout",
     "output_type": "stream",
     "text": [
      "[[0.9000830713220214, 1.3999857680498264, 0.0, 0.9721940908569785, 0.7309337370681436, 1.659284761155194, 3.6542025668266676, 0.5652907248001355, 0.0, 2.7217673046728965, 1.722954076100251, 1.873954908863369, 0.8742397031612932, 0.999949712378043, 0.0, 1.0008472334255847, 0.5365226444391592, 0.7449962000489353, 0.0, 2.810210844964293, 2.7346410157266163, 0.5347634428287402, 0.0, 3.1946721840221404], [0.9000830713220214, 1.3999857680498264, 0.0, 0.9721940908569785, 0.7309337370681436, 1.659284761155194, 3.6542025668266676, 0.5652907248001355, 0.0, 2.7217673046728965, 1.722954076100251, 1.873954908863369, 0.8742397031612932, 0.999949712378043, 0.0, 1.0008472334255847, 0.5365226444391592, 0.7449962000489353, 0.0, 2.810210844964293, 2.7346410157266163, 0.5347634428287402, 0.0, 3.1946721840221404], [0.9000830713220214, 1.3999857680498264, 0.0, 0.9721940908569785, 0.7309337370681436, 1.659284761155194, 3.6542025668266676, 0.5652907248001355, 0.0, 2.7217673046728965, 1.722954076100251, 1.873954908863369, 0.8742397031612932, 0.999949712378043, 0.0, 1.0008472334255847, 0.5365226444391592, 0.7449962000489353, 0.0, 2.810210844964293, 2.7346410157266163, 0.5347634428287402, 0.0, 3.1946721840221404], [0.9000830713220214, 1.3999857680498264, 0.0, 0.9721940908569785, 0.7309337370681436, 1.659284761155194, 3.6542025668266676, 0.5652907248001355, 0.0, 2.7217673046728965, 1.722954076100251, 1.873954908863369, 0.8742397031612932, 0.999949712378043, 0.0, 1.0008472334255847, 0.5365226444391592, 0.7449962000489353, 0.0, 2.810210844964293, 2.7346410157266163, 0.5347634428287402, 0.0, 3.1946721840221404], [0.9000830713220214, 1.3999857680498264, 0.0, 0.9721940908569785, 0.7309337370681436, 1.659284761155194, 3.6542025668266676, 0.5652907248001355, 0.0, 2.7217673046728965, 1.722954076100251, 1.873954908863369, 0.8742397031612932, 0.999949712378043, 0.0, 1.0008472334255847, 0.5365226444391592, 0.7449962000489353, 0.0, 2.810210844964293, 2.7346410157266163, 0.5347634428287402, 0.0, 3.1946721840221404], [0.9000830713220214, 1.3999857680498264, 0.0, 0.9721940908569785, 0.7309337370681436, 1.659284761155194, 3.6542025668266676, 0.5652907248001355, 0.0, 2.7217673046728965, 1.722954076100251, 1.873954908863369, 0.8742397031612932, 0.999949712378043, 0.0, 1.0008472334255847, 0.5365226444391592, 0.7449962000489353, 0.0, 2.810210844964293, 2.7346410157266163, 0.5347634428287402, 0.0, 3.1946721840221404], [0.9000830713220214, 1.3999857680498264, 0.0, 0.9721940908569785, 0.7309337370681436, 1.659284761155194, 3.6542025668266676, 0.5652907248001355, 0.0, 2.7217673046728965, 1.722954076100251, 1.873954908863369, 0.8742397031612932, 0.999949712378043, 0.0, 1.0008472334255847, 0.5365226444391592, 0.7449962000489353, 0.0, 2.810210844964293, 2.7346410157266163, 0.5347634428287402, 0.0, 3.1946721840221404], [0.9000830713220214, 1.3999857680498264, 0.0, 0.9721940908569785, 0.7309337370681436, 1.659284761155194, 3.6542025668266676, 0.5652907248001355, 0.0, 2.7217673046728965, 1.722954076100251, 1.873954908863369, 0.8742397031612932, 0.999949712378043, 0.0, 1.0008472334255847, 0.5365226444391592, 0.7449962000489353, 0.0, 2.810210844964293, 2.7346410157266163, 0.5347634428287402, 0.0, 3.1946721840221404], [0.9000830713220214, 1.3999857680498264, 0.0, 0.9721940908569785, 0.7309337370681436, 1.659284761155194, 3.6542025668266676, 0.5652907248001355, 0.0, 2.7217673046728965, 1.722954076100251, 1.873954908863369, 0.8742397031612932, 0.999949712378043, 0.0, 1.0008472334255847, 0.5365226444391592, 0.7449962000489353, 0.0, 2.810210844964293, 2.7346410157266163, 0.5347634428287402, 0.0, 3.1946721840221404], [0.9000830713220214, 1.3999857680498264, 0.0, 0.9721940908569785, 0.7309337370681436, 1.659284761155194, 3.6542025668266676, 0.5652907248001355, 0.0, 2.7217673046728965, 1.722954076100251, 1.873954908863369, 0.8742397031612932, 0.999949712378043, 0.0, 1.0008472334255847, 0.5365226444391592, 0.7449962000489353, 0.0, 2.810210844964293, 2.7346410157266163, 0.5347634428287402, 0.0, 3.1946721840221404], [0.9000830713220214, 1.3999857680498264, 0.0, 0.9721940908569785, 0.7309337370681436, 1.659284761155194, 3.6542025668266676, 0.5652907248001355, 0.0, 2.7217673046728965, 1.722954076100251, 1.873954908863369, 0.8742397031612932, 0.999949712378043, 0.0, 1.0008472334255847, 0.5365226444391592, 0.7449962000489353, 0.0, 2.810210844964293, 2.7346410157266163, 0.5347634428287402, 0.0, 3.1946721840221404], [0.9000830713220214, 1.3999857680498264, 0.0, 0.9721940908569785, 0.7309337370681436, 1.659284761155194, 3.6542025668266676, 0.5652907248001355, 0.0, 2.7217673046728965, 1.722954076100251, 1.873954908863369, 0.8742397031612932, 0.999949712378043, 0.0, 1.0008472334255847, 0.5365226444391592, 0.7449962000489353, 0.0, 2.810210844964293, 2.7346410157266163, 0.5347634428287402, 0.0, 3.1946721840221404], [0.9000830713220214, 1.3999857680498264, 0.0, 0.9721940908569785, 0.7309337370681436, 1.659284761155194, 3.6542025668266676, 0.5652907248001355, 0.0, 2.7217673046728965, 1.722954076100251, 1.873954908863369, 0.8742397031612932, 0.999949712378043, 0.0, 1.0008472334255847, 0.5365226444391592, 0.7449962000489353, 0.0, 2.810210844964293, 2.7346410157266163, 0.5347634428287402, 0.0, 3.1946721840221404], [0.9000830713220214, 1.3999857680498264, 0.0, 0.9721940908569785, 0.7309337370681436, 1.659284761155194, 3.6542025668266676, 0.5652907248001355, 0.0, 2.7217673046728965, 1.722954076100251, 1.873954908863369, 0.8742397031612932, 0.999949712378043, 0.0, 1.0008472334255847, 0.5365226444391592, 0.7449962000489353, 0.0, 2.810210844964293, 2.7346410157266163, 0.5347634428287402, 0.0, 3.1946721840221404], [0.9000830713220214, 1.3999857680498264, 0.0, 0.9721940908569785, 0.7309337370681436, 1.659284761155194, 3.6542025668266676, 0.5652907248001355, 0.0, 2.7217673046728965, 1.722954076100251, 1.873954908863369, 0.8742397031612932, 0.999949712378043, 0.0, 1.0008472334255847, 0.5365226444391592, 0.7449962000489353, 0.0, 2.810210844964293, 2.7346410157266163, 0.5347634428287402, 0.0, 3.1946721840221404], [0.9000830713220214, 1.3999857680498264, 0.0, 0.9721940908569785, 0.7309337370681436, 1.659284761155194, 3.6542025668266676, 0.5652907248001355, 0.0, 2.7217673046728965, 1.722954076100251, 1.873954908863369, 0.8742397031612932, 0.999949712378043, 0.0, 1.0008472334255847, 0.5365226444391592, 0.7449962000489353, 0.0, 2.810210844964293, 2.7346410157266163, 0.5347634428287402, 0.0, 3.1946721840221404], [0.9000830713220214, 1.3999857680498264, 0.0, 0.9721940908569785, 0.7309337370681436, 1.659284761155194, 3.6542025668266676, 0.5652907248001355, 0.0, 2.7217673046728965, 1.722954076100251, 1.873954908863369, 0.8742397031612932, 0.999949712378043, 0.0, 1.0008472334255847, 0.5365226444391592, 0.7449962000489353, 0.0, 2.810210844964293, 2.7346410157266163, 0.5347634428287402, 0.0, 3.1946721840221404], [0.9000830713220214, 1.3999857680498264, 0.0, 0.9721940908569785, 0.7309337370681436, 1.659284761155194, 3.6542025668266676, 0.5652907248001355, 0.0, 2.7217673046728965, 1.722954076100251, 1.873954908863369, 0.8742397031612932, 0.999949712378043, 0.0, 1.0008472334255847, 0.5365226444391592, 0.7449962000489353, 0.0, 2.810210844964293, 2.7346410157266163, 0.5347634428287402, 0.0, 3.1946721840221404], [0.9000830713220214, 1.3999857680498264, 0.0, 0.9721940908569785, 0.7309337370681436, 1.659284761155194, 3.6542025668266676, 0.5652907248001355, 0.0, 2.7217673046728965, 1.722954076100251, 1.873954908863369, 0.8742397031612932, 0.999949712378043, 0.0, 1.0008472334255847, 0.5365226444391592, 0.7449962000489353, 0.0, 2.810210844964293, 2.7346410157266163, 0.5347634428287402, 0.0, 3.1946721840221404], [0.9000830713220214, 1.3999857680498264, 0.0, 0.9721940908569785, 0.7309337370681436, 1.659284761155194, 3.6542025668266676, 0.5652907248001355, 0.0, 2.7217673046728965, 1.722954076100251, 1.873954908863369, 0.8742397031612932, 0.999949712378043, 0.0, 1.0008472334255847, 0.5365226444391592, 0.7449962000489353, 0.0, 2.810210844964293, 2.7346410157266163, 0.5347634428287402, 0.0, 3.1946721840221404], [0.9000830713220214, 1.3999857680498264, 0.0, 0.9721940908569785, 0.7309337370681436, 1.659284761155194, 3.6542025668266676, 0.5652907248001355, 0.0, 2.7217673046728965, 1.722954076100251, 1.873954908863369, 0.8742397031612932, 0.999949712378043, 0.0, 1.0008472334255847, 0.5365226444391592, 0.7449962000489353, 0.0, 2.810210844964293, 2.7346410157266163, 0.5347634428287402, 0.0, 3.1946721840221404], [0.9000830713220214, 1.3999857680498264, 0.0, 0.9721940908569785, 0.7309337370681436, 1.659284761155194, 3.6542025668266676, 0.5652907248001355, 0.0, 2.7217673046728965, 1.722954076100251, 1.873954908863369, 0.8742397031612932, 0.999949712378043, 0.0, 1.0008472334255847, 0.5365226444391592, 0.7449962000489353, 0.0, 2.810210844964293, 2.7346410157266163, 0.5347634428287402, 0.0, 3.1946721840221404], [0.9000830713220214, 1.3999857680498264, 0.0, 0.9721940908569785, 0.7309337370681436, 1.659284761155194, 3.6542025668266676, 0.5652907248001355, 0.0, 2.7217673046728965, 1.722954076100251, 1.873954908863369, 0.8742397031612932, 0.999949712378043, 0.0, 1.0008472334255847, 0.5365226444391592, 0.7449962000489353, 0.0, 2.810210844964293, 2.7346410157266163, 0.5347634428287402, 0.0, 3.1946721840221404], [0.9000830713220214, 1.3999857680498264, 0.0, 0.9721940908569785, 0.7309337370681436, 1.659284761155194, 3.6542025668266676, 0.5652907248001355, 0.0, 2.7217673046728965, 1.722954076100251, 1.873954908863369, 0.8742397031612932, 0.999949712378043, 0.0, 1.0008472334255847, 0.5365226444391592, 0.7449962000489353, 0.0, 2.810210844964293, 2.7346410157266163, 0.5347634428287402, 0.0, 3.1946721840221404]]\n"
     ]
    },
    {
     "name": "stdout",
     "output_type": "stream",
     "text": [
      "[6]\n",
      "[[0, 0, 0, 0, 0, 0, 0, 0, 0, 0, 0, 0, 0, 0, 0, 0, 0, 0, 0, 0, -0.8603948276913367, 0, 0, 0], [0, 0, 0, 0, 0, 0, 0, 0, 0, 0, 0, 0, 0, 0, 0, 0, 0, 0, 0, 0.8820344815964364, 0.5802501748289065, 0, 0, 0], [0, 0, 0, 0, 0, 0, 0, 0, 0, 0, 0, 0, 0, 0, 0, 0, 0, 0, 0, -0.5922698888263223, 0, 0, 0, 0], [0, 0.8142484694241623, 0, 0, 0.7309337370681436, 0, 0, 0, 0, 0, 0, 0, 0, 0, 0, 0, 0, 0, 0, 0, 0, 0, 0, 0], [0, 0, 0, 0.9721940908569785, 0, 0, 0, 0, 0, 0, 0, 0, 0, 0, 0, 0, 0, 0, 0, 0, 0, 0, 0, 0], [0, 0, 0, 0, 0, 0, 0, 0, 0, 0, 0, 0, 0, 0, 0, 0, 0, 0, 0, 0, 0, 0, 0, 0], [0, 0, 0, 0, 0, 0, 0, 0, 0, 0, 0, 0, 0, 0, 0, 0, 0, 0, 0, 0, 0, 0, 0, 0], [0, -0.5857372986256643, 0, 0, 0, 0, 0, 0, 0, 0, 0, 0, 0, 0, 0, 0, 0, 0, 0, 0, 0, 0, 0, 0], [0, 0, 0, 0, 0, 0, 0, 0, 0, 0, 0, 0, 0, 0, 0, 0, 0, 0, 0, 0, 0, 0, 0, 0], [0, 0, 0, 0, 0, 0, 0, 0, 0, 0, 0, 0, 0, 0, 0, 0.5005322307112356, 0, 0, 0, 0, 0, 0, 0, 0.7786745049463941], [0, 0, 0, 0, 0, 0, 0, 0, 0, 0.9995660065299569, 0, 0, 0, 0, 0, 0.500315002714349, 0, 0, 0, 0, 0, 0, 0, 0.7783398415141646], [0, 0, 0, 0, 0, 0, 0, 0, 0, 0, 0, 0, 0, 0, 0, 0, 0, 0, 0, 0, 0, 0, 0, 0], [0, 0, 0, 0, 0, 0, 0, 0, 0, 0, 0, 0.9998481266912834, 0, 0, 0, 0, 0, 0, 0, 0, 0, 0, 0, 0], [0, 0, 0, 0, 0, 0, 0, 0, 0, -0.5297669073958496, -0.5299980431327922, 0.43706434109684994, 0.43713080325624293, 0, 0, 0, 0, 0, 0, 0, 0, 0, 0, -0.8188496900805202], [0, 0, 0, 0, 0, 0, 0, 0, 0, -0.5297399075006204, -0.5299710314617581, 0.4370424410752356, 0.43710889990505025, 0.999949712378043, 0, 0, 0, 0, 0, 0, 0, 0, 0, -0.8188081474810617], [0, 0, 0, 0, 0, 0, 0, 0.5652907248001355, 0, 0, 0, 0, 0, 0, 0, 0, 0, 0, 0, 0, 0, 0, 0, 0], [0, 0, 0, 0, 0, 0, 0, 0, 0, 0, 0, 0, 0, 0, 0, 0, 0, 0.7449962000489353, 0, 0, 0, 0, 0, 0], [0, 0, 0, 0, 0, 0.50085612248579, 0, 0, 0, 0, 0, 0, 0, 0, 0, 0, 0.5365226444391592, 0, 0, 0, 0, 0, 0, 0], [0, 0, 0, 0, 0, 0, 0, 0, 0, 0, 0, 0, 0, 0, 0, 0, 0, 0, 0, 0, 0, 0, 0, 0], [-0.40712040279577005, 0, 0, 0, 0, 0, 0, 0, 0, 0, 0, 0, 0, 0, 0, 0, 0, 0, 0, 0, 0.6505549208414793, 0, 0, 0], [0, 0, 0, 0, 0, 0, 0, 0, 0, 0, 0, 0, 0, 0, 0, 0, 0, 0, 0, 0.879604000101724, 0, -0.5347634428287402, 0, 0], [0, 0, 0, 0, 0, 0, 0, 0, 0, 0, 0, 0, 0, 0, 0, 0, 0, 0, 0, 0, -0.6434410923648942, 0, 0, 0], [-0.49296266852625126, 0, 0, 0, 0, 0, 0, 0, 0, 0, 0, 0, 0, 0, 0, 0, 0, 0, 0, 0.45630247443981026, 0, 0, 0, 0], [0, 0, 0, 0, 0, 0.5482765362993154, 0, 0, 0, 0.6626944832464698, 0.6629850015057008, 0, 0, 0, 0, 0, 0, 0, 0, 0, 0, 0, 0, 0]]\n",
      "\n",
      "\n",
      "importance matrix\n"
     ]
    },
    {
     "name": "stdout",
     "output_type": "stream",
     "text": [
      "[[0.9000830713220214, 1.3999857680498264, 0.0, 0.9721940908569785, 0.7309337370681436, 1.0491326587851053, 0.0, 0.5652907248001355, 0.0, 2.7217673046728965, 1.722954076100251, 1.873954908863369, 0.8742397031612932, 0.999949712378043, 0.0, 1.0008472334255847, 0.5365226444391592, 0.7449962000489353, 0.0, 2.810210844964293, 2.7346410157266163, 0.5347634428287402, 0.0, 3.1946721840221404], [0.9000830713220214, 1.3999857680498264, 0.0, 0.9721940908569785, 0.7309337370681436, 1.0491326587851053, 0.0, 0.5652907248001355, 0.0, 2.7217673046728965, 1.722954076100251, 1.873954908863369, 0.8742397031612932, 0.999949712378043, 0.0, 1.0008472334255847, 0.5365226444391592, 0.7449962000489353, 0.0, 2.810210844964293, 2.7346410157266163, 0.5347634428287402, 0.0, 3.1946721840221404], [0.9000830713220214, 1.3999857680498264, 0.0, 0.9721940908569785, 0.7309337370681436, 1.0491326587851053, 0.0, 0.5652907248001355, 0.0, 2.7217673046728965, 1.722954076100251, 1.873954908863369, 0.8742397031612932, 0.999949712378043, 0.0, 1.0008472334255847, 0.5365226444391592, 0.7449962000489353, 0.0, 2.810210844964293, 2.7346410157266163, 0.5347634428287402, 0.0, 3.1946721840221404], [0.9000830713220214, 1.3999857680498264, 0.0, 0.9721940908569785, 0.7309337370681436, 1.0491326587851053, 0.0, 0.5652907248001355, 0.0, 2.7217673046728965, 1.722954076100251, 1.873954908863369, 0.8742397031612932, 0.999949712378043, 0.0, 1.0008472334255847, 0.5365226444391592, 0.7449962000489353, 0.0, 2.810210844964293, 2.7346410157266163, 0.5347634428287402, 0.0, 3.1946721840221404], [0.9000830713220214, 1.3999857680498264, 0.0, 0.9721940908569785, 0.7309337370681436, 1.0491326587851053, 0.0, 0.5652907248001355, 0.0, 2.7217673046728965, 1.722954076100251, 1.873954908863369, 0.8742397031612932, 0.999949712378043, 0.0, 1.0008472334255847, 0.5365226444391592, 0.7449962000489353, 0.0, 2.810210844964293, 2.7346410157266163, 0.5347634428287402, 0.0, 3.1946721840221404], [0.9000830713220214, 1.3999857680498264, 0.0, 0.9721940908569785, 0.7309337370681436, 1.0491326587851053, 0.0, 0.5652907248001355, 0.0, 2.7217673046728965, 1.722954076100251, 1.873954908863369, 0.8742397031612932, 0.999949712378043, 0.0, 1.0008472334255847, 0.5365226444391592, 0.7449962000489353, 0.0, 2.810210844964293, 2.7346410157266163, 0.5347634428287402, 0.0, 3.1946721840221404], [0.9000830713220214, 1.3999857680498264, 0.0, 0.9721940908569785, 0.7309337370681436, 1.0491326587851053, 0.0, 0.5652907248001355, 0.0, 2.7217673046728965, 1.722954076100251, 1.873954908863369, 0.8742397031612932, 0.999949712378043, 0.0, 1.0008472334255847, 0.5365226444391592, 0.7449962000489353, 0.0, 2.810210844964293, 2.7346410157266163, 0.5347634428287402, 0.0, 3.1946721840221404], [0.9000830713220214, 1.3999857680498264, 0.0, 0.9721940908569785, 0.7309337370681436, 1.0491326587851053, 0.0, 0.5652907248001355, 0.0, 2.7217673046728965, 1.722954076100251, 1.873954908863369, 0.8742397031612932, 0.999949712378043, 0.0, 1.0008472334255847, 0.5365226444391592, 0.7449962000489353, 0.0, 2.810210844964293, 2.7346410157266163, 0.5347634428287402, 0.0, 3.1946721840221404], [0.9000830713220214, 1.3999857680498264, 0.0, 0.9721940908569785, 0.7309337370681436, 1.0491326587851053, 0.0, 0.5652907248001355, 0.0, 2.7217673046728965, 1.722954076100251, 1.873954908863369, 0.8742397031612932, 0.999949712378043, 0.0, 1.0008472334255847, 0.5365226444391592, 0.7449962000489353, 0.0, 2.810210844964293, 2.7346410157266163, 0.5347634428287402, 0.0, 3.1946721840221404], [0.9000830713220214, 1.3999857680498264, 0.0, 0.9721940908569785, 0.7309337370681436, 1.0491326587851053, 0.0, 0.5652907248001355, 0.0, 2.7217673046728965, 1.722954076100251, 1.873954908863369, 0.8742397031612932, 0.999949712378043, 0.0, 1.0008472334255847, 0.5365226444391592, 0.7449962000489353, 0.0, 2.810210844964293, 2.7346410157266163, 0.5347634428287402, 0.0, 3.1946721840221404], [0.9000830713220214, 1.3999857680498264, 0.0, 0.9721940908569785, 0.7309337370681436, 1.0491326587851053, 0.0, 0.5652907248001355, 0.0, 2.7217673046728965, 1.722954076100251, 1.873954908863369, 0.8742397031612932, 0.999949712378043, 0.0, 1.0008472334255847, 0.5365226444391592, 0.7449962000489353, 0.0, 2.810210844964293, 2.7346410157266163, 0.5347634428287402, 0.0, 3.1946721840221404], [0.9000830713220214, 1.3999857680498264, 0.0, 0.9721940908569785, 0.7309337370681436, 1.0491326587851053, 0.0, 0.5652907248001355, 0.0, 2.7217673046728965, 1.722954076100251, 1.873954908863369, 0.8742397031612932, 0.999949712378043, 0.0, 1.0008472334255847, 0.5365226444391592, 0.7449962000489353, 0.0, 2.810210844964293, 2.7346410157266163, 0.5347634428287402, 0.0, 3.1946721840221404], [0.9000830713220214, 1.3999857680498264, 0.0, 0.9721940908569785, 0.7309337370681436, 1.0491326587851053, 0.0, 0.5652907248001355, 0.0, 2.7217673046728965, 1.722954076100251, 1.873954908863369, 0.8742397031612932, 0.999949712378043, 0.0, 1.0008472334255847, 0.5365226444391592, 0.7449962000489353, 0.0, 2.810210844964293, 2.7346410157266163, 0.5347634428287402, 0.0, 3.1946721840221404], [0.9000830713220214, 1.3999857680498264, 0.0, 0.9721940908569785, 0.7309337370681436, 1.0491326587851053, 0.0, 0.5652907248001355, 0.0, 2.7217673046728965, 1.722954076100251, 1.873954908863369, 0.8742397031612932, 0.999949712378043, 0.0, 1.0008472334255847, 0.5365226444391592, 0.7449962000489353, 0.0, 2.810210844964293, 2.7346410157266163, 0.5347634428287402, 0.0, 3.1946721840221404], [0.9000830713220214, 1.3999857680498264, 0.0, 0.9721940908569785, 0.7309337370681436, 1.0491326587851053, 0.0, 0.5652907248001355, 0.0, 2.7217673046728965, 1.722954076100251, 1.873954908863369, 0.8742397031612932, 0.999949712378043, 0.0, 1.0008472334255847, 0.5365226444391592, 0.7449962000489353, 0.0, 2.810210844964293, 2.7346410157266163, 0.5347634428287402, 0.0, 3.1946721840221404], [0.9000830713220214, 1.3999857680498264, 0.0, 0.9721940908569785, 0.7309337370681436, 1.0491326587851053, 0.0, 0.5652907248001355, 0.0, 2.7217673046728965, 1.722954076100251, 1.873954908863369, 0.8742397031612932, 0.999949712378043, 0.0, 1.0008472334255847, 0.5365226444391592, 0.7449962000489353, 0.0, 2.810210844964293, 2.7346410157266163, 0.5347634428287402, 0.0, 3.1946721840221404], [0.9000830713220214, 1.3999857680498264, 0.0, 0.9721940908569785, 0.7309337370681436, 1.0491326587851053, 0.0, 0.5652907248001355, 0.0, 2.7217673046728965, 1.722954076100251, 1.873954908863369, 0.8742397031612932, 0.999949712378043, 0.0, 1.0008472334255847, 0.5365226444391592, 0.7449962000489353, 0.0, 2.810210844964293, 2.7346410157266163, 0.5347634428287402, 0.0, 3.1946721840221404], [0.9000830713220214, 1.3999857680498264, 0.0, 0.9721940908569785, 0.7309337370681436, 1.0491326587851053, 0.0, 0.5652907248001355, 0.0, 2.7217673046728965, 1.722954076100251, 1.873954908863369, 0.8742397031612932, 0.999949712378043, 0.0, 1.0008472334255847, 0.5365226444391592, 0.7449962000489353, 0.0, 2.810210844964293, 2.7346410157266163, 0.5347634428287402, 0.0, 3.1946721840221404], [0.9000830713220214, 1.3999857680498264, 0.0, 0.9721940908569785, 0.7309337370681436, 1.0491326587851053, 0.0, 0.5652907248001355, 0.0, 2.7217673046728965, 1.722954076100251, 1.873954908863369, 0.8742397031612932, 0.999949712378043, 0.0, 1.0008472334255847, 0.5365226444391592, 0.7449962000489353, 0.0, 2.810210844964293, 2.7346410157266163, 0.5347634428287402, 0.0, 3.1946721840221404], [0.9000830713220214, 1.3999857680498264, 0.0, 0.9721940908569785, 0.7309337370681436, 1.0491326587851053, 0.0, 0.5652907248001355, 0.0, 2.7217673046728965, 1.722954076100251, 1.873954908863369, 0.8742397031612932, 0.999949712378043, 0.0, 1.0008472334255847, 0.5365226444391592, 0.7449962000489353, 0.0, 2.810210844964293, 2.7346410157266163, 0.5347634428287402, 0.0, 3.1946721840221404], [0.9000830713220214, 1.3999857680498264, 0.0, 0.9721940908569785, 0.7309337370681436, 1.0491326587851053, 0.0, 0.5652907248001355, 0.0, 2.7217673046728965, 1.722954076100251, 1.873954908863369, 0.8742397031612932, 0.999949712378043, 0.0, 1.0008472334255847, 0.5365226444391592, 0.7449962000489353, 0.0, 2.810210844964293, 2.7346410157266163, 0.5347634428287402, 0.0, 3.1946721840221404], [0.9000830713220214, 1.3999857680498264, 0.0, 0.9721940908569785, 0.7309337370681436, 1.0491326587851053, 0.0, 0.5652907248001355, 0.0, 2.7217673046728965, 1.722954076100251, 1.873954908863369, 0.8742397031612932, 0.999949712378043, 0.0, 1.0008472334255847, 0.5365226444391592, 0.7449962000489353, 0.0, 2.810210844964293, 2.7346410157266163, 0.5347634428287402, 0.0, 3.1946721840221404], [0.9000830713220214, 1.3999857680498264, 0.0, 0.9721940908569785, 0.7309337370681436, 1.0491326587851053, 0.0, 0.5652907248001355, 0.0, 2.7217673046728965, 1.722954076100251, 1.873954908863369, 0.8742397031612932, 0.999949712378043, 0.0, 1.0008472334255847, 0.5365226444391592, 0.7449962000489353, 0.0, 2.810210844964293, 2.7346410157266163, 0.5347634428287402, 0.0, 3.1946721840221404], [0.9000830713220214, 1.3999857680498264, 0.0, 0.9721940908569785, 0.7309337370681436, 1.0491326587851053, 0.0, 0.5652907248001355, 0.0, 2.7217673046728965, 1.722954076100251, 1.873954908863369, 0.8742397031612932, 0.999949712378043, 0.0, 1.0008472334255847, 0.5365226444391592, 0.7449962000489353, 0.0, 2.810210844964293, 2.7346410157266163, 0.5347634428287402, 0.0, 3.1946721840221404]]\n"
     ]
    },
    {
     "name": "stdout",
     "output_type": "stream",
     "text": [
      "[6, 23]\n",
      "[[0, 0, 0, 0, 0, 0, 0, 0, 0, 0, 0, 0, 0, 0, 0, 0, 0, 0, 0, 0, -0.8603948276913367, 0, 0, 0], [0, 0, 0, 0, 0, 0, 0, 0, 0, 0, 0, 0, 0, 0, 0, 0, 0, 0, 0, 0.8820344815964364, 0.5802501748289065, 0, 0, 0], [0, 0, 0, 0, 0, 0, 0, 0, 0, 0, 0, 0, 0, 0, 0, 0, 0, 0, 0, -0.5922698888263223, 0, 0, 0, 0], [0, 0.8142484694241623, 0, 0, 0.7309337370681436, 0, 0, 0, 0, 0, 0, 0, 0, 0, 0, 0, 0, 0, 0, 0, 0, 0, 0, 0], [0, 0, 0, 0.9721940908569785, 0, 0, 0, 0, 0, 0, 0, 0, 0, 0, 0, 0, 0, 0, 0, 0, 0, 0, 0, 0], [0, 0, 0, 0, 0, 0, 0, 0, 0, 0, 0, 0, 0, 0, 0, 0, 0, 0, 0, 0, 0, 0, 0, 0], [0, 0, 0, 0, 0, 0, 0, 0, 0, 0, 0, 0, 0, 0, 0, 0, 0, 0, 0, 0, 0, 0, 0, 0], [0, -0.5857372986256643, 0, 0, 0, 0, 0, 0, 0, 0, 0, 0, 0, 0, 0, 0, 0, 0, 0, 0, 0, 0, 0, 0], [0, 0, 0, 0, 0, 0, 0, 0, 0, 0, 0, 0, 0, 0, 0, 0, 0, 0, 0, 0, 0, 0, 0, 0], [0, 0, 0, 0, 0, 0, 0, 0, 0, 0, 0, 0, 0, 0, 0, 0.5005322307112356, 0, 0, 0, 0, 0, 0, 0, 0], [0, 0, 0, 0, 0, 0, 0, 0, 0, 0.9995660065299569, 0, 0, 0, 0, 0, 0.500315002714349, 0, 0, 0, 0, 0, 0, 0, 0], [0, 0, 0, 0, 0, 0, 0, 0, 0, 0, 0, 0, 0, 0, 0, 0, 0, 0, 0, 0, 0, 0, 0, 0], [0, 0, 0, 0, 0, 0, 0, 0, 0, 0, 0, 0.9998481266912834, 0, 0, 0, 0, 0, 0, 0, 0, 0, 0, 0, 0], [0, 0, 0, 0, 0, 0, 0, 0, 0, -0.5297669073958496, -0.5299980431327922, 0.43706434109684994, 0.43713080325624293, 0, 0, 0, 0, 0, 0, 0, 0, 0, 0, 0], [0, 0, 0, 0, 0, 0, 0, 0, 0, -0.5297399075006204, -0.5299710314617581, 0.4370424410752356, 0.43710889990505025, 0.999949712378043, 0, 0, 0, 0, 0, 0, 0, 0, 0, 0], [0, 0, 0, 0, 0, 0, 0, 0.5652907248001355, 0, 0, 0, 0, 0, 0, 0, 0, 0, 0, 0, 0, 0, 0, 0, 0], [0, 0, 0, 0, 0, 0, 0, 0, 0, 0, 0, 0, 0, 0, 0, 0, 0, 0.7449962000489353, 0, 0, 0, 0, 0, 0], [0, 0, 0, 0, 0, 0.50085612248579, 0, 0, 0, 0, 0, 0, 0, 0, 0, 0, 0.5365226444391592, 0, 0, 0, 0, 0, 0, 0], [0, 0, 0, 0, 0, 0, 0, 0, 0, 0, 0, 0, 0, 0, 0, 0, 0, 0, 0, 0, 0, 0, 0, 0], [-0.40712040279577005, 0, 0, 0, 0, 0, 0, 0, 0, 0, 0, 0, 0, 0, 0, 0, 0, 0, 0, 0, 0.6505549208414793, 0, 0, 0], [0, 0, 0, 0, 0, 0, 0, 0, 0, 0, 0, 0, 0, 0, 0, 0, 0, 0, 0, 0.879604000101724, 0, -0.5347634428287402, 0, 0], [0, 0, 0, 0, 0, 0, 0, 0, 0, 0, 0, 0, 0, 0, 0, 0, 0, 0, 0, 0, -0.6434410923648942, 0, 0, 0], [-0.49296266852625126, 0, 0, 0, 0, 0, 0, 0, 0, 0, 0, 0, 0, 0, 0, 0, 0, 0, 0, 0.45630247443981026, 0, 0, 0, 0], [0, 0, 0, 0, 0, 0, 0, 0, 0, 0, 0, 0, 0, 0, 0, 0, 0, 0, 0, 0, 0, 0, 0, 0]]\n",
      "\n",
      "\n",
      "importance matrix\n"
     ]
    },
    {
     "name": "stdout",
     "output_type": "stream",
     "text": [
      "[[0.9000830713220214, 1.3999857680498264, 0.0, 0.9721940908569785, 0.7309337370681436, 0.50085612248579, 0.0, 0.5652907248001355, 0.0, 2.059072821426427, 1.0599690745945503, 1.873954908863369, 0.8742397031612932, 0.999949712378043, 0.0, 1.0008472334255847, 0.5365226444391592, 0.7449962000489353, 0.0, 2.810210844964293, 2.7346410157266163, 0.5347634428287402, 0.0, 0.0], [0.9000830713220214, 1.3999857680498264, 0.0, 0.9721940908569785, 0.7309337370681436, 0.50085612248579, 0.0, 0.5652907248001355, 0.0, 2.059072821426427, 1.0599690745945503, 1.873954908863369, 0.8742397031612932, 0.999949712378043, 0.0, 1.0008472334255847, 0.5365226444391592, 0.7449962000489353, 0.0, 2.810210844964293, 2.7346410157266163, 0.5347634428287402, 0.0, 0.0], [0.9000830713220214, 1.3999857680498264, 0.0, 0.9721940908569785, 0.7309337370681436, 0.50085612248579, 0.0, 0.5652907248001355, 0.0, 2.059072821426427, 1.0599690745945503, 1.873954908863369, 0.8742397031612932, 0.999949712378043, 0.0, 1.0008472334255847, 0.5365226444391592, 0.7449962000489353, 0.0, 2.810210844964293, 2.7346410157266163, 0.5347634428287402, 0.0, 0.0], [0.9000830713220214, 1.3999857680498264, 0.0, 0.9721940908569785, 0.7309337370681436, 0.50085612248579, 0.0, 0.5652907248001355, 0.0, 2.059072821426427, 1.0599690745945503, 1.873954908863369, 0.8742397031612932, 0.999949712378043, 0.0, 1.0008472334255847, 0.5365226444391592, 0.7449962000489353, 0.0, 2.810210844964293, 2.7346410157266163, 0.5347634428287402, 0.0, 0.0], [0.9000830713220214, 1.3999857680498264, 0.0, 0.9721940908569785, 0.7309337370681436, 0.50085612248579, 0.0, 0.5652907248001355, 0.0, 2.059072821426427, 1.0599690745945503, 1.873954908863369, 0.8742397031612932, 0.999949712378043, 0.0, 1.0008472334255847, 0.5365226444391592, 0.7449962000489353, 0.0, 2.810210844964293, 2.7346410157266163, 0.5347634428287402, 0.0, 0.0], [0.9000830713220214, 1.3999857680498264, 0.0, 0.9721940908569785, 0.7309337370681436, 0.50085612248579, 0.0, 0.5652907248001355, 0.0, 2.059072821426427, 1.0599690745945503, 1.873954908863369, 0.8742397031612932, 0.999949712378043, 0.0, 1.0008472334255847, 0.5365226444391592, 0.7449962000489353, 0.0, 2.810210844964293, 2.7346410157266163, 0.5347634428287402, 0.0, 0.0], [0.9000830713220214, 1.3999857680498264, 0.0, 0.9721940908569785, 0.7309337370681436, 0.50085612248579, 0.0, 0.5652907248001355, 0.0, 2.059072821426427, 1.0599690745945503, 1.873954908863369, 0.8742397031612932, 0.999949712378043, 0.0, 1.0008472334255847, 0.5365226444391592, 0.7449962000489353, 0.0, 2.810210844964293, 2.7346410157266163, 0.5347634428287402, 0.0, 0.0], [0.9000830713220214, 1.3999857680498264, 0.0, 0.9721940908569785, 0.7309337370681436, 0.50085612248579, 0.0, 0.5652907248001355, 0.0, 2.059072821426427, 1.0599690745945503, 1.873954908863369, 0.8742397031612932, 0.999949712378043, 0.0, 1.0008472334255847, 0.5365226444391592, 0.7449962000489353, 0.0, 2.810210844964293, 2.7346410157266163, 0.5347634428287402, 0.0, 0.0], [0.9000830713220214, 1.3999857680498264, 0.0, 0.9721940908569785, 0.7309337370681436, 0.50085612248579, 0.0, 0.5652907248001355, 0.0, 2.059072821426427, 1.0599690745945503, 1.873954908863369, 0.8742397031612932, 0.999949712378043, 0.0, 1.0008472334255847, 0.5365226444391592, 0.7449962000489353, 0.0, 2.810210844964293, 2.7346410157266163, 0.5347634428287402, 0.0, 0.0], [0.9000830713220214, 1.3999857680498264, 0.0, 0.9721940908569785, 0.7309337370681436, 0.50085612248579, 0.0, 0.5652907248001355, 0.0, 2.059072821426427, 1.0599690745945503, 1.873954908863369, 0.8742397031612932, 0.999949712378043, 0.0, 1.0008472334255847, 0.5365226444391592, 0.7449962000489353, 0.0, 2.810210844964293, 2.7346410157266163, 0.5347634428287402, 0.0, 0.0], [0.9000830713220214, 1.3999857680498264, 0.0, 0.9721940908569785, 0.7309337370681436, 0.50085612248579, 0.0, 0.5652907248001355, 0.0, 2.059072821426427, 1.0599690745945503, 1.873954908863369, 0.8742397031612932, 0.999949712378043, 0.0, 1.0008472334255847, 0.5365226444391592, 0.7449962000489353, 0.0, 2.810210844964293, 2.7346410157266163, 0.5347634428287402, 0.0, 0.0], [0.9000830713220214, 1.3999857680498264, 0.0, 0.9721940908569785, 0.7309337370681436, 0.50085612248579, 0.0, 0.5652907248001355, 0.0, 2.059072821426427, 1.0599690745945503, 1.873954908863369, 0.8742397031612932, 0.999949712378043, 0.0, 1.0008472334255847, 0.5365226444391592, 0.7449962000489353, 0.0, 2.810210844964293, 2.7346410157266163, 0.5347634428287402, 0.0, 0.0], [0.9000830713220214, 1.3999857680498264, 0.0, 0.9721940908569785, 0.7309337370681436, 0.50085612248579, 0.0, 0.5652907248001355, 0.0, 2.059072821426427, 1.0599690745945503, 1.873954908863369, 0.8742397031612932, 0.999949712378043, 0.0, 1.0008472334255847, 0.5365226444391592, 0.7449962000489353, 0.0, 2.810210844964293, 2.7346410157266163, 0.5347634428287402, 0.0, 0.0], [0.9000830713220214, 1.3999857680498264, 0.0, 0.9721940908569785, 0.7309337370681436, 0.50085612248579, 0.0, 0.5652907248001355, 0.0, 2.059072821426427, 1.0599690745945503, 1.873954908863369, 0.8742397031612932, 0.999949712378043, 0.0, 1.0008472334255847, 0.5365226444391592, 0.7449962000489353, 0.0, 2.810210844964293, 2.7346410157266163, 0.5347634428287402, 0.0, 0.0], [0.9000830713220214, 1.3999857680498264, 0.0, 0.9721940908569785, 0.7309337370681436, 0.50085612248579, 0.0, 0.5652907248001355, 0.0, 2.059072821426427, 1.0599690745945503, 1.873954908863369, 0.8742397031612932, 0.999949712378043, 0.0, 1.0008472334255847, 0.5365226444391592, 0.7449962000489353, 0.0, 2.810210844964293, 2.7346410157266163, 0.5347634428287402, 0.0, 0.0], [0.9000830713220214, 1.3999857680498264, 0.0, 0.9721940908569785, 0.7309337370681436, 0.50085612248579, 0.0, 0.5652907248001355, 0.0, 2.059072821426427, 1.0599690745945503, 1.873954908863369, 0.8742397031612932, 0.999949712378043, 0.0, 1.0008472334255847, 0.5365226444391592, 0.7449962000489353, 0.0, 2.810210844964293, 2.7346410157266163, 0.5347634428287402, 0.0, 0.0], [0.9000830713220214, 1.3999857680498264, 0.0, 0.9721940908569785, 0.7309337370681436, 0.50085612248579, 0.0, 0.5652907248001355, 0.0, 2.059072821426427, 1.0599690745945503, 1.873954908863369, 0.8742397031612932, 0.999949712378043, 0.0, 1.0008472334255847, 0.5365226444391592, 0.7449962000489353, 0.0, 2.810210844964293, 2.7346410157266163, 0.5347634428287402, 0.0, 0.0], [0.9000830713220214, 1.3999857680498264, 0.0, 0.9721940908569785, 0.7309337370681436, 0.50085612248579, 0.0, 0.5652907248001355, 0.0, 2.059072821426427, 1.0599690745945503, 1.873954908863369, 0.8742397031612932, 0.999949712378043, 0.0, 1.0008472334255847, 0.5365226444391592, 0.7449962000489353, 0.0, 2.810210844964293, 2.7346410157266163, 0.5347634428287402, 0.0, 0.0], [0.9000830713220214, 1.3999857680498264, 0.0, 0.9721940908569785, 0.7309337370681436, 0.50085612248579, 0.0, 0.5652907248001355, 0.0, 2.059072821426427, 1.0599690745945503, 1.873954908863369, 0.8742397031612932, 0.999949712378043, 0.0, 1.0008472334255847, 0.5365226444391592, 0.7449962000489353, 0.0, 2.810210844964293, 2.7346410157266163, 0.5347634428287402, 0.0, 0.0], [0.9000830713220214, 1.3999857680498264, 0.0, 0.9721940908569785, 0.7309337370681436, 0.50085612248579, 0.0, 0.5652907248001355, 0.0, 2.059072821426427, 1.0599690745945503, 1.873954908863369, 0.8742397031612932, 0.999949712378043, 0.0, 1.0008472334255847, 0.5365226444391592, 0.7449962000489353, 0.0, 2.810210844964293, 2.7346410157266163, 0.5347634428287402, 0.0, 0.0], [0.9000830713220214, 1.3999857680498264, 0.0, 0.9721940908569785, 0.7309337370681436, 0.50085612248579, 0.0, 0.5652907248001355, 0.0, 2.059072821426427, 1.0599690745945503, 1.873954908863369, 0.8742397031612932, 0.999949712378043, 0.0, 1.0008472334255847, 0.5365226444391592, 0.7449962000489353, 0.0, 2.810210844964293, 2.7346410157266163, 0.5347634428287402, 0.0, 0.0], [0.9000830713220214, 1.3999857680498264, 0.0, 0.9721940908569785, 0.7309337370681436, 0.50085612248579, 0.0, 0.5652907248001355, 0.0, 2.059072821426427, 1.0599690745945503, 1.873954908863369, 0.8742397031612932, 0.999949712378043, 0.0, 1.0008472334255847, 0.5365226444391592, 0.7449962000489353, 0.0, 2.810210844964293, 2.7346410157266163, 0.5347634428287402, 0.0, 0.0], [0.9000830713220214, 1.3999857680498264, 0.0, 0.9721940908569785, 0.7309337370681436, 0.50085612248579, 0.0, 0.5652907248001355, 0.0, 2.059072821426427, 1.0599690745945503, 1.873954908863369, 0.8742397031612932, 0.999949712378043, 0.0, 1.0008472334255847, 0.5365226444391592, 0.7449962000489353, 0.0, 2.810210844964293, 2.7346410157266163, 0.5347634428287402, 0.0, 0.0], [0.9000830713220214, 1.3999857680498264, 0.0, 0.9721940908569785, 0.7309337370681436, 0.50085612248579, 0.0, 0.5652907248001355, 0.0, 2.059072821426427, 1.0599690745945503, 1.873954908863369, 0.8742397031612932, 0.999949712378043, 0.0, 1.0008472334255847, 0.5365226444391592, 0.7449962000489353, 0.0, 2.810210844964293, 2.7346410157266163, 0.5347634428287402, 0.0, 0.0]]\n"
     ]
    },
    {
     "name": "stdout",
     "output_type": "stream",
     "text": [
      "[6, 23, 19]\n",
      "[[0, 0, 0, 0, 0, 0, 0, 0, 0, 0, 0, 0, 0, 0, 0, 0, 0, 0, 0, 0, -0.8603948276913367, 0, 0, 0], [0, 0, 0, 0, 0, 0, 0, 0, 0, 0, 0, 0, 0, 0, 0, 0, 0, 0, 0, 0, 0.5802501748289065, 0, 0, 0], [0, 0, 0, 0, 0, 0, 0, 0, 0, 0, 0, 0, 0, 0, 0, 0, 0, 0, 0, 0, 0, 0, 0, 0], [0, 0.8142484694241623, 0, 0, 0.7309337370681436, 0, 0, 0, 0, 0, 0, 0, 0, 0, 0, 0, 0, 0, 0, 0, 0, 0, 0, 0], [0, 0, 0, 0.9721940908569785, 0, 0, 0, 0, 0, 0, 0, 0, 0, 0, 0, 0, 0, 0, 0, 0, 0, 0, 0, 0], [0, 0, 0, 0, 0, 0, 0, 0, 0, 0, 0, 0, 0, 0, 0, 0, 0, 0, 0, 0, 0, 0, 0, 0], [0, 0, 0, 0, 0, 0, 0, 0, 0, 0, 0, 0, 0, 0, 0, 0, 0, 0, 0, 0, 0, 0, 0, 0], [0, -0.5857372986256643, 0, 0, 0, 0, 0, 0, 0, 0, 0, 0, 0, 0, 0, 0, 0, 0, 0, 0, 0, 0, 0, 0], [0, 0, 0, 0, 0, 0, 0, 0, 0, 0, 0, 0, 0, 0, 0, 0, 0, 0, 0, 0, 0, 0, 0, 0], [0, 0, 0, 0, 0, 0, 0, 0, 0, 0, 0, 0, 0, 0, 0, 0.5005322307112356, 0, 0, 0, 0, 0, 0, 0, 0], [0, 0, 0, 0, 0, 0, 0, 0, 0, 0.9995660065299569, 0, 0, 0, 0, 0, 0.500315002714349, 0, 0, 0, 0, 0, 0, 0, 0], [0, 0, 0, 0, 0, 0, 0, 0, 0, 0, 0, 0, 0, 0, 0, 0, 0, 0, 0, 0, 0, 0, 0, 0], [0, 0, 0, 0, 0, 0, 0, 0, 0, 0, 0, 0.9998481266912834, 0, 0, 0, 0, 0, 0, 0, 0, 0, 0, 0, 0], [0, 0, 0, 0, 0, 0, 0, 0, 0, -0.5297669073958496, -0.5299980431327922, 0.43706434109684994, 0.43713080325624293, 0, 0, 0, 0, 0, 0, 0, 0, 0, 0, 0], [0, 0, 0, 0, 0, 0, 0, 0, 0, -0.5297399075006204, -0.5299710314617581, 0.4370424410752356, 0.43710889990505025, 0.999949712378043, 0, 0, 0, 0, 0, 0, 0, 0, 0, 0], [0, 0, 0, 0, 0, 0, 0, 0.5652907248001355, 0, 0, 0, 0, 0, 0, 0, 0, 0, 0, 0, 0, 0, 0, 0, 0], [0, 0, 0, 0, 0, 0, 0, 0, 0, 0, 0, 0, 0, 0, 0, 0, 0, 0.7449962000489353, 0, 0, 0, 0, 0, 0], [0, 0, 0, 0, 0, 0.50085612248579, 0, 0, 0, 0, 0, 0, 0, 0, 0, 0, 0.5365226444391592, 0, 0, 0, 0, 0, 0, 0], [0, 0, 0, 0, 0, 0, 0, 0, 0, 0, 0, 0, 0, 0, 0, 0, 0, 0, 0, 0, 0, 0, 0, 0], [0, 0, 0, 0, 0, 0, 0, 0, 0, 0, 0, 0, 0, 0, 0, 0, 0, 0, 0, 0, 0, 0, 0, 0], [0, 0, 0, 0, 0, 0, 0, 0, 0, 0, 0, 0, 0, 0, 0, 0, 0, 0, 0, 0, 0, -0.5347634428287402, 0, 0], [0, 0, 0, 0, 0, 0, 0, 0, 0, 0, 0, 0, 0, 0, 0, 0, 0, 0, 0, 0, -0.6434410923648942, 0, 0, 0], [-0.49296266852625126, 0, 0, 0, 0, 0, 0, 0, 0, 0, 0, 0, 0, 0, 0, 0, 0, 0, 0, 0, 0, 0, 0, 0], [0, 0, 0, 0, 0, 0, 0, 0, 0, 0, 0, 0, 0, 0, 0, 0, 0, 0, 0, 0, 0, 0, 0, 0]]\n",
      "\n",
      "\n",
      "importance matrix\n"
     ]
    },
    {
     "name": "stdout",
     "output_type": "stream",
     "text": [
      "[[0.49296266852625126, 1.3999857680498264, 0.0, 0.9721940908569785, 0.7309337370681436, 0.50085612248579, 0.0, 0.5652907248001355, 0.0, 2.059072821426427, 1.0599690745945503, 1.873954908863369, 0.8742397031612932, 0.999949712378043, 0.0, 1.0008472334255847, 0.5365226444391592, 0.7449962000489353, 0.0, 0.0, 2.084086094885137, 0.5347634428287402, 0.0, 0.0], [0.49296266852625126, 1.3999857680498264, 0.0, 0.9721940908569785, 0.7309337370681436, 0.50085612248579, 0.0, 0.5652907248001355, 0.0, 2.059072821426427, 1.0599690745945503, 1.873954908863369, 0.8742397031612932, 0.999949712378043, 0.0, 1.0008472334255847, 0.5365226444391592, 0.7449962000489353, 0.0, 0.0, 2.084086094885137, 0.5347634428287402, 0.0, 0.0], [0.49296266852625126, 1.3999857680498264, 0.0, 0.9721940908569785, 0.7309337370681436, 0.50085612248579, 0.0, 0.5652907248001355, 0.0, 2.059072821426427, 1.0599690745945503, 1.873954908863369, 0.8742397031612932, 0.999949712378043, 0.0, 1.0008472334255847, 0.5365226444391592, 0.7449962000489353, 0.0, 0.0, 2.084086094885137, 0.5347634428287402, 0.0, 0.0], [0.49296266852625126, 1.3999857680498264, 0.0, 0.9721940908569785, 0.7309337370681436, 0.50085612248579, 0.0, 0.5652907248001355, 0.0, 2.059072821426427, 1.0599690745945503, 1.873954908863369, 0.8742397031612932, 0.999949712378043, 0.0, 1.0008472334255847, 0.5365226444391592, 0.7449962000489353, 0.0, 0.0, 2.084086094885137, 0.5347634428287402, 0.0, 0.0], [0.49296266852625126, 1.3999857680498264, 0.0, 0.9721940908569785, 0.7309337370681436, 0.50085612248579, 0.0, 0.5652907248001355, 0.0, 2.059072821426427, 1.0599690745945503, 1.873954908863369, 0.8742397031612932, 0.999949712378043, 0.0, 1.0008472334255847, 0.5365226444391592, 0.7449962000489353, 0.0, 0.0, 2.084086094885137, 0.5347634428287402, 0.0, 0.0], [0.49296266852625126, 1.3999857680498264, 0.0, 0.9721940908569785, 0.7309337370681436, 0.50085612248579, 0.0, 0.5652907248001355, 0.0, 2.059072821426427, 1.0599690745945503, 1.873954908863369, 0.8742397031612932, 0.999949712378043, 0.0, 1.0008472334255847, 0.5365226444391592, 0.7449962000489353, 0.0, 0.0, 2.084086094885137, 0.5347634428287402, 0.0, 0.0], [0.49296266852625126, 1.3999857680498264, 0.0, 0.9721940908569785, 0.7309337370681436, 0.50085612248579, 0.0, 0.5652907248001355, 0.0, 2.059072821426427, 1.0599690745945503, 1.873954908863369, 0.8742397031612932, 0.999949712378043, 0.0, 1.0008472334255847, 0.5365226444391592, 0.7449962000489353, 0.0, 0.0, 2.084086094885137, 0.5347634428287402, 0.0, 0.0], [0.49296266852625126, 1.3999857680498264, 0.0, 0.9721940908569785, 0.7309337370681436, 0.50085612248579, 0.0, 0.5652907248001355, 0.0, 2.059072821426427, 1.0599690745945503, 1.873954908863369, 0.8742397031612932, 0.999949712378043, 0.0, 1.0008472334255847, 0.5365226444391592, 0.7449962000489353, 0.0, 0.0, 2.084086094885137, 0.5347634428287402, 0.0, 0.0], [0.49296266852625126, 1.3999857680498264, 0.0, 0.9721940908569785, 0.7309337370681436, 0.50085612248579, 0.0, 0.5652907248001355, 0.0, 2.059072821426427, 1.0599690745945503, 1.873954908863369, 0.8742397031612932, 0.999949712378043, 0.0, 1.0008472334255847, 0.5365226444391592, 0.7449962000489353, 0.0, 0.0, 2.084086094885137, 0.5347634428287402, 0.0, 0.0], [0.49296266852625126, 1.3999857680498264, 0.0, 0.9721940908569785, 0.7309337370681436, 0.50085612248579, 0.0, 0.5652907248001355, 0.0, 2.059072821426427, 1.0599690745945503, 1.873954908863369, 0.8742397031612932, 0.999949712378043, 0.0, 1.0008472334255847, 0.5365226444391592, 0.7449962000489353, 0.0, 0.0, 2.084086094885137, 0.5347634428287402, 0.0, 0.0], [0.49296266852625126, 1.3999857680498264, 0.0, 0.9721940908569785, 0.7309337370681436, 0.50085612248579, 0.0, 0.5652907248001355, 0.0, 2.059072821426427, 1.0599690745945503, 1.873954908863369, 0.8742397031612932, 0.999949712378043, 0.0, 1.0008472334255847, 0.5365226444391592, 0.7449962000489353, 0.0, 0.0, 2.084086094885137, 0.5347634428287402, 0.0, 0.0], [0.49296266852625126, 1.3999857680498264, 0.0, 0.9721940908569785, 0.7309337370681436, 0.50085612248579, 0.0, 0.5652907248001355, 0.0, 2.059072821426427, 1.0599690745945503, 1.873954908863369, 0.8742397031612932, 0.999949712378043, 0.0, 1.0008472334255847, 0.5365226444391592, 0.7449962000489353, 0.0, 0.0, 2.084086094885137, 0.5347634428287402, 0.0, 0.0], [0.49296266852625126, 1.3999857680498264, 0.0, 0.9721940908569785, 0.7309337370681436, 0.50085612248579, 0.0, 0.5652907248001355, 0.0, 2.059072821426427, 1.0599690745945503, 1.873954908863369, 0.8742397031612932, 0.999949712378043, 0.0, 1.0008472334255847, 0.5365226444391592, 0.7449962000489353, 0.0, 0.0, 2.084086094885137, 0.5347634428287402, 0.0, 0.0], [0.49296266852625126, 1.3999857680498264, 0.0, 0.9721940908569785, 0.7309337370681436, 0.50085612248579, 0.0, 0.5652907248001355, 0.0, 2.059072821426427, 1.0599690745945503, 1.873954908863369, 0.8742397031612932, 0.999949712378043, 0.0, 1.0008472334255847, 0.5365226444391592, 0.7449962000489353, 0.0, 0.0, 2.084086094885137, 0.5347634428287402, 0.0, 0.0], [0.49296266852625126, 1.3999857680498264, 0.0, 0.9721940908569785, 0.7309337370681436, 0.50085612248579, 0.0, 0.5652907248001355, 0.0, 2.059072821426427, 1.0599690745945503, 1.873954908863369, 0.8742397031612932, 0.999949712378043, 0.0, 1.0008472334255847, 0.5365226444391592, 0.7449962000489353, 0.0, 0.0, 2.084086094885137, 0.5347634428287402, 0.0, 0.0], [0.49296266852625126, 1.3999857680498264, 0.0, 0.9721940908569785, 0.7309337370681436, 0.50085612248579, 0.0, 0.5652907248001355, 0.0, 2.059072821426427, 1.0599690745945503, 1.873954908863369, 0.8742397031612932, 0.999949712378043, 0.0, 1.0008472334255847, 0.5365226444391592, 0.7449962000489353, 0.0, 0.0, 2.084086094885137, 0.5347634428287402, 0.0, 0.0], [0.49296266852625126, 1.3999857680498264, 0.0, 0.9721940908569785, 0.7309337370681436, 0.50085612248579, 0.0, 0.5652907248001355, 0.0, 2.059072821426427, 1.0599690745945503, 1.873954908863369, 0.8742397031612932, 0.999949712378043, 0.0, 1.0008472334255847, 0.5365226444391592, 0.7449962000489353, 0.0, 0.0, 2.084086094885137, 0.5347634428287402, 0.0, 0.0], [0.49296266852625126, 1.3999857680498264, 0.0, 0.9721940908569785, 0.7309337370681436, 0.50085612248579, 0.0, 0.5652907248001355, 0.0, 2.059072821426427, 1.0599690745945503, 1.873954908863369, 0.8742397031612932, 0.999949712378043, 0.0, 1.0008472334255847, 0.5365226444391592, 0.7449962000489353, 0.0, 0.0, 2.084086094885137, 0.5347634428287402, 0.0, 0.0], [0.49296266852625126, 1.3999857680498264, 0.0, 0.9721940908569785, 0.7309337370681436, 0.50085612248579, 0.0, 0.5652907248001355, 0.0, 2.059072821426427, 1.0599690745945503, 1.873954908863369, 0.8742397031612932, 0.999949712378043, 0.0, 1.0008472334255847, 0.5365226444391592, 0.7449962000489353, 0.0, 0.0, 2.084086094885137, 0.5347634428287402, 0.0, 0.0], [0.49296266852625126, 1.3999857680498264, 0.0, 0.9721940908569785, 0.7309337370681436, 0.50085612248579, 0.0, 0.5652907248001355, 0.0, 2.059072821426427, 1.0599690745945503, 1.873954908863369, 0.8742397031612932, 0.999949712378043, 0.0, 1.0008472334255847, 0.5365226444391592, 0.7449962000489353, 0.0, 0.0, 2.084086094885137, 0.5347634428287402, 0.0, 0.0], [0.49296266852625126, 1.3999857680498264, 0.0, 0.9721940908569785, 0.7309337370681436, 0.50085612248579, 0.0, 0.5652907248001355, 0.0, 2.059072821426427, 1.0599690745945503, 1.873954908863369, 0.8742397031612932, 0.999949712378043, 0.0, 1.0008472334255847, 0.5365226444391592, 0.7449962000489353, 0.0, 0.0, 2.084086094885137, 0.5347634428287402, 0.0, 0.0], [0.49296266852625126, 1.3999857680498264, 0.0, 0.9721940908569785, 0.7309337370681436, 0.50085612248579, 0.0, 0.5652907248001355, 0.0, 2.059072821426427, 1.0599690745945503, 1.873954908863369, 0.8742397031612932, 0.999949712378043, 0.0, 1.0008472334255847, 0.5365226444391592, 0.7449962000489353, 0.0, 0.0, 2.084086094885137, 0.5347634428287402, 0.0, 0.0], [0.49296266852625126, 1.3999857680498264, 0.0, 0.9721940908569785, 0.7309337370681436, 0.50085612248579, 0.0, 0.5652907248001355, 0.0, 2.059072821426427, 1.0599690745945503, 1.873954908863369, 0.8742397031612932, 0.999949712378043, 0.0, 1.0008472334255847, 0.5365226444391592, 0.7449962000489353, 0.0, 0.0, 2.084086094885137, 0.5347634428287402, 0.0, 0.0], [0.49296266852625126, 1.3999857680498264, 0.0, 0.9721940908569785, 0.7309337370681436, 0.50085612248579, 0.0, 0.5652907248001355, 0.0, 2.059072821426427, 1.0599690745945503, 1.873954908863369, 0.8742397031612932, 0.999949712378043, 0.0, 1.0008472334255847, 0.5365226444391592, 0.7449962000489353, 0.0, 0.0, 2.084086094885137, 0.5347634428287402, 0.0, 0.0]]\n"
     ]
    },
    {
     "name": "stdout",
     "output_type": "stream",
     "text": [
      "[6, 23, 19, 20]\n",
      "[[0, 0, 0, 0, 0, 0, 0, 0, 0, 0, 0, 0, 0, 0, 0, 0, 0, 0, 0, 0, 0, 0, 0, 0], [0, 0, 0, 0, 0, 0, 0, 0, 0, 0, 0, 0, 0, 0, 0, 0, 0, 0, 0, 0, 0, 0, 0, 0], [0, 0, 0, 0, 0, 0, 0, 0, 0, 0, 0, 0, 0, 0, 0, 0, 0, 0, 0, 0, 0, 0, 0, 0], [0, 0.8142484694241623, 0, 0, 0.7309337370681436, 0, 0, 0, 0, 0, 0, 0, 0, 0, 0, 0, 0, 0, 0, 0, 0, 0, 0, 0], [0, 0, 0, 0.9721940908569785, 0, 0, 0, 0, 0, 0, 0, 0, 0, 0, 0, 0, 0, 0, 0, 0, 0, 0, 0, 0], [0, 0, 0, 0, 0, 0, 0, 0, 0, 0, 0, 0, 0, 0, 0, 0, 0, 0, 0, 0, 0, 0, 0, 0], [0, 0, 0, 0, 0, 0, 0, 0, 0, 0, 0, 0, 0, 0, 0, 0, 0, 0, 0, 0, 0, 0, 0, 0], [0, -0.5857372986256643, 0, 0, 0, 0, 0, 0, 0, 0, 0, 0, 0, 0, 0, 0, 0, 0, 0, 0, 0, 0, 0, 0], [0, 0, 0, 0, 0, 0, 0, 0, 0, 0, 0, 0, 0, 0, 0, 0, 0, 0, 0, 0, 0, 0, 0, 0], [0, 0, 0, 0, 0, 0, 0, 0, 0, 0, 0, 0, 0, 0, 0, 0.5005322307112356, 0, 0, 0, 0, 0, 0, 0, 0], [0, 0, 0, 0, 0, 0, 0, 0, 0, 0.9995660065299569, 0, 0, 0, 0, 0, 0.500315002714349, 0, 0, 0, 0, 0, 0, 0, 0], [0, 0, 0, 0, 0, 0, 0, 0, 0, 0, 0, 0, 0, 0, 0, 0, 0, 0, 0, 0, 0, 0, 0, 0], [0, 0, 0, 0, 0, 0, 0, 0, 0, 0, 0, 0.9998481266912834, 0, 0, 0, 0, 0, 0, 0, 0, 0, 0, 0, 0], [0, 0, 0, 0, 0, 0, 0, 0, 0, -0.5297669073958496, -0.5299980431327922, 0.43706434109684994, 0.43713080325624293, 0, 0, 0, 0, 0, 0, 0, 0, 0, 0, 0], [0, 0, 0, 0, 0, 0, 0, 0, 0, -0.5297399075006204, -0.5299710314617581, 0.4370424410752356, 0.43710889990505025, 0.999949712378043, 0, 0, 0, 0, 0, 0, 0, 0, 0, 0], [0, 0, 0, 0, 0, 0, 0, 0.5652907248001355, 0, 0, 0, 0, 0, 0, 0, 0, 0, 0, 0, 0, 0, 0, 0, 0], [0, 0, 0, 0, 0, 0, 0, 0, 0, 0, 0, 0, 0, 0, 0, 0, 0, 0.7449962000489353, 0, 0, 0, 0, 0, 0], [0, 0, 0, 0, 0, 0.50085612248579, 0, 0, 0, 0, 0, 0, 0, 0, 0, 0, 0.5365226444391592, 0, 0, 0, 0, 0, 0, 0], [0, 0, 0, 0, 0, 0, 0, 0, 0, 0, 0, 0, 0, 0, 0, 0, 0, 0, 0, 0, 0, 0, 0, 0], [0, 0, 0, 0, 0, 0, 0, 0, 0, 0, 0, 0, 0, 0, 0, 0, 0, 0, 0, 0, 0, 0, 0, 0], [0, 0, 0, 0, 0, 0, 0, 0, 0, 0, 0, 0, 0, 0, 0, 0, 0, 0, 0, 0, 0, 0, 0, 0], [0, 0, 0, 0, 0, 0, 0, 0, 0, 0, 0, 0, 0, 0, 0, 0, 0, 0, 0, 0, 0, 0, 0, 0], [-0.49296266852625126, 0, 0, 0, 0, 0, 0, 0, 0, 0, 0, 0, 0, 0, 0, 0, 0, 0, 0, 0, 0, 0, 0, 0], [0, 0, 0, 0, 0, 0, 0, 0, 0, 0, 0, 0, 0, 0, 0, 0, 0, 0, 0, 0, 0, 0, 0, 0]]\n",
      "\n",
      "\n",
      "importance matrix\n"
     ]
    },
    {
     "name": "stdout",
     "output_type": "stream",
     "text": [
      "[[0.49296266852625126, 1.3999857680498264, 0.0, 0.9721940908569785, 0.7309337370681436, 0.50085612248579, 0.0, 0.5652907248001355, 0.0, 2.059072821426427, 1.0599690745945503, 1.873954908863369, 0.8742397031612932, 0.999949712378043, 0.0, 1.0008472334255847, 0.5365226444391592, 0.7449962000489353, 0.0, 0.0, 0.0, 0.0, 0.0, 0.0], [0.49296266852625126, 1.3999857680498264, 0.0, 0.9721940908569785, 0.7309337370681436, 0.50085612248579, 0.0, 0.5652907248001355, 0.0, 2.059072821426427, 1.0599690745945503, 1.873954908863369, 0.8742397031612932, 0.999949712378043, 0.0, 1.0008472334255847, 0.5365226444391592, 0.7449962000489353, 0.0, 0.0, 0.0, 0.0, 0.0, 0.0], [0.49296266852625126, 1.3999857680498264, 0.0, 0.9721940908569785, 0.7309337370681436, 0.50085612248579, 0.0, 0.5652907248001355, 0.0, 2.059072821426427, 1.0599690745945503, 1.873954908863369, 0.8742397031612932, 0.999949712378043, 0.0, 1.0008472334255847, 0.5365226444391592, 0.7449962000489353, 0.0, 0.0, 0.0, 0.0, 0.0, 0.0], [0.49296266852625126, 1.3999857680498264, 0.0, 0.9721940908569785, 0.7309337370681436, 0.50085612248579, 0.0, 0.5652907248001355, 0.0, 2.059072821426427, 1.0599690745945503, 1.873954908863369, 0.8742397031612932, 0.999949712378043, 0.0, 1.0008472334255847, 0.5365226444391592, 0.7449962000489353, 0.0, 0.0, 0.0, 0.0, 0.0, 0.0], [0.49296266852625126, 1.3999857680498264, 0.0, 0.9721940908569785, 0.7309337370681436, 0.50085612248579, 0.0, 0.5652907248001355, 0.0, 2.059072821426427, 1.0599690745945503, 1.873954908863369, 0.8742397031612932, 0.999949712378043, 0.0, 1.0008472334255847, 0.5365226444391592, 0.7449962000489353, 0.0, 0.0, 0.0, 0.0, 0.0, 0.0], [0.49296266852625126, 1.3999857680498264, 0.0, 0.9721940908569785, 0.7309337370681436, 0.50085612248579, 0.0, 0.5652907248001355, 0.0, 2.059072821426427, 1.0599690745945503, 1.873954908863369, 0.8742397031612932, 0.999949712378043, 0.0, 1.0008472334255847, 0.5365226444391592, 0.7449962000489353, 0.0, 0.0, 0.0, 0.0, 0.0, 0.0], [0.49296266852625126, 1.3999857680498264, 0.0, 0.9721940908569785, 0.7309337370681436, 0.50085612248579, 0.0, 0.5652907248001355, 0.0, 2.059072821426427, 1.0599690745945503, 1.873954908863369, 0.8742397031612932, 0.999949712378043, 0.0, 1.0008472334255847, 0.5365226444391592, 0.7449962000489353, 0.0, 0.0, 0.0, 0.0, 0.0, 0.0], [0.49296266852625126, 1.3999857680498264, 0.0, 0.9721940908569785, 0.7309337370681436, 0.50085612248579, 0.0, 0.5652907248001355, 0.0, 2.059072821426427, 1.0599690745945503, 1.873954908863369, 0.8742397031612932, 0.999949712378043, 0.0, 1.0008472334255847, 0.5365226444391592, 0.7449962000489353, 0.0, 0.0, 0.0, 0.0, 0.0, 0.0], [0.49296266852625126, 1.3999857680498264, 0.0, 0.9721940908569785, 0.7309337370681436, 0.50085612248579, 0.0, 0.5652907248001355, 0.0, 2.059072821426427, 1.0599690745945503, 1.873954908863369, 0.8742397031612932, 0.999949712378043, 0.0, 1.0008472334255847, 0.5365226444391592, 0.7449962000489353, 0.0, 0.0, 0.0, 0.0, 0.0, 0.0], [0.49296266852625126, 1.3999857680498264, 0.0, 0.9721940908569785, 0.7309337370681436, 0.50085612248579, 0.0, 0.5652907248001355, 0.0, 2.059072821426427, 1.0599690745945503, 1.873954908863369, 0.8742397031612932, 0.999949712378043, 0.0, 1.0008472334255847, 0.5365226444391592, 0.7449962000489353, 0.0, 0.0, 0.0, 0.0, 0.0, 0.0], [0.49296266852625126, 1.3999857680498264, 0.0, 0.9721940908569785, 0.7309337370681436, 0.50085612248579, 0.0, 0.5652907248001355, 0.0, 2.059072821426427, 1.0599690745945503, 1.873954908863369, 0.8742397031612932, 0.999949712378043, 0.0, 1.0008472334255847, 0.5365226444391592, 0.7449962000489353, 0.0, 0.0, 0.0, 0.0, 0.0, 0.0], [0.49296266852625126, 1.3999857680498264, 0.0, 0.9721940908569785, 0.7309337370681436, 0.50085612248579, 0.0, 0.5652907248001355, 0.0, 2.059072821426427, 1.0599690745945503, 1.873954908863369, 0.8742397031612932, 0.999949712378043, 0.0, 1.0008472334255847, 0.5365226444391592, 0.7449962000489353, 0.0, 0.0, 0.0, 0.0, 0.0, 0.0], [0.49296266852625126, 1.3999857680498264, 0.0, 0.9721940908569785, 0.7309337370681436, 0.50085612248579, 0.0, 0.5652907248001355, 0.0, 2.059072821426427, 1.0599690745945503, 1.873954908863369, 0.8742397031612932, 0.999949712378043, 0.0, 1.0008472334255847, 0.5365226444391592, 0.7449962000489353, 0.0, 0.0, 0.0, 0.0, 0.0, 0.0], [0.49296266852625126, 1.3999857680498264, 0.0, 0.9721940908569785, 0.7309337370681436, 0.50085612248579, 0.0, 0.5652907248001355, 0.0, 2.059072821426427, 1.0599690745945503, 1.873954908863369, 0.8742397031612932, 0.999949712378043, 0.0, 1.0008472334255847, 0.5365226444391592, 0.7449962000489353, 0.0, 0.0, 0.0, 0.0, 0.0, 0.0], [0.49296266852625126, 1.3999857680498264, 0.0, 0.9721940908569785, 0.7309337370681436, 0.50085612248579, 0.0, 0.5652907248001355, 0.0, 2.059072821426427, 1.0599690745945503, 1.873954908863369, 0.8742397031612932, 0.999949712378043, 0.0, 1.0008472334255847, 0.5365226444391592, 0.7449962000489353, 0.0, 0.0, 0.0, 0.0, 0.0, 0.0], [0.49296266852625126, 1.3999857680498264, 0.0, 0.9721940908569785, 0.7309337370681436, 0.50085612248579, 0.0, 0.5652907248001355, 0.0, 2.059072821426427, 1.0599690745945503, 1.873954908863369, 0.8742397031612932, 0.999949712378043, 0.0, 1.0008472334255847, 0.5365226444391592, 0.7449962000489353, 0.0, 0.0, 0.0, 0.0, 0.0, 0.0], [0.49296266852625126, 1.3999857680498264, 0.0, 0.9721940908569785, 0.7309337370681436, 0.50085612248579, 0.0, 0.5652907248001355, 0.0, 2.059072821426427, 1.0599690745945503, 1.873954908863369, 0.8742397031612932, 0.999949712378043, 0.0, 1.0008472334255847, 0.5365226444391592, 0.7449962000489353, 0.0, 0.0, 0.0, 0.0, 0.0, 0.0], [0.49296266852625126, 1.3999857680498264, 0.0, 0.9721940908569785, 0.7309337370681436, 0.50085612248579, 0.0, 0.5652907248001355, 0.0, 2.059072821426427, 1.0599690745945503, 1.873954908863369, 0.8742397031612932, 0.999949712378043, 0.0, 1.0008472334255847, 0.5365226444391592, 0.7449962000489353, 0.0, 0.0, 0.0, 0.0, 0.0, 0.0], [0.49296266852625126, 1.3999857680498264, 0.0, 0.9721940908569785, 0.7309337370681436, 0.50085612248579, 0.0, 0.5652907248001355, 0.0, 2.059072821426427, 1.0599690745945503, 1.873954908863369, 0.8742397031612932, 0.999949712378043, 0.0, 1.0008472334255847, 0.5365226444391592, 0.7449962000489353, 0.0, 0.0, 0.0, 0.0, 0.0, 0.0], [0.49296266852625126, 1.3999857680498264, 0.0, 0.9721940908569785, 0.7309337370681436, 0.50085612248579, 0.0, 0.5652907248001355, 0.0, 2.059072821426427, 1.0599690745945503, 1.873954908863369, 0.8742397031612932, 0.999949712378043, 0.0, 1.0008472334255847, 0.5365226444391592, 0.7449962000489353, 0.0, 0.0, 0.0, 0.0, 0.0, 0.0], [0.49296266852625126, 1.3999857680498264, 0.0, 0.9721940908569785, 0.7309337370681436, 0.50085612248579, 0.0, 0.5652907248001355, 0.0, 2.059072821426427, 1.0599690745945503, 1.873954908863369, 0.8742397031612932, 0.999949712378043, 0.0, 1.0008472334255847, 0.5365226444391592, 0.7449962000489353, 0.0, 0.0, 0.0, 0.0, 0.0, 0.0], [0.49296266852625126, 1.3999857680498264, 0.0, 0.9721940908569785, 0.7309337370681436, 0.50085612248579, 0.0, 0.5652907248001355, 0.0, 2.059072821426427, 1.0599690745945503, 1.873954908863369, 0.8742397031612932, 0.999949712378043, 0.0, 1.0008472334255847, 0.5365226444391592, 0.7449962000489353, 0.0, 0.0, 0.0, 0.0, 0.0, 0.0], [0.49296266852625126, 1.3999857680498264, 0.0, 0.9721940908569785, 0.7309337370681436, 0.50085612248579, 0.0, 0.5652907248001355, 0.0, 2.059072821426427, 1.0599690745945503, 1.873954908863369, 0.8742397031612932, 0.999949712378043, 0.0, 1.0008472334255847, 0.5365226444391592, 0.7449962000489353, 0.0, 0.0, 0.0, 0.0, 0.0, 0.0], [0.49296266852625126, 1.3999857680498264, 0.0, 0.9721940908569785, 0.7309337370681436, 0.50085612248579, 0.0, 0.5652907248001355, 0.0, 2.059072821426427, 1.0599690745945503, 1.873954908863369, 0.8742397031612932, 0.999949712378043, 0.0, 1.0008472334255847, 0.5365226444391592, 0.7449962000489353, 0.0, 0.0, 0.0, 0.0, 0.0, 0.0]]\n",
      "[6, 23, 19, 20, 9]\n"
     ]
    },
    {
     "name": "stdout",
     "output_type": "stream",
     "text": [
      "[[0, 0, 0, 0, 0, 0, 0, 0, 0, 0, 0, 0, 0, 0, 0, 0, 0, 0, 0, 0, 0, 0, 0, 0], [0, 0, 0, 0, 0, 0, 0, 0, 0, 0, 0, 0, 0, 0, 0, 0, 0, 0, 0, 0, 0, 0, 0, 0], [0, 0, 0, 0, 0, 0, 0, 0, 0, 0, 0, 0, 0, 0, 0, 0, 0, 0, 0, 0, 0, 0, 0, 0], [0, 0.8142484694241623, 0, 0, 0.7309337370681436, 0, 0, 0, 0, 0, 0, 0, 0, 0, 0, 0, 0, 0, 0, 0, 0, 0, 0, 0], [0, 0, 0, 0.9721940908569785, 0, 0, 0, 0, 0, 0, 0, 0, 0, 0, 0, 0, 0, 0, 0, 0, 0, 0, 0, 0], [0, 0, 0, 0, 0, 0, 0, 0, 0, 0, 0, 0, 0, 0, 0, 0, 0, 0, 0, 0, 0, 0, 0, 0], [0, 0, 0, 0, 0, 0, 0, 0, 0, 0, 0, 0, 0, 0, 0, 0, 0, 0, 0, 0, 0, 0, 0, 0], [0, -0.5857372986256643, 0, 0, 0, 0, 0, 0, 0, 0, 0, 0, 0, 0, 0, 0, 0, 0, 0, 0, 0, 0, 0, 0], [0, 0, 0, 0, 0, 0, 0, 0, 0, 0, 0, 0, 0, 0, 0, 0, 0, 0, 0, 0, 0, 0, 0, 0], [0, 0, 0, 0, 0, 0, 0, 0, 0, 0, 0, 0, 0, 0, 0, 0, 0, 0, 0, 0, 0, 0, 0, 0], [0, 0, 0, 0, 0, 0, 0, 0, 0, 0, 0, 0, 0, 0, 0, 0.500315002714349, 0, 0, 0, 0, 0, 0, 0, 0], [0, 0, 0, 0, 0, 0, 0, 0, 0, 0, 0, 0, 0, 0, 0, 0, 0, 0, 0, 0, 0, 0, 0, 0], [0, 0, 0, 0, 0, 0, 0, 0, 0, 0, 0, 0.9998481266912834, 0, 0, 0, 0, 0, 0, 0, 0, 0, 0, 0, 0], [0, 0, 0, 0, 0, 0, 0, 0, 0, 0, -0.5299980431327922, 0.43706434109684994, 0.43713080325624293, 0, 0, 0, 0, 0, 0, 0, 0, 0, 0, 0], [0, 0, 0, 0, 0, 0, 0, 0, 0, 0, -0.5299710314617581, 0.4370424410752356, 0.43710889990505025, 0.999949712378043, 0, 0, 0, 0, 0, 0, 0, 0, 0, 0], [0, 0, 0, 0, 0, 0, 0, 0.5652907248001355, 0, 0, 0, 0, 0, 0, 0, 0, 0, 0, 0, 0, 0, 0, 0, 0], [0, 0, 0, 0, 0, 0, 0, 0, 0, 0, 0, 0, 0, 0, 0, 0, 0, 0.7449962000489353, 0, 0, 0, 0, 0, 0], [0, 0, 0, 0, 0, 0.50085612248579, 0, 0, 0, 0, 0, 0, 0, 0, 0, 0, 0.5365226444391592, 0, 0, 0, 0, 0, 0, 0], [0, 0, 0, 0, 0, 0, 0, 0, 0, 0, 0, 0, 0, 0, 0, 0, 0, 0, 0, 0, 0, 0, 0, 0], [0, 0, 0, 0, 0, 0, 0, 0, 0, 0, 0, 0, 0, 0, 0, 0, 0, 0, 0, 0, 0, 0, 0, 0], [0, 0, 0, 0, 0, 0, 0, 0, 0, 0, 0, 0, 0, 0, 0, 0, 0, 0, 0, 0, 0, 0, 0, 0], [0, 0, 0, 0, 0, 0, 0, 0, 0, 0, 0, 0, 0, 0, 0, 0, 0, 0, 0, 0, 0, 0, 0, 0], [-0.49296266852625126, 0, 0, 0, 0, 0, 0, 0, 0, 0, 0, 0, 0, 0, 0, 0, 0, 0, 0, 0, 0, 0, 0, 0], [0, 0, 0, 0, 0, 0, 0, 0, 0, 0, 0, 0, 0, 0, 0, 0, 0, 0, 0, 0, 0, 0, 0, 0]]\n",
      "\n",
      "\n",
      "importance matrix\n"
     ]
    },
    {
     "name": "stdout",
     "output_type": "stream",
     "text": [
      "[[0.49296266852625126, 1.3999857680498264, 0.0, 0.9721940908569785, 0.7309337370681436, 0.50085612248579, 0.0, 0.5652907248001355, 0.0, 0.0, 1.0599690745945503, 1.873954908863369, 0.8742397031612932, 0.999949712378043, 0.0, 0.500315002714349, 0.5365226444391592, 0.7449962000489353, 0.0, 0.0, 0.0, 0.0, 0.0, 0.0], [0.49296266852625126, 1.3999857680498264, 0.0, 0.9721940908569785, 0.7309337370681436, 0.50085612248579, 0.0, 0.5652907248001355, 0.0, 0.0, 1.0599690745945503, 1.873954908863369, 0.8742397031612932, 0.999949712378043, 0.0, 0.500315002714349, 0.5365226444391592, 0.7449962000489353, 0.0, 0.0, 0.0, 0.0, 0.0, 0.0], [0.49296266852625126, 1.3999857680498264, 0.0, 0.9721940908569785, 0.7309337370681436, 0.50085612248579, 0.0, 0.5652907248001355, 0.0, 0.0, 1.0599690745945503, 1.873954908863369, 0.8742397031612932, 0.999949712378043, 0.0, 0.500315002714349, 0.5365226444391592, 0.7449962000489353, 0.0, 0.0, 0.0, 0.0, 0.0, 0.0], [0.49296266852625126, 1.3999857680498264, 0.0, 0.9721940908569785, 0.7309337370681436, 0.50085612248579, 0.0, 0.5652907248001355, 0.0, 0.0, 1.0599690745945503, 1.873954908863369, 0.8742397031612932, 0.999949712378043, 0.0, 0.500315002714349, 0.5365226444391592, 0.7449962000489353, 0.0, 0.0, 0.0, 0.0, 0.0, 0.0], [0.49296266852625126, 1.3999857680498264, 0.0, 0.9721940908569785, 0.7309337370681436, 0.50085612248579, 0.0, 0.5652907248001355, 0.0, 0.0, 1.0599690745945503, 1.873954908863369, 0.8742397031612932, 0.999949712378043, 0.0, 0.500315002714349, 0.5365226444391592, 0.7449962000489353, 0.0, 0.0, 0.0, 0.0, 0.0, 0.0], [0.49296266852625126, 1.3999857680498264, 0.0, 0.9721940908569785, 0.7309337370681436, 0.50085612248579, 0.0, 0.5652907248001355, 0.0, 0.0, 1.0599690745945503, 1.873954908863369, 0.8742397031612932, 0.999949712378043, 0.0, 0.500315002714349, 0.5365226444391592, 0.7449962000489353, 0.0, 0.0, 0.0, 0.0, 0.0, 0.0], [0.49296266852625126, 1.3999857680498264, 0.0, 0.9721940908569785, 0.7309337370681436, 0.50085612248579, 0.0, 0.5652907248001355, 0.0, 0.0, 1.0599690745945503, 1.873954908863369, 0.8742397031612932, 0.999949712378043, 0.0, 0.500315002714349, 0.5365226444391592, 0.7449962000489353, 0.0, 0.0, 0.0, 0.0, 0.0, 0.0], [0.49296266852625126, 1.3999857680498264, 0.0, 0.9721940908569785, 0.7309337370681436, 0.50085612248579, 0.0, 0.5652907248001355, 0.0, 0.0, 1.0599690745945503, 1.873954908863369, 0.8742397031612932, 0.999949712378043, 0.0, 0.500315002714349, 0.5365226444391592, 0.7449962000489353, 0.0, 0.0, 0.0, 0.0, 0.0, 0.0], [0.49296266852625126, 1.3999857680498264, 0.0, 0.9721940908569785, 0.7309337370681436, 0.50085612248579, 0.0, 0.5652907248001355, 0.0, 0.0, 1.0599690745945503, 1.873954908863369, 0.8742397031612932, 0.999949712378043, 0.0, 0.500315002714349, 0.5365226444391592, 0.7449962000489353, 0.0, 0.0, 0.0, 0.0, 0.0, 0.0], [0.49296266852625126, 1.3999857680498264, 0.0, 0.9721940908569785, 0.7309337370681436, 0.50085612248579, 0.0, 0.5652907248001355, 0.0, 0.0, 1.0599690745945503, 1.873954908863369, 0.8742397031612932, 0.999949712378043, 0.0, 0.500315002714349, 0.5365226444391592, 0.7449962000489353, 0.0, 0.0, 0.0, 0.0, 0.0, 0.0], [0.49296266852625126, 1.3999857680498264, 0.0, 0.9721940908569785, 0.7309337370681436, 0.50085612248579, 0.0, 0.5652907248001355, 0.0, 0.0, 1.0599690745945503, 1.873954908863369, 0.8742397031612932, 0.999949712378043, 0.0, 0.500315002714349, 0.5365226444391592, 0.7449962000489353, 0.0, 0.0, 0.0, 0.0, 0.0, 0.0], [0.49296266852625126, 1.3999857680498264, 0.0, 0.9721940908569785, 0.7309337370681436, 0.50085612248579, 0.0, 0.5652907248001355, 0.0, 0.0, 1.0599690745945503, 1.873954908863369, 0.8742397031612932, 0.999949712378043, 0.0, 0.500315002714349, 0.5365226444391592, 0.7449962000489353, 0.0, 0.0, 0.0, 0.0, 0.0, 0.0], [0.49296266852625126, 1.3999857680498264, 0.0, 0.9721940908569785, 0.7309337370681436, 0.50085612248579, 0.0, 0.5652907248001355, 0.0, 0.0, 1.0599690745945503, 1.873954908863369, 0.8742397031612932, 0.999949712378043, 0.0, 0.500315002714349, 0.5365226444391592, 0.7449962000489353, 0.0, 0.0, 0.0, 0.0, 0.0, 0.0], [0.49296266852625126, 1.3999857680498264, 0.0, 0.9721940908569785, 0.7309337370681436, 0.50085612248579, 0.0, 0.5652907248001355, 0.0, 0.0, 1.0599690745945503, 1.873954908863369, 0.8742397031612932, 0.999949712378043, 0.0, 0.500315002714349, 0.5365226444391592, 0.7449962000489353, 0.0, 0.0, 0.0, 0.0, 0.0, 0.0], [0.49296266852625126, 1.3999857680498264, 0.0, 0.9721940908569785, 0.7309337370681436, 0.50085612248579, 0.0, 0.5652907248001355, 0.0, 0.0, 1.0599690745945503, 1.873954908863369, 0.8742397031612932, 0.999949712378043, 0.0, 0.500315002714349, 0.5365226444391592, 0.7449962000489353, 0.0, 0.0, 0.0, 0.0, 0.0, 0.0], [0.49296266852625126, 1.3999857680498264, 0.0, 0.9721940908569785, 0.7309337370681436, 0.50085612248579, 0.0, 0.5652907248001355, 0.0, 0.0, 1.0599690745945503, 1.873954908863369, 0.8742397031612932, 0.999949712378043, 0.0, 0.500315002714349, 0.5365226444391592, 0.7449962000489353, 0.0, 0.0, 0.0, 0.0, 0.0, 0.0], [0.49296266852625126, 1.3999857680498264, 0.0, 0.9721940908569785, 0.7309337370681436, 0.50085612248579, 0.0, 0.5652907248001355, 0.0, 0.0, 1.0599690745945503, 1.873954908863369, 0.8742397031612932, 0.999949712378043, 0.0, 0.500315002714349, 0.5365226444391592, 0.7449962000489353, 0.0, 0.0, 0.0, 0.0, 0.0, 0.0], [0.49296266852625126, 1.3999857680498264, 0.0, 0.9721940908569785, 0.7309337370681436, 0.50085612248579, 0.0, 0.5652907248001355, 0.0, 0.0, 1.0599690745945503, 1.873954908863369, 0.8742397031612932, 0.999949712378043, 0.0, 0.500315002714349, 0.5365226444391592, 0.7449962000489353, 0.0, 0.0, 0.0, 0.0, 0.0, 0.0], [0.49296266852625126, 1.3999857680498264, 0.0, 0.9721940908569785, 0.7309337370681436, 0.50085612248579, 0.0, 0.5652907248001355, 0.0, 0.0, 1.0599690745945503, 1.873954908863369, 0.8742397031612932, 0.999949712378043, 0.0, 0.500315002714349, 0.5365226444391592, 0.7449962000489353, 0.0, 0.0, 0.0, 0.0, 0.0, 0.0], [0.49296266852625126, 1.3999857680498264, 0.0, 0.9721940908569785, 0.7309337370681436, 0.50085612248579, 0.0, 0.5652907248001355, 0.0, 0.0, 1.0599690745945503, 1.873954908863369, 0.8742397031612932, 0.999949712378043, 0.0, 0.500315002714349, 0.5365226444391592, 0.7449962000489353, 0.0, 0.0, 0.0, 0.0, 0.0, 0.0], [0.49296266852625126, 1.3999857680498264, 0.0, 0.9721940908569785, 0.7309337370681436, 0.50085612248579, 0.0, 0.5652907248001355, 0.0, 0.0, 1.0599690745945503, 1.873954908863369, 0.8742397031612932, 0.999949712378043, 0.0, 0.500315002714349, 0.5365226444391592, 0.7449962000489353, 0.0, 0.0, 0.0, 0.0, 0.0, 0.0], [0.49296266852625126, 1.3999857680498264, 0.0, 0.9721940908569785, 0.7309337370681436, 0.50085612248579, 0.0, 0.5652907248001355, 0.0, 0.0, 1.0599690745945503, 1.873954908863369, 0.8742397031612932, 0.999949712378043, 0.0, 0.500315002714349, 0.5365226444391592, 0.7449962000489353, 0.0, 0.0, 0.0, 0.0, 0.0, 0.0], [0.49296266852625126, 1.3999857680498264, 0.0, 0.9721940908569785, 0.7309337370681436, 0.50085612248579, 0.0, 0.5652907248001355, 0.0, 0.0, 1.0599690745945503, 1.873954908863369, 0.8742397031612932, 0.999949712378043, 0.0, 0.500315002714349, 0.5365226444391592, 0.7449962000489353, 0.0, 0.0, 0.0, 0.0, 0.0, 0.0], [0.49296266852625126, 1.3999857680498264, 0.0, 0.9721940908569785, 0.7309337370681436, 0.50085612248579, 0.0, 0.5652907248001355, 0.0, 0.0, 1.0599690745945503, 1.873954908863369, 0.8742397031612932, 0.999949712378043, 0.0, 0.500315002714349, 0.5365226444391592, 0.7449962000489353, 0.0, 0.0, 0.0, 0.0, 0.0, 0.0]]\n",
      "[6, 23, 19, 20, 9, 11]\n"
     ]
    },
    {
     "name": "stdout",
     "output_type": "stream",
     "text": [
      "[[0, 0, 0, 0, 0, 0, 0, 0, 0, 0, 0, 0, 0, 0, 0, 0, 0, 0, 0, 0, 0, 0, 0, 0], [0, 0, 0, 0, 0, 0, 0, 0, 0, 0, 0, 0, 0, 0, 0, 0, 0, 0, 0, 0, 0, 0, 0, 0], [0, 0, 0, 0, 0, 0, 0, 0, 0, 0, 0, 0, 0, 0, 0, 0, 0, 0, 0, 0, 0, 0, 0, 0], [0, 0.8142484694241623, 0, 0, 0.7309337370681436, 0, 0, 0, 0, 0, 0, 0, 0, 0, 0, 0, 0, 0, 0, 0, 0, 0, 0, 0], [0, 0, 0, 0.9721940908569785, 0, 0, 0, 0, 0, 0, 0, 0, 0, 0, 0, 0, 0, 0, 0, 0, 0, 0, 0, 0], [0, 0, 0, 0, 0, 0, 0, 0, 0, 0, 0, 0, 0, 0, 0, 0, 0, 0, 0, 0, 0, 0, 0, 0], [0, 0, 0, 0, 0, 0, 0, 0, 0, 0, 0, 0, 0, 0, 0, 0, 0, 0, 0, 0, 0, 0, 0, 0], [0, -0.5857372986256643, 0, 0, 0, 0, 0, 0, 0, 0, 0, 0, 0, 0, 0, 0, 0, 0, 0, 0, 0, 0, 0, 0], [0, 0, 0, 0, 0, 0, 0, 0, 0, 0, 0, 0, 0, 0, 0, 0, 0, 0, 0, 0, 0, 0, 0, 0], [0, 0, 0, 0, 0, 0, 0, 0, 0, 0, 0, 0, 0, 0, 0, 0, 0, 0, 0, 0, 0, 0, 0, 0], [0, 0, 0, 0, 0, 0, 0, 0, 0, 0, 0, 0, 0, 0, 0, 0.500315002714349, 0, 0, 0, 0, 0, 0, 0, 0], [0, 0, 0, 0, 0, 0, 0, 0, 0, 0, 0, 0, 0, 0, 0, 0, 0, 0, 0, 0, 0, 0, 0, 0], [0, 0, 0, 0, 0, 0, 0, 0, 0, 0, 0, 0, 0, 0, 0, 0, 0, 0, 0, 0, 0, 0, 0, 0], [0, 0, 0, 0, 0, 0, 0, 0, 0, 0, -0.5299980431327922, 0, 0.43713080325624293, 0, 0, 0, 0, 0, 0, 0, 0, 0, 0, 0], [0, 0, 0, 0, 0, 0, 0, 0, 0, 0, -0.5299710314617581, 0, 0.43710889990505025, 0.999949712378043, 0, 0, 0, 0, 0, 0, 0, 0, 0, 0], [0, 0, 0, 0, 0, 0, 0, 0.5652907248001355, 0, 0, 0, 0, 0, 0, 0, 0, 0, 0, 0, 0, 0, 0, 0, 0], [0, 0, 0, 0, 0, 0, 0, 0, 0, 0, 0, 0, 0, 0, 0, 0, 0, 0.7449962000489353, 0, 0, 0, 0, 0, 0], [0, 0, 0, 0, 0, 0.50085612248579, 0, 0, 0, 0, 0, 0, 0, 0, 0, 0, 0.5365226444391592, 0, 0, 0, 0, 0, 0, 0], [0, 0, 0, 0, 0, 0, 0, 0, 0, 0, 0, 0, 0, 0, 0, 0, 0, 0, 0, 0, 0, 0, 0, 0], [0, 0, 0, 0, 0, 0, 0, 0, 0, 0, 0, 0, 0, 0, 0, 0, 0, 0, 0, 0, 0, 0, 0, 0], [0, 0, 0, 0, 0, 0, 0, 0, 0, 0, 0, 0, 0, 0, 0, 0, 0, 0, 0, 0, 0, 0, 0, 0], [0, 0, 0, 0, 0, 0, 0, 0, 0, 0, 0, 0, 0, 0, 0, 0, 0, 0, 0, 0, 0, 0, 0, 0], [-0.49296266852625126, 0, 0, 0, 0, 0, 0, 0, 0, 0, 0, 0, 0, 0, 0, 0, 0, 0, 0, 0, 0, 0, 0, 0], [0, 0, 0, 0, 0, 0, 0, 0, 0, 0, 0, 0, 0, 0, 0, 0, 0, 0, 0, 0, 0, 0, 0, 0]]\n",
      "\n",
      "\n",
      "importance matrix\n"
     ]
    },
    {
     "name": "stdout",
     "output_type": "stream",
     "text": [
      "[[0.49296266852625126, 1.3999857680498264, 0.0, 0.9721940908569785, 0.7309337370681436, 0.50085612248579, 0.0, 0.5652907248001355, 0.0, 0.0, 1.0599690745945503, 0.0, 0.8742397031612932, 0.999949712378043, 0.0, 0.500315002714349, 0.5365226444391592, 0.7449962000489353, 0.0, 0.0, 0.0, 0.0, 0.0, 0.0], [0.49296266852625126, 1.3999857680498264, 0.0, 0.9721940908569785, 0.7309337370681436, 0.50085612248579, 0.0, 0.5652907248001355, 0.0, 0.0, 1.0599690745945503, 0.0, 0.8742397031612932, 0.999949712378043, 0.0, 0.500315002714349, 0.5365226444391592, 0.7449962000489353, 0.0, 0.0, 0.0, 0.0, 0.0, 0.0], [0.49296266852625126, 1.3999857680498264, 0.0, 0.9721940908569785, 0.7309337370681436, 0.50085612248579, 0.0, 0.5652907248001355, 0.0, 0.0, 1.0599690745945503, 0.0, 0.8742397031612932, 0.999949712378043, 0.0, 0.500315002714349, 0.5365226444391592, 0.7449962000489353, 0.0, 0.0, 0.0, 0.0, 0.0, 0.0], [0.49296266852625126, 1.3999857680498264, 0.0, 0.9721940908569785, 0.7309337370681436, 0.50085612248579, 0.0, 0.5652907248001355, 0.0, 0.0, 1.0599690745945503, 0.0, 0.8742397031612932, 0.999949712378043, 0.0, 0.500315002714349, 0.5365226444391592, 0.7449962000489353, 0.0, 0.0, 0.0, 0.0, 0.0, 0.0], [0.49296266852625126, 1.3999857680498264, 0.0, 0.9721940908569785, 0.7309337370681436, 0.50085612248579, 0.0, 0.5652907248001355, 0.0, 0.0, 1.0599690745945503, 0.0, 0.8742397031612932, 0.999949712378043, 0.0, 0.500315002714349, 0.5365226444391592, 0.7449962000489353, 0.0, 0.0, 0.0, 0.0, 0.0, 0.0], [0.49296266852625126, 1.3999857680498264, 0.0, 0.9721940908569785, 0.7309337370681436, 0.50085612248579, 0.0, 0.5652907248001355, 0.0, 0.0, 1.0599690745945503, 0.0, 0.8742397031612932, 0.999949712378043, 0.0, 0.500315002714349, 0.5365226444391592, 0.7449962000489353, 0.0, 0.0, 0.0, 0.0, 0.0, 0.0], [0.49296266852625126, 1.3999857680498264, 0.0, 0.9721940908569785, 0.7309337370681436, 0.50085612248579, 0.0, 0.5652907248001355, 0.0, 0.0, 1.0599690745945503, 0.0, 0.8742397031612932, 0.999949712378043, 0.0, 0.500315002714349, 0.5365226444391592, 0.7449962000489353, 0.0, 0.0, 0.0, 0.0, 0.0, 0.0], [0.49296266852625126, 1.3999857680498264, 0.0, 0.9721940908569785, 0.7309337370681436, 0.50085612248579, 0.0, 0.5652907248001355, 0.0, 0.0, 1.0599690745945503, 0.0, 0.8742397031612932, 0.999949712378043, 0.0, 0.500315002714349, 0.5365226444391592, 0.7449962000489353, 0.0, 0.0, 0.0, 0.0, 0.0, 0.0], [0.49296266852625126, 1.3999857680498264, 0.0, 0.9721940908569785, 0.7309337370681436, 0.50085612248579, 0.0, 0.5652907248001355, 0.0, 0.0, 1.0599690745945503, 0.0, 0.8742397031612932, 0.999949712378043, 0.0, 0.500315002714349, 0.5365226444391592, 0.7449962000489353, 0.0, 0.0, 0.0, 0.0, 0.0, 0.0], [0.49296266852625126, 1.3999857680498264, 0.0, 0.9721940908569785, 0.7309337370681436, 0.50085612248579, 0.0, 0.5652907248001355, 0.0, 0.0, 1.0599690745945503, 0.0, 0.8742397031612932, 0.999949712378043, 0.0, 0.500315002714349, 0.5365226444391592, 0.7449962000489353, 0.0, 0.0, 0.0, 0.0, 0.0, 0.0], [0.49296266852625126, 1.3999857680498264, 0.0, 0.9721940908569785, 0.7309337370681436, 0.50085612248579, 0.0, 0.5652907248001355, 0.0, 0.0, 1.0599690745945503, 0.0, 0.8742397031612932, 0.999949712378043, 0.0, 0.500315002714349, 0.5365226444391592, 0.7449962000489353, 0.0, 0.0, 0.0, 0.0, 0.0, 0.0], [0.49296266852625126, 1.3999857680498264, 0.0, 0.9721940908569785, 0.7309337370681436, 0.50085612248579, 0.0, 0.5652907248001355, 0.0, 0.0, 1.0599690745945503, 0.0, 0.8742397031612932, 0.999949712378043, 0.0, 0.500315002714349, 0.5365226444391592, 0.7449962000489353, 0.0, 0.0, 0.0, 0.0, 0.0, 0.0], [0.49296266852625126, 1.3999857680498264, 0.0, 0.9721940908569785, 0.7309337370681436, 0.50085612248579, 0.0, 0.5652907248001355, 0.0, 0.0, 1.0599690745945503, 0.0, 0.8742397031612932, 0.999949712378043, 0.0, 0.500315002714349, 0.5365226444391592, 0.7449962000489353, 0.0, 0.0, 0.0, 0.0, 0.0, 0.0], [0.49296266852625126, 1.3999857680498264, 0.0, 0.9721940908569785, 0.7309337370681436, 0.50085612248579, 0.0, 0.5652907248001355, 0.0, 0.0, 1.0599690745945503, 0.0, 0.8742397031612932, 0.999949712378043, 0.0, 0.500315002714349, 0.5365226444391592, 0.7449962000489353, 0.0, 0.0, 0.0, 0.0, 0.0, 0.0], [0.49296266852625126, 1.3999857680498264, 0.0, 0.9721940908569785, 0.7309337370681436, 0.50085612248579, 0.0, 0.5652907248001355, 0.0, 0.0, 1.0599690745945503, 0.0, 0.8742397031612932, 0.999949712378043, 0.0, 0.500315002714349, 0.5365226444391592, 0.7449962000489353, 0.0, 0.0, 0.0, 0.0, 0.0, 0.0], [0.49296266852625126, 1.3999857680498264, 0.0, 0.9721940908569785, 0.7309337370681436, 0.50085612248579, 0.0, 0.5652907248001355, 0.0, 0.0, 1.0599690745945503, 0.0, 0.8742397031612932, 0.999949712378043, 0.0, 0.500315002714349, 0.5365226444391592, 0.7449962000489353, 0.0, 0.0, 0.0, 0.0, 0.0, 0.0], [0.49296266852625126, 1.3999857680498264, 0.0, 0.9721940908569785, 0.7309337370681436, 0.50085612248579, 0.0, 0.5652907248001355, 0.0, 0.0, 1.0599690745945503, 0.0, 0.8742397031612932, 0.999949712378043, 0.0, 0.500315002714349, 0.5365226444391592, 0.7449962000489353, 0.0, 0.0, 0.0, 0.0, 0.0, 0.0], [0.49296266852625126, 1.3999857680498264, 0.0, 0.9721940908569785, 0.7309337370681436, 0.50085612248579, 0.0, 0.5652907248001355, 0.0, 0.0, 1.0599690745945503, 0.0, 0.8742397031612932, 0.999949712378043, 0.0, 0.500315002714349, 0.5365226444391592, 0.7449962000489353, 0.0, 0.0, 0.0, 0.0, 0.0, 0.0], [0.49296266852625126, 1.3999857680498264, 0.0, 0.9721940908569785, 0.7309337370681436, 0.50085612248579, 0.0, 0.5652907248001355, 0.0, 0.0, 1.0599690745945503, 0.0, 0.8742397031612932, 0.999949712378043, 0.0, 0.500315002714349, 0.5365226444391592, 0.7449962000489353, 0.0, 0.0, 0.0, 0.0, 0.0, 0.0], [0.49296266852625126, 1.3999857680498264, 0.0, 0.9721940908569785, 0.7309337370681436, 0.50085612248579, 0.0, 0.5652907248001355, 0.0, 0.0, 1.0599690745945503, 0.0, 0.8742397031612932, 0.999949712378043, 0.0, 0.500315002714349, 0.5365226444391592, 0.7449962000489353, 0.0, 0.0, 0.0, 0.0, 0.0, 0.0], [0.49296266852625126, 1.3999857680498264, 0.0, 0.9721940908569785, 0.7309337370681436, 0.50085612248579, 0.0, 0.5652907248001355, 0.0, 0.0, 1.0599690745945503, 0.0, 0.8742397031612932, 0.999949712378043, 0.0, 0.500315002714349, 0.5365226444391592, 0.7449962000489353, 0.0, 0.0, 0.0, 0.0, 0.0, 0.0], [0.49296266852625126, 1.3999857680498264, 0.0, 0.9721940908569785, 0.7309337370681436, 0.50085612248579, 0.0, 0.5652907248001355, 0.0, 0.0, 1.0599690745945503, 0.0, 0.8742397031612932, 0.999949712378043, 0.0, 0.500315002714349, 0.5365226444391592, 0.7449962000489353, 0.0, 0.0, 0.0, 0.0, 0.0, 0.0], [0.49296266852625126, 1.3999857680498264, 0.0, 0.9721940908569785, 0.7309337370681436, 0.50085612248579, 0.0, 0.5652907248001355, 0.0, 0.0, 1.0599690745945503, 0.0, 0.8742397031612932, 0.999949712378043, 0.0, 0.500315002714349, 0.5365226444391592, 0.7449962000489353, 0.0, 0.0, 0.0, 0.0, 0.0, 0.0], [0.49296266852625126, 1.3999857680498264, 0.0, 0.9721940908569785, 0.7309337370681436, 0.50085612248579, 0.0, 0.5652907248001355, 0.0, 0.0, 1.0599690745945503, 0.0, 0.8742397031612932, 0.999949712378043, 0.0, 0.500315002714349, 0.5365226444391592, 0.7449962000489353, 0.0, 0.0, 0.0, 0.0, 0.0, 0.0]]\n",
      "[6, 23, 19, 20, 9, 11, 1]\n"
     ]
    },
    {
     "name": "stdout",
     "output_type": "stream",
     "text": [
      "[[0, 0, 0, 0, 0, 0, 0, 0, 0, 0, 0, 0, 0, 0, 0, 0, 0, 0, 0, 0, 0, 0, 0, 0], [0, 0, 0, 0, 0, 0, 0, 0, 0, 0, 0, 0, 0, 0, 0, 0, 0, 0, 0, 0, 0, 0, 0, 0], [0, 0, 0, 0, 0, 0, 0, 0, 0, 0, 0, 0, 0, 0, 0, 0, 0, 0, 0, 0, 0, 0, 0, 0], [0, 0, 0, 0, 0.7309337370681436, 0, 0, 0, 0, 0, 0, 0, 0, 0, 0, 0, 0, 0, 0, 0, 0, 0, 0, 0], [0, 0, 0, 0.9721940908569785, 0, 0, 0, 0, 0, 0, 0, 0, 0, 0, 0, 0, 0, 0, 0, 0, 0, 0, 0, 0], [0, 0, 0, 0, 0, 0, 0, 0, 0, 0, 0, 0, 0, 0, 0, 0, 0, 0, 0, 0, 0, 0, 0, 0], [0, 0, 0, 0, 0, 0, 0, 0, 0, 0, 0, 0, 0, 0, 0, 0, 0, 0, 0, 0, 0, 0, 0, 0], [0, 0, 0, 0, 0, 0, 0, 0, 0, 0, 0, 0, 0, 0, 0, 0, 0, 0, 0, 0, 0, 0, 0, 0], [0, 0, 0, 0, 0, 0, 0, 0, 0, 0, 0, 0, 0, 0, 0, 0, 0, 0, 0, 0, 0, 0, 0, 0], [0, 0, 0, 0, 0, 0, 0, 0, 0, 0, 0, 0, 0, 0, 0, 0, 0, 0, 0, 0, 0, 0, 0, 0], [0, 0, 0, 0, 0, 0, 0, 0, 0, 0, 0, 0, 0, 0, 0, 0.500315002714349, 0, 0, 0, 0, 0, 0, 0, 0], [0, 0, 0, 0, 0, 0, 0, 0, 0, 0, 0, 0, 0, 0, 0, 0, 0, 0, 0, 0, 0, 0, 0, 0], [0, 0, 0, 0, 0, 0, 0, 0, 0, 0, 0, 0, 0, 0, 0, 0, 0, 0, 0, 0, 0, 0, 0, 0], [0, 0, 0, 0, 0, 0, 0, 0, 0, 0, -0.5299980431327922, 0, 0.43713080325624293, 0, 0, 0, 0, 0, 0, 0, 0, 0, 0, 0], [0, 0, 0, 0, 0, 0, 0, 0, 0, 0, -0.5299710314617581, 0, 0.43710889990505025, 0.999949712378043, 0, 0, 0, 0, 0, 0, 0, 0, 0, 0], [0, 0, 0, 0, 0, 0, 0, 0.5652907248001355, 0, 0, 0, 0, 0, 0, 0, 0, 0, 0, 0, 0, 0, 0, 0, 0], [0, 0, 0, 0, 0, 0, 0, 0, 0, 0, 0, 0, 0, 0, 0, 0, 0, 0.7449962000489353, 0, 0, 0, 0, 0, 0], [0, 0, 0, 0, 0, 0.50085612248579, 0, 0, 0, 0, 0, 0, 0, 0, 0, 0, 0.5365226444391592, 0, 0, 0, 0, 0, 0, 0], [0, 0, 0, 0, 0, 0, 0, 0, 0, 0, 0, 0, 0, 0, 0, 0, 0, 0, 0, 0, 0, 0, 0, 0], [0, 0, 0, 0, 0, 0, 0, 0, 0, 0, 0, 0, 0, 0, 0, 0, 0, 0, 0, 0, 0, 0, 0, 0], [0, 0, 0, 0, 0, 0, 0, 0, 0, 0, 0, 0, 0, 0, 0, 0, 0, 0, 0, 0, 0, 0, 0, 0], [0, 0, 0, 0, 0, 0, 0, 0, 0, 0, 0, 0, 0, 0, 0, 0, 0, 0, 0, 0, 0, 0, 0, 0], [-0.49296266852625126, 0, 0, 0, 0, 0, 0, 0, 0, 0, 0, 0, 0, 0, 0, 0, 0, 0, 0, 0, 0, 0, 0, 0], [0, 0, 0, 0, 0, 0, 0, 0, 0, 0, 0, 0, 0, 0, 0, 0, 0, 0, 0, 0, 0, 0, 0, 0]]\n",
      "\n",
      "\n",
      "importance matrix\n"
     ]
    },
    {
     "name": "stdout",
     "output_type": "stream",
     "text": [
      "[[0.49296266852625126, 0.0, 0.0, 0.9721940908569785, 0.7309337370681436, 0.50085612248579, 0.0, 0.5652907248001355, 0.0, 0.0, 1.0599690745945503, 0.0, 0.8742397031612932, 0.999949712378043, 0.0, 0.500315002714349, 0.5365226444391592, 0.7449962000489353, 0.0, 0.0, 0.0, 0.0, 0.0, 0.0], [0.49296266852625126, 0.0, 0.0, 0.9721940908569785, 0.7309337370681436, 0.50085612248579, 0.0, 0.5652907248001355, 0.0, 0.0, 1.0599690745945503, 0.0, 0.8742397031612932, 0.999949712378043, 0.0, 0.500315002714349, 0.5365226444391592, 0.7449962000489353, 0.0, 0.0, 0.0, 0.0, 0.0, 0.0], [0.49296266852625126, 0.0, 0.0, 0.9721940908569785, 0.7309337370681436, 0.50085612248579, 0.0, 0.5652907248001355, 0.0, 0.0, 1.0599690745945503, 0.0, 0.8742397031612932, 0.999949712378043, 0.0, 0.500315002714349, 0.5365226444391592, 0.7449962000489353, 0.0, 0.0, 0.0, 0.0, 0.0, 0.0], [0.49296266852625126, 0.0, 0.0, 0.9721940908569785, 0.7309337370681436, 0.50085612248579, 0.0, 0.5652907248001355, 0.0, 0.0, 1.0599690745945503, 0.0, 0.8742397031612932, 0.999949712378043, 0.0, 0.500315002714349, 0.5365226444391592, 0.7449962000489353, 0.0, 0.0, 0.0, 0.0, 0.0, 0.0], [0.49296266852625126, 0.0, 0.0, 0.9721940908569785, 0.7309337370681436, 0.50085612248579, 0.0, 0.5652907248001355, 0.0, 0.0, 1.0599690745945503, 0.0, 0.8742397031612932, 0.999949712378043, 0.0, 0.500315002714349, 0.5365226444391592, 0.7449962000489353, 0.0, 0.0, 0.0, 0.0, 0.0, 0.0], [0.49296266852625126, 0.0, 0.0, 0.9721940908569785, 0.7309337370681436, 0.50085612248579, 0.0, 0.5652907248001355, 0.0, 0.0, 1.0599690745945503, 0.0, 0.8742397031612932, 0.999949712378043, 0.0, 0.500315002714349, 0.5365226444391592, 0.7449962000489353, 0.0, 0.0, 0.0, 0.0, 0.0, 0.0], [0.49296266852625126, 0.0, 0.0, 0.9721940908569785, 0.7309337370681436, 0.50085612248579, 0.0, 0.5652907248001355, 0.0, 0.0, 1.0599690745945503, 0.0, 0.8742397031612932, 0.999949712378043, 0.0, 0.500315002714349, 0.5365226444391592, 0.7449962000489353, 0.0, 0.0, 0.0, 0.0, 0.0, 0.0], [0.49296266852625126, 0.0, 0.0, 0.9721940908569785, 0.7309337370681436, 0.50085612248579, 0.0, 0.5652907248001355, 0.0, 0.0, 1.0599690745945503, 0.0, 0.8742397031612932, 0.999949712378043, 0.0, 0.500315002714349, 0.5365226444391592, 0.7449962000489353, 0.0, 0.0, 0.0, 0.0, 0.0, 0.0], [0.49296266852625126, 0.0, 0.0, 0.9721940908569785, 0.7309337370681436, 0.50085612248579, 0.0, 0.5652907248001355, 0.0, 0.0, 1.0599690745945503, 0.0, 0.8742397031612932, 0.999949712378043, 0.0, 0.500315002714349, 0.5365226444391592, 0.7449962000489353, 0.0, 0.0, 0.0, 0.0, 0.0, 0.0], [0.49296266852625126, 0.0, 0.0, 0.9721940908569785, 0.7309337370681436, 0.50085612248579, 0.0, 0.5652907248001355, 0.0, 0.0, 1.0599690745945503, 0.0, 0.8742397031612932, 0.999949712378043, 0.0, 0.500315002714349, 0.5365226444391592, 0.7449962000489353, 0.0, 0.0, 0.0, 0.0, 0.0, 0.0], [0.49296266852625126, 0.0, 0.0, 0.9721940908569785, 0.7309337370681436, 0.50085612248579, 0.0, 0.5652907248001355, 0.0, 0.0, 1.0599690745945503, 0.0, 0.8742397031612932, 0.999949712378043, 0.0, 0.500315002714349, 0.5365226444391592, 0.7449962000489353, 0.0, 0.0, 0.0, 0.0, 0.0, 0.0], [0.49296266852625126, 0.0, 0.0, 0.9721940908569785, 0.7309337370681436, 0.50085612248579, 0.0, 0.5652907248001355, 0.0, 0.0, 1.0599690745945503, 0.0, 0.8742397031612932, 0.999949712378043, 0.0, 0.500315002714349, 0.5365226444391592, 0.7449962000489353, 0.0, 0.0, 0.0, 0.0, 0.0, 0.0], [0.49296266852625126, 0.0, 0.0, 0.9721940908569785, 0.7309337370681436, 0.50085612248579, 0.0, 0.5652907248001355, 0.0, 0.0, 1.0599690745945503, 0.0, 0.8742397031612932, 0.999949712378043, 0.0, 0.500315002714349, 0.5365226444391592, 0.7449962000489353, 0.0, 0.0, 0.0, 0.0, 0.0, 0.0], [0.49296266852625126, 0.0, 0.0, 0.9721940908569785, 0.7309337370681436, 0.50085612248579, 0.0, 0.5652907248001355, 0.0, 0.0, 1.0599690745945503, 0.0, 0.8742397031612932, 0.999949712378043, 0.0, 0.500315002714349, 0.5365226444391592, 0.7449962000489353, 0.0, 0.0, 0.0, 0.0, 0.0, 0.0], [0.49296266852625126, 0.0, 0.0, 0.9721940908569785, 0.7309337370681436, 0.50085612248579, 0.0, 0.5652907248001355, 0.0, 0.0, 1.0599690745945503, 0.0, 0.8742397031612932, 0.999949712378043, 0.0, 0.500315002714349, 0.5365226444391592, 0.7449962000489353, 0.0, 0.0, 0.0, 0.0, 0.0, 0.0], [0.49296266852625126, 0.0, 0.0, 0.9721940908569785, 0.7309337370681436, 0.50085612248579, 0.0, 0.5652907248001355, 0.0, 0.0, 1.0599690745945503, 0.0, 0.8742397031612932, 0.999949712378043, 0.0, 0.500315002714349, 0.5365226444391592, 0.7449962000489353, 0.0, 0.0, 0.0, 0.0, 0.0, 0.0], [0.49296266852625126, 0.0, 0.0, 0.9721940908569785, 0.7309337370681436, 0.50085612248579, 0.0, 0.5652907248001355, 0.0, 0.0, 1.0599690745945503, 0.0, 0.8742397031612932, 0.999949712378043, 0.0, 0.500315002714349, 0.5365226444391592, 0.7449962000489353, 0.0, 0.0, 0.0, 0.0, 0.0, 0.0], [0.49296266852625126, 0.0, 0.0, 0.9721940908569785, 0.7309337370681436, 0.50085612248579, 0.0, 0.5652907248001355, 0.0, 0.0, 1.0599690745945503, 0.0, 0.8742397031612932, 0.999949712378043, 0.0, 0.500315002714349, 0.5365226444391592, 0.7449962000489353, 0.0, 0.0, 0.0, 0.0, 0.0, 0.0], [0.49296266852625126, 0.0, 0.0, 0.9721940908569785, 0.7309337370681436, 0.50085612248579, 0.0, 0.5652907248001355, 0.0, 0.0, 1.0599690745945503, 0.0, 0.8742397031612932, 0.999949712378043, 0.0, 0.500315002714349, 0.5365226444391592, 0.7449962000489353, 0.0, 0.0, 0.0, 0.0, 0.0, 0.0], [0.49296266852625126, 0.0, 0.0, 0.9721940908569785, 0.7309337370681436, 0.50085612248579, 0.0, 0.5652907248001355, 0.0, 0.0, 1.0599690745945503, 0.0, 0.8742397031612932, 0.999949712378043, 0.0, 0.500315002714349, 0.5365226444391592, 0.7449962000489353, 0.0, 0.0, 0.0, 0.0, 0.0, 0.0], [0.49296266852625126, 0.0, 0.0, 0.9721940908569785, 0.7309337370681436, 0.50085612248579, 0.0, 0.5652907248001355, 0.0, 0.0, 1.0599690745945503, 0.0, 0.8742397031612932, 0.999949712378043, 0.0, 0.500315002714349, 0.5365226444391592, 0.7449962000489353, 0.0, 0.0, 0.0, 0.0, 0.0, 0.0], [0.49296266852625126, 0.0, 0.0, 0.9721940908569785, 0.7309337370681436, 0.50085612248579, 0.0, 0.5652907248001355, 0.0, 0.0, 1.0599690745945503, 0.0, 0.8742397031612932, 0.999949712378043, 0.0, 0.500315002714349, 0.5365226444391592, 0.7449962000489353, 0.0, 0.0, 0.0, 0.0, 0.0, 0.0], [0.49296266852625126, 0.0, 0.0, 0.9721940908569785, 0.7309337370681436, 0.50085612248579, 0.0, 0.5652907248001355, 0.0, 0.0, 1.0599690745945503, 0.0, 0.8742397031612932, 0.999949712378043, 0.0, 0.500315002714349, 0.5365226444391592, 0.7449962000489353, 0.0, 0.0, 0.0, 0.0, 0.0, 0.0], [0.49296266852625126, 0.0, 0.0, 0.9721940908569785, 0.7309337370681436, 0.50085612248579, 0.0, 0.5652907248001355, 0.0, 0.0, 1.0599690745945503, 0.0, 0.8742397031612932, 0.999949712378043, 0.0, 0.500315002714349, 0.5365226444391592, 0.7449962000489353, 0.0, 0.0, 0.0, 0.0, 0.0, 0.0]]\n",
      "[6, 23, 19, 20, 9, 11, 1, 10]\n"
     ]
    },
    {
     "name": "stdout",
     "output_type": "stream",
     "text": [
      "[[0, 0, 0, 0, 0, 0, 0, 0, 0, 0, 0, 0, 0, 0, 0, 0, 0, 0, 0, 0, 0, 0, 0, 0], [0, 0, 0, 0, 0, 0, 0, 0, 0, 0, 0, 0, 0, 0, 0, 0, 0, 0, 0, 0, 0, 0, 0, 0], [0, 0, 0, 0, 0, 0, 0, 0, 0, 0, 0, 0, 0, 0, 0, 0, 0, 0, 0, 0, 0, 0, 0, 0], [0, 0, 0, 0, 0.7309337370681436, 0, 0, 0, 0, 0, 0, 0, 0, 0, 0, 0, 0, 0, 0, 0, 0, 0, 0, 0], [0, 0, 0, 0.9721940908569785, 0, 0, 0, 0, 0, 0, 0, 0, 0, 0, 0, 0, 0, 0, 0, 0, 0, 0, 0, 0], [0, 0, 0, 0, 0, 0, 0, 0, 0, 0, 0, 0, 0, 0, 0, 0, 0, 0, 0, 0, 0, 0, 0, 0], [0, 0, 0, 0, 0, 0, 0, 0, 0, 0, 0, 0, 0, 0, 0, 0, 0, 0, 0, 0, 0, 0, 0, 0], [0, 0, 0, 0, 0, 0, 0, 0, 0, 0, 0, 0, 0, 0, 0, 0, 0, 0, 0, 0, 0, 0, 0, 0], [0, 0, 0, 0, 0, 0, 0, 0, 0, 0, 0, 0, 0, 0, 0, 0, 0, 0, 0, 0, 0, 0, 0, 0], [0, 0, 0, 0, 0, 0, 0, 0, 0, 0, 0, 0, 0, 0, 0, 0, 0, 0, 0, 0, 0, 0, 0, 0], [0, 0, 0, 0, 0, 0, 0, 0, 0, 0, 0, 0, 0, 0, 0, 0, 0, 0, 0, 0, 0, 0, 0, 0], [0, 0, 0, 0, 0, 0, 0, 0, 0, 0, 0, 0, 0, 0, 0, 0, 0, 0, 0, 0, 0, 0, 0, 0], [0, 0, 0, 0, 0, 0, 0, 0, 0, 0, 0, 0, 0, 0, 0, 0, 0, 0, 0, 0, 0, 0, 0, 0], [0, 0, 0, 0, 0, 0, 0, 0, 0, 0, 0, 0, 0.43713080325624293, 0, 0, 0, 0, 0, 0, 0, 0, 0, 0, 0], [0, 0, 0, 0, 0, 0, 0, 0, 0, 0, 0, 0, 0.43710889990505025, 0.999949712378043, 0, 0, 0, 0, 0, 0, 0, 0, 0, 0], [0, 0, 0, 0, 0, 0, 0, 0.5652907248001355, 0, 0, 0, 0, 0, 0, 0, 0, 0, 0, 0, 0, 0, 0, 0, 0], [0, 0, 0, 0, 0, 0, 0, 0, 0, 0, 0, 0, 0, 0, 0, 0, 0, 0.7449962000489353, 0, 0, 0, 0, 0, 0], [0, 0, 0, 0, 0, 0.50085612248579, 0, 0, 0, 0, 0, 0, 0, 0, 0, 0, 0.5365226444391592, 0, 0, 0, 0, 0, 0, 0], [0, 0, 0, 0, 0, 0, 0, 0, 0, 0, 0, 0, 0, 0, 0, 0, 0, 0, 0, 0, 0, 0, 0, 0], [0, 0, 0, 0, 0, 0, 0, 0, 0, 0, 0, 0, 0, 0, 0, 0, 0, 0, 0, 0, 0, 0, 0, 0], [0, 0, 0, 0, 0, 0, 0, 0, 0, 0, 0, 0, 0, 0, 0, 0, 0, 0, 0, 0, 0, 0, 0, 0], [0, 0, 0, 0, 0, 0, 0, 0, 0, 0, 0, 0, 0, 0, 0, 0, 0, 0, 0, 0, 0, 0, 0, 0], [-0.49296266852625126, 0, 0, 0, 0, 0, 0, 0, 0, 0, 0, 0, 0, 0, 0, 0, 0, 0, 0, 0, 0, 0, 0, 0], [0, 0, 0, 0, 0, 0, 0, 0, 0, 0, 0, 0, 0, 0, 0, 0, 0, 0, 0, 0, 0, 0, 0, 0]]\n",
      "\n",
      "\n",
      "importance matrix\n",
      "[[0.49296266852625126, 0.0, 0.0, 0.9721940908569785, 0.7309337370681436, 0.50085612248579, 0.0, 0.5652907248001355, 0.0, 0.0, 0.0, 0.0, 0.8742397031612932, 0.999949712378043, 0.0, 0.0, 0.5365226444391592, 0.7449962000489353, 0.0, 0.0, 0.0, 0.0, 0.0, 0.0], [0.49296266852625126, 0.0, 0.0, 0.9721940908569785, 0.7309337370681436, 0.50085612248579, 0.0, 0.5652907248001355, 0.0, 0.0, 0.0, 0.0, 0.8742397031612932, 0.999949712378043, 0.0, 0.0, 0.5365226444391592, 0.7449962000489353, 0.0, 0.0, 0.0, 0.0, 0.0, 0.0], [0.49296266852625126, 0.0, 0.0, 0.9721940908569785, 0.7309337370681436, 0.50085612248579, 0.0, 0.5652907248001355, 0.0, 0.0, 0.0, 0.0, 0.8742397031612932, 0.999949712378043, 0.0, 0.0, 0.5365226444391592, 0.7449962000489353, 0.0, 0.0, 0.0, 0.0, 0.0, 0.0], [0.49296266852625126, 0.0, 0.0, 0.9721940908569785, 0.7309337370681436, 0.50085612248579, 0.0, 0.5652907248001355, 0.0, 0.0, 0.0, 0.0, 0.8742397031612932, 0.999949712378043, 0.0, 0.0, 0.5365226444391592, 0.7449962000489353, 0.0, 0.0, 0.0, 0.0, 0.0, 0.0], [0.49296266852625126, 0.0, 0.0, 0.9721940908569785, 0.7309337370681436, 0.50085612248579, 0.0, 0.5652907248001355, 0.0, 0.0, 0.0, 0.0, 0.8742397031612932, 0.999949712378043, 0.0, 0.0, 0.5365226444391592, 0.7449962000489353, 0.0, 0.0, 0.0, 0.0, 0.0, 0.0], [0.49296266852625126, 0.0, 0.0, 0.9721940908569785, 0.7309337370681436, 0.50085612248579, 0.0, 0.5652907248001355, 0.0, 0.0, 0.0, 0.0, 0.8742397031612932, 0.999949712378043, 0.0, 0.0, 0.5365226444391592, 0.7449962000489353, 0.0, 0.0, 0.0, 0.0, 0.0, 0.0], [0.49296266852625126, 0.0, 0.0, 0.9721940908569785, 0.7309337370681436, 0.50085612248579, 0.0, 0.5652907248001355, 0.0, 0.0, 0.0, 0.0, 0.8742397031612932, 0.999949712378043, 0.0, 0.0, 0.5365226444391592, 0.7449962000489353, 0.0, 0.0, 0.0, 0.0, 0.0, 0.0], [0.49296266852625126, 0.0, 0.0, 0.9721940908569785, 0.7309337370681436, 0.50085612248579, 0.0, 0.5652907248001355, 0.0, 0.0, 0.0, 0.0, 0.8742397031612932, 0.999949712378043, 0.0, 0.0, 0.5365226444391592, 0.7449962000489353, 0.0, 0.0, 0.0, 0.0, 0.0, 0.0], [0.49296266852625126, 0.0, 0.0, 0.9721940908569785, 0.7309337370681436, 0.50085612248579, 0.0, 0.5652907248001355, 0.0, 0.0, 0.0, 0.0, 0.8742397031612932, 0.999949712378043, 0.0, 0.0, 0.5365226444391592, 0.7449962000489353, 0.0, 0.0, 0.0, 0.0, 0.0, 0.0], [0.49296266852625126, 0.0, 0.0, 0.9721940908569785, 0.7309337370681436, 0.50085612248579, 0.0, 0.5652907248001355, 0.0, 0.0, 0.0, 0.0, 0.8742397031612932, 0.999949712378043, 0.0, 0.0, 0.5365226444391592, 0.7449962000489353, 0.0, 0.0, 0.0, 0.0, 0.0, 0.0], [0.49296266852625126, 0.0, 0.0, 0.9721940908569785, 0.7309337370681436, 0.50085612248579, 0.0, 0.5652907248001355, 0.0, 0.0, 0.0, 0.0, 0.8742397031612932, 0.999949712378043, 0.0, 0.0, 0.5365226444391592, 0.7449962000489353, 0.0, 0.0, 0.0, 0.0, 0.0, 0.0], [0.49296266852625126, 0.0, 0.0, 0.9721940908569785, 0.7309337370681436, 0.50085612248579, 0.0, 0.5652907248001355, 0.0, 0.0, 0.0, 0.0, 0.8742397031612932, 0.999949712378043, 0.0, 0.0, 0.5365226444391592, 0.7449962000489353, 0.0, 0.0, 0.0, 0.0, 0.0, 0.0], [0.49296266852625126, 0.0, 0.0, 0.9721940908569785, 0.7309337370681436, 0.50085612248579, 0.0, 0.5652907248001355, 0.0, 0.0, 0.0, 0.0, 0.8742397031612932, 0.999949712378043, 0.0, 0.0, 0.5365226444391592, 0.7449962000489353, 0.0, 0.0, 0.0, 0.0, 0.0, 0.0], [0.49296266852625126, 0.0, 0.0, 0.9721940908569785, 0.7309337370681436, 0.50085612248579, 0.0, 0.5652907248001355, 0.0, 0.0, 0.0, 0.0, 0.8742397031612932, 0.999949712378043, 0.0, 0.0, 0.5365226444391592, 0.7449962000489353, 0.0, 0.0, 0.0, 0.0, 0.0, 0.0], [0.49296266852625126, 0.0, 0.0, 0.9721940908569785, 0.7309337370681436, 0.50085612248579, 0.0, 0.5652907248001355, 0.0, 0.0, 0.0, 0.0, 0.8742397031612932, 0.999949712378043, 0.0, 0.0, 0.5365226444391592, 0.7449962000489353, 0.0, 0.0, 0.0, 0.0, 0.0, 0.0], [0.49296266852625126, 0.0, 0.0, 0.9721940908569785, 0.7309337370681436, 0.50085612248579, 0.0, 0.5652907248001355, 0.0, 0.0, 0.0, 0.0, 0.8742397031612932, 0.999949712378043, 0.0, 0.0, 0.5365226444391592, 0.7449962000489353, 0.0, 0.0, 0.0, 0.0, 0.0, 0.0], [0.49296266852625126, 0.0, 0.0, 0.9721940908569785, 0.7309337370681436, 0.50085612248579, 0.0, 0.5652907248001355, 0.0, 0.0, 0.0, 0.0, 0.8742397031612932, 0.999949712378043, 0.0, 0.0, 0.5365226444391592, 0.7449962000489353, 0.0, 0.0, 0.0, 0.0, 0.0, 0.0], [0.49296266852625126, 0.0, 0.0, 0.9721940908569785, 0.7309337370681436, 0.50085612248579, 0.0, 0.5652907248001355, 0.0, 0.0, 0.0, 0.0, 0.8742397031612932, 0.999949712378043, 0.0, 0.0, 0.5365226444391592, 0.7449962000489353, 0.0, 0.0, 0.0, 0.0, 0.0, 0.0], [0.49296266852625126, 0.0, 0.0, 0.9721940908569785, 0.7309337370681436, 0.50085612248579, 0.0, 0.5652907248001355, 0.0, 0.0, 0.0, 0.0, 0.8742397031612932, 0.999949712378043, 0.0, 0.0, 0.5365226444391592, 0.7449962000489353, 0.0, 0.0, 0.0, 0.0, 0.0, 0.0], [0.49296266852625126, 0.0, 0.0, 0.9721940908569785, 0.7309337370681436, 0.50085612248579, 0.0, 0.5652907248001355, 0.0, 0.0, 0.0, 0.0, 0.8742397031612932, 0.999949712378043, 0.0, 0.0, 0.5365226444391592, 0.7449962000489353, 0.0, 0.0, 0.0, 0.0, 0.0, 0.0], [0.49296266852625126, 0.0, 0.0, 0.9721940908569785, 0.7309337370681436, 0.50085612248579, 0.0, 0.5652907248001355, 0.0, 0.0, 0.0, 0.0, 0.8742397031612932, 0.999949712378043, 0.0, 0.0, 0.5365226444391592, 0.7449962000489353, 0.0, 0.0, 0.0, 0.0, 0.0, 0.0], [0.49296266852625126, 0.0, 0.0, 0.9721940908569785, 0.7309337370681436, 0.50085612248579, 0.0, 0.5652907248001355, 0.0, 0.0, 0.0, 0.0, 0.8742397031612932, 0.999949712378043, 0.0, 0.0, 0.5365226444391592, 0.7449962000489353, 0.0, 0.0, 0.0, 0.0, 0.0, 0.0], [0.49296266852625126, 0.0, 0.0, 0.9721940908569785, 0.7309337370681436, 0.50085612248579, 0.0, 0.5652907248001355, 0.0, 0.0, 0.0, 0.0, 0.8742397031612932, 0.999949712378043, 0.0, 0.0, 0.5365226444391592, 0.7449962000489353, 0.0, 0.0, 0.0, 0.0, 0.0, 0.0], [0.49296266852625126, 0.0, 0.0, 0.9721940908569785, 0.7309337370681436, 0.50085612248579, 0.0, 0.5652907248001355, 0.0, 0.0, 0.0, 0.0, 0.8742397031612932, 0.999949712378043, 0.0, 0.0, 0.5365226444391592, 0.7449962000489353, 0.0, 0.0, 0.0, 0.0, 0.0, 0.0]]\n",
      "[6, 23, 19, 20, 9, 11, 1, 10, 13]\n"
     ]
    },
    {
     "name": "stdout",
     "output_type": "stream",
     "text": [
      "[[0, 0, 0, 0, 0, 0, 0, 0, 0, 0, 0, 0, 0, 0, 0, 0, 0, 0, 0, 0, 0, 0, 0, 0], [0, 0, 0, 0, 0, 0, 0, 0, 0, 0, 0, 0, 0, 0, 0, 0, 0, 0, 0, 0, 0, 0, 0, 0], [0, 0, 0, 0, 0, 0, 0, 0, 0, 0, 0, 0, 0, 0, 0, 0, 0, 0, 0, 0, 0, 0, 0, 0], [0, 0, 0, 0, 0.7309337370681436, 0, 0, 0, 0, 0, 0, 0, 0, 0, 0, 0, 0, 0, 0, 0, 0, 0, 0, 0], [0, 0, 0, 0.9721940908569785, 0, 0, 0, 0, 0, 0, 0, 0, 0, 0, 0, 0, 0, 0, 0, 0, 0, 0, 0, 0], [0, 0, 0, 0, 0, 0, 0, 0, 0, 0, 0, 0, 0, 0, 0, 0, 0, 0, 0, 0, 0, 0, 0, 0], [0, 0, 0, 0, 0, 0, 0, 0, 0, 0, 0, 0, 0, 0, 0, 0, 0, 0, 0, 0, 0, 0, 0, 0], [0, 0, 0, 0, 0, 0, 0, 0, 0, 0, 0, 0, 0, 0, 0, 0, 0, 0, 0, 0, 0, 0, 0, 0], [0, 0, 0, 0, 0, 0, 0, 0, 0, 0, 0, 0, 0, 0, 0, 0, 0, 0, 0, 0, 0, 0, 0, 0], [0, 0, 0, 0, 0, 0, 0, 0, 0, 0, 0, 0, 0, 0, 0, 0, 0, 0, 0, 0, 0, 0, 0, 0], [0, 0, 0, 0, 0, 0, 0, 0, 0, 0, 0, 0, 0, 0, 0, 0, 0, 0, 0, 0, 0, 0, 0, 0], [0, 0, 0, 0, 0, 0, 0, 0, 0, 0, 0, 0, 0, 0, 0, 0, 0, 0, 0, 0, 0, 0, 0, 0], [0, 0, 0, 0, 0, 0, 0, 0, 0, 0, 0, 0, 0, 0, 0, 0, 0, 0, 0, 0, 0, 0, 0, 0], [0, 0, 0, 0, 0, 0, 0, 0, 0, 0, 0, 0, 0, 0, 0, 0, 0, 0, 0, 0, 0, 0, 0, 0], [0, 0, 0, 0, 0, 0, 0, 0, 0, 0, 0, 0, 0.43710889990505025, 0, 0, 0, 0, 0, 0, 0, 0, 0, 0, 0], [0, 0, 0, 0, 0, 0, 0, 0.5652907248001355, 0, 0, 0, 0, 0, 0, 0, 0, 0, 0, 0, 0, 0, 0, 0, 0], [0, 0, 0, 0, 0, 0, 0, 0, 0, 0, 0, 0, 0, 0, 0, 0, 0, 0.7449962000489353, 0, 0, 0, 0, 0, 0], [0, 0, 0, 0, 0, 0.50085612248579, 0, 0, 0, 0, 0, 0, 0, 0, 0, 0, 0.5365226444391592, 0, 0, 0, 0, 0, 0, 0], [0, 0, 0, 0, 0, 0, 0, 0, 0, 0, 0, 0, 0, 0, 0, 0, 0, 0, 0, 0, 0, 0, 0, 0], [0, 0, 0, 0, 0, 0, 0, 0, 0, 0, 0, 0, 0, 0, 0, 0, 0, 0, 0, 0, 0, 0, 0, 0], [0, 0, 0, 0, 0, 0, 0, 0, 0, 0, 0, 0, 0, 0, 0, 0, 0, 0, 0, 0, 0, 0, 0, 0], [0, 0, 0, 0, 0, 0, 0, 0, 0, 0, 0, 0, 0, 0, 0, 0, 0, 0, 0, 0, 0, 0, 0, 0], [-0.49296266852625126, 0, 0, 0, 0, 0, 0, 0, 0, 0, 0, 0, 0, 0, 0, 0, 0, 0, 0, 0, 0, 0, 0, 0], [0, 0, 0, 0, 0, 0, 0, 0, 0, 0, 0, 0, 0, 0, 0, 0, 0, 0, 0, 0, 0, 0, 0, 0]]\n",
      "\n",
      "\n",
      "importance matrix\n",
      "[[0.49296266852625126, 0.0, 0.0, 0.9721940908569785, 0.7309337370681436, 0.50085612248579, 0.0, 0.5652907248001355, 0.0, 0.0, 0.0, 0.0, 0.43710889990505025, 0.0, 0.0, 0.0, 0.5365226444391592, 0.7449962000489353, 0.0, 0.0, 0.0, 0.0, 0.0, 0.0], [0.49296266852625126, 0.0, 0.0, 0.9721940908569785, 0.7309337370681436, 0.50085612248579, 0.0, 0.5652907248001355, 0.0, 0.0, 0.0, 0.0, 0.43710889990505025, 0.0, 0.0, 0.0, 0.5365226444391592, 0.7449962000489353, 0.0, 0.0, 0.0, 0.0, 0.0, 0.0], [0.49296266852625126, 0.0, 0.0, 0.9721940908569785, 0.7309337370681436, 0.50085612248579, 0.0, 0.5652907248001355, 0.0, 0.0, 0.0, 0.0, 0.43710889990505025, 0.0, 0.0, 0.0, 0.5365226444391592, 0.7449962000489353, 0.0, 0.0, 0.0, 0.0, 0.0, 0.0], [0.49296266852625126, 0.0, 0.0, 0.9721940908569785, 0.7309337370681436, 0.50085612248579, 0.0, 0.5652907248001355, 0.0, 0.0, 0.0, 0.0, 0.43710889990505025, 0.0, 0.0, 0.0, 0.5365226444391592, 0.7449962000489353, 0.0, 0.0, 0.0, 0.0, 0.0, 0.0], [0.49296266852625126, 0.0, 0.0, 0.9721940908569785, 0.7309337370681436, 0.50085612248579, 0.0, 0.5652907248001355, 0.0, 0.0, 0.0, 0.0, 0.43710889990505025, 0.0, 0.0, 0.0, 0.5365226444391592, 0.7449962000489353, 0.0, 0.0, 0.0, 0.0, 0.0, 0.0], [0.49296266852625126, 0.0, 0.0, 0.9721940908569785, 0.7309337370681436, 0.50085612248579, 0.0, 0.5652907248001355, 0.0, 0.0, 0.0, 0.0, 0.43710889990505025, 0.0, 0.0, 0.0, 0.5365226444391592, 0.7449962000489353, 0.0, 0.0, 0.0, 0.0, 0.0, 0.0], [0.49296266852625126, 0.0, 0.0, 0.9721940908569785, 0.7309337370681436, 0.50085612248579, 0.0, 0.5652907248001355, 0.0, 0.0, 0.0, 0.0, 0.43710889990505025, 0.0, 0.0, 0.0, 0.5365226444391592, 0.7449962000489353, 0.0, 0.0, 0.0, 0.0, 0.0, 0.0], [0.49296266852625126, 0.0, 0.0, 0.9721940908569785, 0.7309337370681436, 0.50085612248579, 0.0, 0.5652907248001355, 0.0, 0.0, 0.0, 0.0, 0.43710889990505025, 0.0, 0.0, 0.0, 0.5365226444391592, 0.7449962000489353, 0.0, 0.0, 0.0, 0.0, 0.0, 0.0], [0.49296266852625126, 0.0, 0.0, 0.9721940908569785, 0.7309337370681436, 0.50085612248579, 0.0, 0.5652907248001355, 0.0, 0.0, 0.0, 0.0, 0.43710889990505025, 0.0, 0.0, 0.0, 0.5365226444391592, 0.7449962000489353, 0.0, 0.0, 0.0, 0.0, 0.0, 0.0], [0.49296266852625126, 0.0, 0.0, 0.9721940908569785, 0.7309337370681436, 0.50085612248579, 0.0, 0.5652907248001355, 0.0, 0.0, 0.0, 0.0, 0.43710889990505025, 0.0, 0.0, 0.0, 0.5365226444391592, 0.7449962000489353, 0.0, 0.0, 0.0, 0.0, 0.0, 0.0], [0.49296266852625126, 0.0, 0.0, 0.9721940908569785, 0.7309337370681436, 0.50085612248579, 0.0, 0.5652907248001355, 0.0, 0.0, 0.0, 0.0, 0.43710889990505025, 0.0, 0.0, 0.0, 0.5365226444391592, 0.7449962000489353, 0.0, 0.0, 0.0, 0.0, 0.0, 0.0], [0.49296266852625126, 0.0, 0.0, 0.9721940908569785, 0.7309337370681436, 0.50085612248579, 0.0, 0.5652907248001355, 0.0, 0.0, 0.0, 0.0, 0.43710889990505025, 0.0, 0.0, 0.0, 0.5365226444391592, 0.7449962000489353, 0.0, 0.0, 0.0, 0.0, 0.0, 0.0], [0.49296266852625126, 0.0, 0.0, 0.9721940908569785, 0.7309337370681436, 0.50085612248579, 0.0, 0.5652907248001355, 0.0, 0.0, 0.0, 0.0, 0.43710889990505025, 0.0, 0.0, 0.0, 0.5365226444391592, 0.7449962000489353, 0.0, 0.0, 0.0, 0.0, 0.0, 0.0], [0.49296266852625126, 0.0, 0.0, 0.9721940908569785, 0.7309337370681436, 0.50085612248579, 0.0, 0.5652907248001355, 0.0, 0.0, 0.0, 0.0, 0.43710889990505025, 0.0, 0.0, 0.0, 0.5365226444391592, 0.7449962000489353, 0.0, 0.0, 0.0, 0.0, 0.0, 0.0], [0.49296266852625126, 0.0, 0.0, 0.9721940908569785, 0.7309337370681436, 0.50085612248579, 0.0, 0.5652907248001355, 0.0, 0.0, 0.0, 0.0, 0.43710889990505025, 0.0, 0.0, 0.0, 0.5365226444391592, 0.7449962000489353, 0.0, 0.0, 0.0, 0.0, 0.0, 0.0], [0.49296266852625126, 0.0, 0.0, 0.9721940908569785, 0.7309337370681436, 0.50085612248579, 0.0, 0.5652907248001355, 0.0, 0.0, 0.0, 0.0, 0.43710889990505025, 0.0, 0.0, 0.0, 0.5365226444391592, 0.7449962000489353, 0.0, 0.0, 0.0, 0.0, 0.0, 0.0], [0.49296266852625126, 0.0, 0.0, 0.9721940908569785, 0.7309337370681436, 0.50085612248579, 0.0, 0.5652907248001355, 0.0, 0.0, 0.0, 0.0, 0.43710889990505025, 0.0, 0.0, 0.0, 0.5365226444391592, 0.7449962000489353, 0.0, 0.0, 0.0, 0.0, 0.0, 0.0], [0.49296266852625126, 0.0, 0.0, 0.9721940908569785, 0.7309337370681436, 0.50085612248579, 0.0, 0.5652907248001355, 0.0, 0.0, 0.0, 0.0, 0.43710889990505025, 0.0, 0.0, 0.0, 0.5365226444391592, 0.7449962000489353, 0.0, 0.0, 0.0, 0.0, 0.0, 0.0], [0.49296266852625126, 0.0, 0.0, 0.9721940908569785, 0.7309337370681436, 0.50085612248579, 0.0, 0.5652907248001355, 0.0, 0.0, 0.0, 0.0, 0.43710889990505025, 0.0, 0.0, 0.0, 0.5365226444391592, 0.7449962000489353, 0.0, 0.0, 0.0, 0.0, 0.0, 0.0], [0.49296266852625126, 0.0, 0.0, 0.9721940908569785, 0.7309337370681436, 0.50085612248579, 0.0, 0.5652907248001355, 0.0, 0.0, 0.0, 0.0, 0.43710889990505025, 0.0, 0.0, 0.0, 0.5365226444391592, 0.7449962000489353, 0.0, 0.0, 0.0, 0.0, 0.0, 0.0], [0.49296266852625126, 0.0, 0.0, 0.9721940908569785, 0.7309337370681436, 0.50085612248579, 0.0, 0.5652907248001355, 0.0, 0.0, 0.0, 0.0, 0.43710889990505025, 0.0, 0.0, 0.0, 0.5365226444391592, 0.7449962000489353, 0.0, 0.0, 0.0, 0.0, 0.0, 0.0], [0.49296266852625126, 0.0, 0.0, 0.9721940908569785, 0.7309337370681436, 0.50085612248579, 0.0, 0.5652907248001355, 0.0, 0.0, 0.0, 0.0, 0.43710889990505025, 0.0, 0.0, 0.0, 0.5365226444391592, 0.7449962000489353, 0.0, 0.0, 0.0, 0.0, 0.0, 0.0], [0.49296266852625126, 0.0, 0.0, 0.9721940908569785, 0.7309337370681436, 0.50085612248579, 0.0, 0.5652907248001355, 0.0, 0.0, 0.0, 0.0, 0.43710889990505025, 0.0, 0.0, 0.0, 0.5365226444391592, 0.7449962000489353, 0.0, 0.0, 0.0, 0.0, 0.0, 0.0], [0.49296266852625126, 0.0, 0.0, 0.9721940908569785, 0.7309337370681436, 0.50085612248579, 0.0, 0.5652907248001355, 0.0, 0.0, 0.0, 0.0, 0.43710889990505025, 0.0, 0.0, 0.0, 0.5365226444391592, 0.7449962000489353, 0.0, 0.0, 0.0, 0.0, 0.0, 0.0]]\n",
      "[6, 23, 19, 20, 9, 11, 1, 10, 13, 3]\n"
     ]
    },
    {
     "name": "stdout",
     "output_type": "stream",
     "text": [
      "[[0, 0, 0, 0, 0, 0, 0, 0, 0, 0, 0, 0, 0, 0, 0, 0, 0, 0, 0, 0, 0, 0, 0, 0], [0, 0, 0, 0, 0, 0, 0, 0, 0, 0, 0, 0, 0, 0, 0, 0, 0, 0, 0, 0, 0, 0, 0, 0], [0, 0, 0, 0, 0, 0, 0, 0, 0, 0, 0, 0, 0, 0, 0, 0, 0, 0, 0, 0, 0, 0, 0, 0], [0, 0, 0, 0, 0, 0, 0, 0, 0, 0, 0, 0, 0, 0, 0, 0, 0, 0, 0, 0, 0, 0, 0, 0], [0, 0, 0, 0, 0, 0, 0, 0, 0, 0, 0, 0, 0, 0, 0, 0, 0, 0, 0, 0, 0, 0, 0, 0], [0, 0, 0, 0, 0, 0, 0, 0, 0, 0, 0, 0, 0, 0, 0, 0, 0, 0, 0, 0, 0, 0, 0, 0], [0, 0, 0, 0, 0, 0, 0, 0, 0, 0, 0, 0, 0, 0, 0, 0, 0, 0, 0, 0, 0, 0, 0, 0], [0, 0, 0, 0, 0, 0, 0, 0, 0, 0, 0, 0, 0, 0, 0, 0, 0, 0, 0, 0, 0, 0, 0, 0], [0, 0, 0, 0, 0, 0, 0, 0, 0, 0, 0, 0, 0, 0, 0, 0, 0, 0, 0, 0, 0, 0, 0, 0], [0, 0, 0, 0, 0, 0, 0, 0, 0, 0, 0, 0, 0, 0, 0, 0, 0, 0, 0, 0, 0, 0, 0, 0], [0, 0, 0, 0, 0, 0, 0, 0, 0, 0, 0, 0, 0, 0, 0, 0, 0, 0, 0, 0, 0, 0, 0, 0], [0, 0, 0, 0, 0, 0, 0, 0, 0, 0, 0, 0, 0, 0, 0, 0, 0, 0, 0, 0, 0, 0, 0, 0], [0, 0, 0, 0, 0, 0, 0, 0, 0, 0, 0, 0, 0, 0, 0, 0, 0, 0, 0, 0, 0, 0, 0, 0], [0, 0, 0, 0, 0, 0, 0, 0, 0, 0, 0, 0, 0, 0, 0, 0, 0, 0, 0, 0, 0, 0, 0, 0], [0, 0, 0, 0, 0, 0, 0, 0, 0, 0, 0, 0, 0.43710889990505025, 0, 0, 0, 0, 0, 0, 0, 0, 0, 0, 0], [0, 0, 0, 0, 0, 0, 0, 0.5652907248001355, 0, 0, 0, 0, 0, 0, 0, 0, 0, 0, 0, 0, 0, 0, 0, 0], [0, 0, 0, 0, 0, 0, 0, 0, 0, 0, 0, 0, 0, 0, 0, 0, 0, 0.7449962000489353, 0, 0, 0, 0, 0, 0], [0, 0, 0, 0, 0, 0.50085612248579, 0, 0, 0, 0, 0, 0, 0, 0, 0, 0, 0.5365226444391592, 0, 0, 0, 0, 0, 0, 0], [0, 0, 0, 0, 0, 0, 0, 0, 0, 0, 0, 0, 0, 0, 0, 0, 0, 0, 0, 0, 0, 0, 0, 0], [0, 0, 0, 0, 0, 0, 0, 0, 0, 0, 0, 0, 0, 0, 0, 0, 0, 0, 0, 0, 0, 0, 0, 0], [0, 0, 0, 0, 0, 0, 0, 0, 0, 0, 0, 0, 0, 0, 0, 0, 0, 0, 0, 0, 0, 0, 0, 0], [0, 0, 0, 0, 0, 0, 0, 0, 0, 0, 0, 0, 0, 0, 0, 0, 0, 0, 0, 0, 0, 0, 0, 0], [-0.49296266852625126, 0, 0, 0, 0, 0, 0, 0, 0, 0, 0, 0, 0, 0, 0, 0, 0, 0, 0, 0, 0, 0, 0, 0], [0, 0, 0, 0, 0, 0, 0, 0, 0, 0, 0, 0, 0, 0, 0, 0, 0, 0, 0, 0, 0, 0, 0, 0]]\n",
      "\n",
      "\n",
      "importance matrix\n",
      "[[0.49296266852625126, 0.0, 0.0, 0.0, 0.0, 0.50085612248579, 0.0, 0.5652907248001355, 0.0, 0.0, 0.0, 0.0, 0.43710889990505025, 0.0, 0.0, 0.0, 0.5365226444391592, 0.7449962000489353, 0.0, 0.0, 0.0, 0.0, 0.0, 0.0], [0.49296266852625126, 0.0, 0.0, 0.0, 0.0, 0.50085612248579, 0.0, 0.5652907248001355, 0.0, 0.0, 0.0, 0.0, 0.43710889990505025, 0.0, 0.0, 0.0, 0.5365226444391592, 0.7449962000489353, 0.0, 0.0, 0.0, 0.0, 0.0, 0.0], [0.49296266852625126, 0.0, 0.0, 0.0, 0.0, 0.50085612248579, 0.0, 0.5652907248001355, 0.0, 0.0, 0.0, 0.0, 0.43710889990505025, 0.0, 0.0, 0.0, 0.5365226444391592, 0.7449962000489353, 0.0, 0.0, 0.0, 0.0, 0.0, 0.0], [0.49296266852625126, 0.0, 0.0, 0.0, 0.0, 0.50085612248579, 0.0, 0.5652907248001355, 0.0, 0.0, 0.0, 0.0, 0.43710889990505025, 0.0, 0.0, 0.0, 0.5365226444391592, 0.7449962000489353, 0.0, 0.0, 0.0, 0.0, 0.0, 0.0], [0.49296266852625126, 0.0, 0.0, 0.0, 0.0, 0.50085612248579, 0.0, 0.5652907248001355, 0.0, 0.0, 0.0, 0.0, 0.43710889990505025, 0.0, 0.0, 0.0, 0.5365226444391592, 0.7449962000489353, 0.0, 0.0, 0.0, 0.0, 0.0, 0.0], [0.49296266852625126, 0.0, 0.0, 0.0, 0.0, 0.50085612248579, 0.0, 0.5652907248001355, 0.0, 0.0, 0.0, 0.0, 0.43710889990505025, 0.0, 0.0, 0.0, 0.5365226444391592, 0.7449962000489353, 0.0, 0.0, 0.0, 0.0, 0.0, 0.0], [0.49296266852625126, 0.0, 0.0, 0.0, 0.0, 0.50085612248579, 0.0, 0.5652907248001355, 0.0, 0.0, 0.0, 0.0, 0.43710889990505025, 0.0, 0.0, 0.0, 0.5365226444391592, 0.7449962000489353, 0.0, 0.0, 0.0, 0.0, 0.0, 0.0], [0.49296266852625126, 0.0, 0.0, 0.0, 0.0, 0.50085612248579, 0.0, 0.5652907248001355, 0.0, 0.0, 0.0, 0.0, 0.43710889990505025, 0.0, 0.0, 0.0, 0.5365226444391592, 0.7449962000489353, 0.0, 0.0, 0.0, 0.0, 0.0, 0.0], [0.49296266852625126, 0.0, 0.0, 0.0, 0.0, 0.50085612248579, 0.0, 0.5652907248001355, 0.0, 0.0, 0.0, 0.0, 0.43710889990505025, 0.0, 0.0, 0.0, 0.5365226444391592, 0.7449962000489353, 0.0, 0.0, 0.0, 0.0, 0.0, 0.0], [0.49296266852625126, 0.0, 0.0, 0.0, 0.0, 0.50085612248579, 0.0, 0.5652907248001355, 0.0, 0.0, 0.0, 0.0, 0.43710889990505025, 0.0, 0.0, 0.0, 0.5365226444391592, 0.7449962000489353, 0.0, 0.0, 0.0, 0.0, 0.0, 0.0], [0.49296266852625126, 0.0, 0.0, 0.0, 0.0, 0.50085612248579, 0.0, 0.5652907248001355, 0.0, 0.0, 0.0, 0.0, 0.43710889990505025, 0.0, 0.0, 0.0, 0.5365226444391592, 0.7449962000489353, 0.0, 0.0, 0.0, 0.0, 0.0, 0.0], [0.49296266852625126, 0.0, 0.0, 0.0, 0.0, 0.50085612248579, 0.0, 0.5652907248001355, 0.0, 0.0, 0.0, 0.0, 0.43710889990505025, 0.0, 0.0, 0.0, 0.5365226444391592, 0.7449962000489353, 0.0, 0.0, 0.0, 0.0, 0.0, 0.0], [0.49296266852625126, 0.0, 0.0, 0.0, 0.0, 0.50085612248579, 0.0, 0.5652907248001355, 0.0, 0.0, 0.0, 0.0, 0.43710889990505025, 0.0, 0.0, 0.0, 0.5365226444391592, 0.7449962000489353, 0.0, 0.0, 0.0, 0.0, 0.0, 0.0], [0.49296266852625126, 0.0, 0.0, 0.0, 0.0, 0.50085612248579, 0.0, 0.5652907248001355, 0.0, 0.0, 0.0, 0.0, 0.43710889990505025, 0.0, 0.0, 0.0, 0.5365226444391592, 0.7449962000489353, 0.0, 0.0, 0.0, 0.0, 0.0, 0.0], [0.49296266852625126, 0.0, 0.0, 0.0, 0.0, 0.50085612248579, 0.0, 0.5652907248001355, 0.0, 0.0, 0.0, 0.0, 0.43710889990505025, 0.0, 0.0, 0.0, 0.5365226444391592, 0.7449962000489353, 0.0, 0.0, 0.0, 0.0, 0.0, 0.0], [0.49296266852625126, 0.0, 0.0, 0.0, 0.0, 0.50085612248579, 0.0, 0.5652907248001355, 0.0, 0.0, 0.0, 0.0, 0.43710889990505025, 0.0, 0.0, 0.0, 0.5365226444391592, 0.7449962000489353, 0.0, 0.0, 0.0, 0.0, 0.0, 0.0], [0.49296266852625126, 0.0, 0.0, 0.0, 0.0, 0.50085612248579, 0.0, 0.5652907248001355, 0.0, 0.0, 0.0, 0.0, 0.43710889990505025, 0.0, 0.0, 0.0, 0.5365226444391592, 0.7449962000489353, 0.0, 0.0, 0.0, 0.0, 0.0, 0.0], [0.49296266852625126, 0.0, 0.0, 0.0, 0.0, 0.50085612248579, 0.0, 0.5652907248001355, 0.0, 0.0, 0.0, 0.0, 0.43710889990505025, 0.0, 0.0, 0.0, 0.5365226444391592, 0.7449962000489353, 0.0, 0.0, 0.0, 0.0, 0.0, 0.0], [0.49296266852625126, 0.0, 0.0, 0.0, 0.0, 0.50085612248579, 0.0, 0.5652907248001355, 0.0, 0.0, 0.0, 0.0, 0.43710889990505025, 0.0, 0.0, 0.0, 0.5365226444391592, 0.7449962000489353, 0.0, 0.0, 0.0, 0.0, 0.0, 0.0], [0.49296266852625126, 0.0, 0.0, 0.0, 0.0, 0.50085612248579, 0.0, 0.5652907248001355, 0.0, 0.0, 0.0, 0.0, 0.43710889990505025, 0.0, 0.0, 0.0, 0.5365226444391592, 0.7449962000489353, 0.0, 0.0, 0.0, 0.0, 0.0, 0.0], [0.49296266852625126, 0.0, 0.0, 0.0, 0.0, 0.50085612248579, 0.0, 0.5652907248001355, 0.0, 0.0, 0.0, 0.0, 0.43710889990505025, 0.0, 0.0, 0.0, 0.5365226444391592, 0.7449962000489353, 0.0, 0.0, 0.0, 0.0, 0.0, 0.0], [0.49296266852625126, 0.0, 0.0, 0.0, 0.0, 0.50085612248579, 0.0, 0.5652907248001355, 0.0, 0.0, 0.0, 0.0, 0.43710889990505025, 0.0, 0.0, 0.0, 0.5365226444391592, 0.7449962000489353, 0.0, 0.0, 0.0, 0.0, 0.0, 0.0], [0.49296266852625126, 0.0, 0.0, 0.0, 0.0, 0.50085612248579, 0.0, 0.5652907248001355, 0.0, 0.0, 0.0, 0.0, 0.43710889990505025, 0.0, 0.0, 0.0, 0.5365226444391592, 0.7449962000489353, 0.0, 0.0, 0.0, 0.0, 0.0, 0.0], [0.49296266852625126, 0.0, 0.0, 0.0, 0.0, 0.50085612248579, 0.0, 0.5652907248001355, 0.0, 0.0, 0.0, 0.0, 0.43710889990505025, 0.0, 0.0, 0.0, 0.5365226444391592, 0.7449962000489353, 0.0, 0.0, 0.0, 0.0, 0.0, 0.0]]\n",
      "[6, 23, 19, 20, 9, 11, 1, 10, 13, 3, 17]\n"
     ]
    },
    {
     "name": "stdout",
     "output_type": "stream",
     "text": [
      "[[0, 0, 0, 0, 0, 0, 0, 0, 0, 0, 0, 0, 0, 0, 0, 0, 0, 0, 0, 0, 0, 0, 0, 0], [0, 0, 0, 0, 0, 0, 0, 0, 0, 0, 0, 0, 0, 0, 0, 0, 0, 0, 0, 0, 0, 0, 0, 0], [0, 0, 0, 0, 0, 0, 0, 0, 0, 0, 0, 0, 0, 0, 0, 0, 0, 0, 0, 0, 0, 0, 0, 0], [0, 0, 0, 0, 0, 0, 0, 0, 0, 0, 0, 0, 0, 0, 0, 0, 0, 0, 0, 0, 0, 0, 0, 0], [0, 0, 0, 0, 0, 0, 0, 0, 0, 0, 0, 0, 0, 0, 0, 0, 0, 0, 0, 0, 0, 0, 0, 0], [0, 0, 0, 0, 0, 0, 0, 0, 0, 0, 0, 0, 0, 0, 0, 0, 0, 0, 0, 0, 0, 0, 0, 0], [0, 0, 0, 0, 0, 0, 0, 0, 0, 0, 0, 0, 0, 0, 0, 0, 0, 0, 0, 0, 0, 0, 0, 0], [0, 0, 0, 0, 0, 0, 0, 0, 0, 0, 0, 0, 0, 0, 0, 0, 0, 0, 0, 0, 0, 0, 0, 0], [0, 0, 0, 0, 0, 0, 0, 0, 0, 0, 0, 0, 0, 0, 0, 0, 0, 0, 0, 0, 0, 0, 0, 0], [0, 0, 0, 0, 0, 0, 0, 0, 0, 0, 0, 0, 0, 0, 0, 0, 0, 0, 0, 0, 0, 0, 0, 0], [0, 0, 0, 0, 0, 0, 0, 0, 0, 0, 0, 0, 0, 0, 0, 0, 0, 0, 0, 0, 0, 0, 0, 0], [0, 0, 0, 0, 0, 0, 0, 0, 0, 0, 0, 0, 0, 0, 0, 0, 0, 0, 0, 0, 0, 0, 0, 0], [0, 0, 0, 0, 0, 0, 0, 0, 0, 0, 0, 0, 0, 0, 0, 0, 0, 0, 0, 0, 0, 0, 0, 0], [0, 0, 0, 0, 0, 0, 0, 0, 0, 0, 0, 0, 0, 0, 0, 0, 0, 0, 0, 0, 0, 0, 0, 0], [0, 0, 0, 0, 0, 0, 0, 0, 0, 0, 0, 0, 0.43710889990505025, 0, 0, 0, 0, 0, 0, 0, 0, 0, 0, 0], [0, 0, 0, 0, 0, 0, 0, 0.5652907248001355, 0, 0, 0, 0, 0, 0, 0, 0, 0, 0, 0, 0, 0, 0, 0, 0], [0, 0, 0, 0, 0, 0, 0, 0, 0, 0, 0, 0, 0, 0, 0, 0, 0, 0, 0, 0, 0, 0, 0, 0], [0, 0, 0, 0, 0, 0, 0, 0, 0, 0, 0, 0, 0, 0, 0, 0, 0, 0, 0, 0, 0, 0, 0, 0], [0, 0, 0, 0, 0, 0, 0, 0, 0, 0, 0, 0, 0, 0, 0, 0, 0, 0, 0, 0, 0, 0, 0, 0], [0, 0, 0, 0, 0, 0, 0, 0, 0, 0, 0, 0, 0, 0, 0, 0, 0, 0, 0, 0, 0, 0, 0, 0], [0, 0, 0, 0, 0, 0, 0, 0, 0, 0, 0, 0, 0, 0, 0, 0, 0, 0, 0, 0, 0, 0, 0, 0], [0, 0, 0, 0, 0, 0, 0, 0, 0, 0, 0, 0, 0, 0, 0, 0, 0, 0, 0, 0, 0, 0, 0, 0], [-0.49296266852625126, 0, 0, 0, 0, 0, 0, 0, 0, 0, 0, 0, 0, 0, 0, 0, 0, 0, 0, 0, 0, 0, 0, 0], [0, 0, 0, 0, 0, 0, 0, 0, 0, 0, 0, 0, 0, 0, 0, 0, 0, 0, 0, 0, 0, 0, 0, 0]]\n",
      "\n",
      "\n",
      "importance matrix\n",
      "[[0.49296266852625126, 0.0, 0.0, 0.0, 0.0, 0.0, 0.0, 0.5652907248001355, 0.0, 0.0, 0.0, 0.0, 0.43710889990505025, 0.0, 0.0, 0.0, 0.0, 0.0, 0.0, 0.0, 0.0, 0.0, 0.0, 0.0], [0.49296266852625126, 0.0, 0.0, 0.0, 0.0, 0.0, 0.0, 0.5652907248001355, 0.0, 0.0, 0.0, 0.0, 0.43710889990505025, 0.0, 0.0, 0.0, 0.0, 0.0, 0.0, 0.0, 0.0, 0.0, 0.0, 0.0], [0.49296266852625126, 0.0, 0.0, 0.0, 0.0, 0.0, 0.0, 0.5652907248001355, 0.0, 0.0, 0.0, 0.0, 0.43710889990505025, 0.0, 0.0, 0.0, 0.0, 0.0, 0.0, 0.0, 0.0, 0.0, 0.0, 0.0], [0.49296266852625126, 0.0, 0.0, 0.0, 0.0, 0.0, 0.0, 0.5652907248001355, 0.0, 0.0, 0.0, 0.0, 0.43710889990505025, 0.0, 0.0, 0.0, 0.0, 0.0, 0.0, 0.0, 0.0, 0.0, 0.0, 0.0], [0.49296266852625126, 0.0, 0.0, 0.0, 0.0, 0.0, 0.0, 0.5652907248001355, 0.0, 0.0, 0.0, 0.0, 0.43710889990505025, 0.0, 0.0, 0.0, 0.0, 0.0, 0.0, 0.0, 0.0, 0.0, 0.0, 0.0], [0.49296266852625126, 0.0, 0.0, 0.0, 0.0, 0.0, 0.0, 0.5652907248001355, 0.0, 0.0, 0.0, 0.0, 0.43710889990505025, 0.0, 0.0, 0.0, 0.0, 0.0, 0.0, 0.0, 0.0, 0.0, 0.0, 0.0], [0.49296266852625126, 0.0, 0.0, 0.0, 0.0, 0.0, 0.0, 0.5652907248001355, 0.0, 0.0, 0.0, 0.0, 0.43710889990505025, 0.0, 0.0, 0.0, 0.0, 0.0, 0.0, 0.0, 0.0, 0.0, 0.0, 0.0], [0.49296266852625126, 0.0, 0.0, 0.0, 0.0, 0.0, 0.0, 0.5652907248001355, 0.0, 0.0, 0.0, 0.0, 0.43710889990505025, 0.0, 0.0, 0.0, 0.0, 0.0, 0.0, 0.0, 0.0, 0.0, 0.0, 0.0], [0.49296266852625126, 0.0, 0.0, 0.0, 0.0, 0.0, 0.0, 0.5652907248001355, 0.0, 0.0, 0.0, 0.0, 0.43710889990505025, 0.0, 0.0, 0.0, 0.0, 0.0, 0.0, 0.0, 0.0, 0.0, 0.0, 0.0], [0.49296266852625126, 0.0, 0.0, 0.0, 0.0, 0.0, 0.0, 0.5652907248001355, 0.0, 0.0, 0.0, 0.0, 0.43710889990505025, 0.0, 0.0, 0.0, 0.0, 0.0, 0.0, 0.0, 0.0, 0.0, 0.0, 0.0], [0.49296266852625126, 0.0, 0.0, 0.0, 0.0, 0.0, 0.0, 0.5652907248001355, 0.0, 0.0, 0.0, 0.0, 0.43710889990505025, 0.0, 0.0, 0.0, 0.0, 0.0, 0.0, 0.0, 0.0, 0.0, 0.0, 0.0], [0.49296266852625126, 0.0, 0.0, 0.0, 0.0, 0.0, 0.0, 0.5652907248001355, 0.0, 0.0, 0.0, 0.0, 0.43710889990505025, 0.0, 0.0, 0.0, 0.0, 0.0, 0.0, 0.0, 0.0, 0.0, 0.0, 0.0], [0.49296266852625126, 0.0, 0.0, 0.0, 0.0, 0.0, 0.0, 0.5652907248001355, 0.0, 0.0, 0.0, 0.0, 0.43710889990505025, 0.0, 0.0, 0.0, 0.0, 0.0, 0.0, 0.0, 0.0, 0.0, 0.0, 0.0], [0.49296266852625126, 0.0, 0.0, 0.0, 0.0, 0.0, 0.0, 0.5652907248001355, 0.0, 0.0, 0.0, 0.0, 0.43710889990505025, 0.0, 0.0, 0.0, 0.0, 0.0, 0.0, 0.0, 0.0, 0.0, 0.0, 0.0], [0.49296266852625126, 0.0, 0.0, 0.0, 0.0, 0.0, 0.0, 0.5652907248001355, 0.0, 0.0, 0.0, 0.0, 0.43710889990505025, 0.0, 0.0, 0.0, 0.0, 0.0, 0.0, 0.0, 0.0, 0.0, 0.0, 0.0], [0.49296266852625126, 0.0, 0.0, 0.0, 0.0, 0.0, 0.0, 0.5652907248001355, 0.0, 0.0, 0.0, 0.0, 0.43710889990505025, 0.0, 0.0, 0.0, 0.0, 0.0, 0.0, 0.0, 0.0, 0.0, 0.0, 0.0], [0.49296266852625126, 0.0, 0.0, 0.0, 0.0, 0.0, 0.0, 0.5652907248001355, 0.0, 0.0, 0.0, 0.0, 0.43710889990505025, 0.0, 0.0, 0.0, 0.0, 0.0, 0.0, 0.0, 0.0, 0.0, 0.0, 0.0], [0.49296266852625126, 0.0, 0.0, 0.0, 0.0, 0.0, 0.0, 0.5652907248001355, 0.0, 0.0, 0.0, 0.0, 0.43710889990505025, 0.0, 0.0, 0.0, 0.0, 0.0, 0.0, 0.0, 0.0, 0.0, 0.0, 0.0], [0.49296266852625126, 0.0, 0.0, 0.0, 0.0, 0.0, 0.0, 0.5652907248001355, 0.0, 0.0, 0.0, 0.0, 0.43710889990505025, 0.0, 0.0, 0.0, 0.0, 0.0, 0.0, 0.0, 0.0, 0.0, 0.0, 0.0], [0.49296266852625126, 0.0, 0.0, 0.0, 0.0, 0.0, 0.0, 0.5652907248001355, 0.0, 0.0, 0.0, 0.0, 0.43710889990505025, 0.0, 0.0, 0.0, 0.0, 0.0, 0.0, 0.0, 0.0, 0.0, 0.0, 0.0], [0.49296266852625126, 0.0, 0.0, 0.0, 0.0, 0.0, 0.0, 0.5652907248001355, 0.0, 0.0, 0.0, 0.0, 0.43710889990505025, 0.0, 0.0, 0.0, 0.0, 0.0, 0.0, 0.0, 0.0, 0.0, 0.0, 0.0], [0.49296266852625126, 0.0, 0.0, 0.0, 0.0, 0.0, 0.0, 0.5652907248001355, 0.0, 0.0, 0.0, 0.0, 0.43710889990505025, 0.0, 0.0, 0.0, 0.0, 0.0, 0.0, 0.0, 0.0, 0.0, 0.0, 0.0], [0.49296266852625126, 0.0, 0.0, 0.0, 0.0, 0.0, 0.0, 0.5652907248001355, 0.0, 0.0, 0.0, 0.0, 0.43710889990505025, 0.0, 0.0, 0.0, 0.0, 0.0, 0.0, 0.0, 0.0, 0.0, 0.0, 0.0], [0.49296266852625126, 0.0, 0.0, 0.0, 0.0, 0.0, 0.0, 0.5652907248001355, 0.0, 0.0, 0.0, 0.0, 0.43710889990505025, 0.0, 0.0, 0.0, 0.0, 0.0, 0.0, 0.0, 0.0, 0.0, 0.0, 0.0]]\n",
      "[6, 23, 19, 20, 9, 11, 1, 10, 13, 3, 17, 7]\n",
      "[[0, 0, 0, 0, 0, 0, 0, 0, 0, 0, 0, 0, 0, 0, 0, 0, 0, 0, 0, 0, 0, 0, 0, 0], [0, 0, 0, 0, 0, 0, 0, 0, 0, 0, 0, 0, 0, 0, 0, 0, 0, 0, 0, 0, 0, 0, 0, 0], [0, 0, 0, 0, 0, 0, 0, 0, 0, 0, 0, 0, 0, 0, 0, 0, 0, 0, 0, 0, 0, 0, 0, 0], [0, 0, 0, 0, 0, 0, 0, 0, 0, 0, 0, 0, 0, 0, 0, 0, 0, 0, 0, 0, 0, 0, 0, 0], [0, 0, 0, 0, 0, 0, 0, 0, 0, 0, 0, 0, 0, 0, 0, 0, 0, 0, 0, 0, 0, 0, 0, 0], [0, 0, 0, 0, 0, 0, 0, 0, 0, 0, 0, 0, 0, 0, 0, 0, 0, 0, 0, 0, 0, 0, 0, 0], [0, 0, 0, 0, 0, 0, 0, 0, 0, 0, 0, 0, 0, 0, 0, 0, 0, 0, 0, 0, 0, 0, 0, 0], [0, 0, 0, 0, 0, 0, 0, 0, 0, 0, 0, 0, 0, 0, 0, 0, 0, 0, 0, 0, 0, 0, 0, 0], [0, 0, 0, 0, 0, 0, 0, 0, 0, 0, 0, 0, 0, 0, 0, 0, 0, 0, 0, 0, 0, 0, 0, 0], [0, 0, 0, 0, 0, 0, 0, 0, 0, 0, 0, 0, 0, 0, 0, 0, 0, 0, 0, 0, 0, 0, 0, 0], [0, 0, 0, 0, 0, 0, 0, 0, 0, 0, 0, 0, 0, 0, 0, 0, 0, 0, 0, 0, 0, 0, 0, 0], [0, 0, 0, 0, 0, 0, 0, 0, 0, 0, 0, 0, 0, 0, 0, 0, 0, 0, 0, 0, 0, 0, 0, 0], [0, 0, 0, 0, 0, 0, 0, 0, 0, 0, 0, 0, 0, 0, 0, 0, 0, 0, 0, 0, 0, 0, 0, 0], [0, 0, 0, 0, 0, 0, 0, 0, 0, 0, 0, 0, 0, 0, 0, 0, 0, 0, 0, 0, 0, 0, 0, 0], [0, 0, 0, 0, 0, 0, 0, 0, 0, 0, 0, 0, 0.43710889990505025, 0, 0, 0, 0, 0, 0, 0, 0, 0, 0, 0], [0, 0, 0, 0, 0, 0, 0, 0, 0, 0, 0, 0, 0, 0, 0, 0, 0, 0, 0, 0, 0, 0, 0, 0], [0, 0, 0, 0, 0, 0, 0, 0, 0, 0, 0, 0, 0, 0, 0, 0, 0, 0, 0, 0, 0, 0, 0, 0], [0, 0, 0, 0, 0, 0, 0, 0, 0, 0, 0, 0, 0, 0, 0, 0, 0, 0, 0, 0, 0, 0, 0, 0], [0, 0, 0, 0, 0, 0, 0, 0, 0, 0, 0, 0, 0, 0, 0, 0, 0, 0, 0, 0, 0, 0, 0, 0], [0, 0, 0, 0, 0, 0, 0, 0, 0, 0, 0, 0, 0, 0, 0, 0, 0, 0, 0, 0, 0, 0, 0, 0], [0, 0, 0, 0, 0, 0, 0, 0, 0, 0, 0, 0, 0, 0, 0, 0, 0, 0, 0, 0, 0, 0, 0, 0], [0, 0, 0, 0, 0, 0, 0, 0, 0, 0, 0, 0, 0, 0, 0, 0, 0, 0, 0, 0, 0, 0, 0, 0], [-0.49296266852625126, 0, 0, 0, 0, 0, 0, 0, 0, 0, 0, 0, 0, 0, 0, 0, 0, 0, 0, 0, 0, 0, 0, 0], [0, 0, 0, 0, 0, 0, 0, 0, 0, 0, 0, 0, 0, 0, 0, 0, 0, 0, 0, 0, 0, 0, 0, 0]]\n",
      "\n",
      "\n",
      "importance matrix\n"
     ]
    },
    {
     "name": "stdout",
     "output_type": "stream",
     "text": [
      "[[0.49296266852625126, 0.0, 0.0, 0.0, 0.0, 0.0, 0.0, 0.0, 0.0, 0.0, 0.0, 0.0, 0.43710889990505025, 0.0, 0.0, 0.0, 0.0, 0.0, 0.0, 0.0, 0.0, 0.0, 0.0, 0.0], [0.49296266852625126, 0.0, 0.0, 0.0, 0.0, 0.0, 0.0, 0.0, 0.0, 0.0, 0.0, 0.0, 0.43710889990505025, 0.0, 0.0, 0.0, 0.0, 0.0, 0.0, 0.0, 0.0, 0.0, 0.0, 0.0], [0.49296266852625126, 0.0, 0.0, 0.0, 0.0, 0.0, 0.0, 0.0, 0.0, 0.0, 0.0, 0.0, 0.43710889990505025, 0.0, 0.0, 0.0, 0.0, 0.0, 0.0, 0.0, 0.0, 0.0, 0.0, 0.0], [0.49296266852625126, 0.0, 0.0, 0.0, 0.0, 0.0, 0.0, 0.0, 0.0, 0.0, 0.0, 0.0, 0.43710889990505025, 0.0, 0.0, 0.0, 0.0, 0.0, 0.0, 0.0, 0.0, 0.0, 0.0, 0.0], [0.49296266852625126, 0.0, 0.0, 0.0, 0.0, 0.0, 0.0, 0.0, 0.0, 0.0, 0.0, 0.0, 0.43710889990505025, 0.0, 0.0, 0.0, 0.0, 0.0, 0.0, 0.0, 0.0, 0.0, 0.0, 0.0], [0.49296266852625126, 0.0, 0.0, 0.0, 0.0, 0.0, 0.0, 0.0, 0.0, 0.0, 0.0, 0.0, 0.43710889990505025, 0.0, 0.0, 0.0, 0.0, 0.0, 0.0, 0.0, 0.0, 0.0, 0.0, 0.0], [0.49296266852625126, 0.0, 0.0, 0.0, 0.0, 0.0, 0.0, 0.0, 0.0, 0.0, 0.0, 0.0, 0.43710889990505025, 0.0, 0.0, 0.0, 0.0, 0.0, 0.0, 0.0, 0.0, 0.0, 0.0, 0.0], [0.49296266852625126, 0.0, 0.0, 0.0, 0.0, 0.0, 0.0, 0.0, 0.0, 0.0, 0.0, 0.0, 0.43710889990505025, 0.0, 0.0, 0.0, 0.0, 0.0, 0.0, 0.0, 0.0, 0.0, 0.0, 0.0], [0.49296266852625126, 0.0, 0.0, 0.0, 0.0, 0.0, 0.0, 0.0, 0.0, 0.0, 0.0, 0.0, 0.43710889990505025, 0.0, 0.0, 0.0, 0.0, 0.0, 0.0, 0.0, 0.0, 0.0, 0.0, 0.0], [0.49296266852625126, 0.0, 0.0, 0.0, 0.0, 0.0, 0.0, 0.0, 0.0, 0.0, 0.0, 0.0, 0.43710889990505025, 0.0, 0.0, 0.0, 0.0, 0.0, 0.0, 0.0, 0.0, 0.0, 0.0, 0.0], [0.49296266852625126, 0.0, 0.0, 0.0, 0.0, 0.0, 0.0, 0.0, 0.0, 0.0, 0.0, 0.0, 0.43710889990505025, 0.0, 0.0, 0.0, 0.0, 0.0, 0.0, 0.0, 0.0, 0.0, 0.0, 0.0], [0.49296266852625126, 0.0, 0.0, 0.0, 0.0, 0.0, 0.0, 0.0, 0.0, 0.0, 0.0, 0.0, 0.43710889990505025, 0.0, 0.0, 0.0, 0.0, 0.0, 0.0, 0.0, 0.0, 0.0, 0.0, 0.0], [0.49296266852625126, 0.0, 0.0, 0.0, 0.0, 0.0, 0.0, 0.0, 0.0, 0.0, 0.0, 0.0, 0.43710889990505025, 0.0, 0.0, 0.0, 0.0, 0.0, 0.0, 0.0, 0.0, 0.0, 0.0, 0.0], [0.49296266852625126, 0.0, 0.0, 0.0, 0.0, 0.0, 0.0, 0.0, 0.0, 0.0, 0.0, 0.0, 0.43710889990505025, 0.0, 0.0, 0.0, 0.0, 0.0, 0.0, 0.0, 0.0, 0.0, 0.0, 0.0], [0.49296266852625126, 0.0, 0.0, 0.0, 0.0, 0.0, 0.0, 0.0, 0.0, 0.0, 0.0, 0.0, 0.43710889990505025, 0.0, 0.0, 0.0, 0.0, 0.0, 0.0, 0.0, 0.0, 0.0, 0.0, 0.0], [0.49296266852625126, 0.0, 0.0, 0.0, 0.0, 0.0, 0.0, 0.0, 0.0, 0.0, 0.0, 0.0, 0.43710889990505025, 0.0, 0.0, 0.0, 0.0, 0.0, 0.0, 0.0, 0.0, 0.0, 0.0, 0.0], [0.49296266852625126, 0.0, 0.0, 0.0, 0.0, 0.0, 0.0, 0.0, 0.0, 0.0, 0.0, 0.0, 0.43710889990505025, 0.0, 0.0, 0.0, 0.0, 0.0, 0.0, 0.0, 0.0, 0.0, 0.0, 0.0], [0.49296266852625126, 0.0, 0.0, 0.0, 0.0, 0.0, 0.0, 0.0, 0.0, 0.0, 0.0, 0.0, 0.43710889990505025, 0.0, 0.0, 0.0, 0.0, 0.0, 0.0, 0.0, 0.0, 0.0, 0.0, 0.0], [0.49296266852625126, 0.0, 0.0, 0.0, 0.0, 0.0, 0.0, 0.0, 0.0, 0.0, 0.0, 0.0, 0.43710889990505025, 0.0, 0.0, 0.0, 0.0, 0.0, 0.0, 0.0, 0.0, 0.0, 0.0, 0.0], [0.49296266852625126, 0.0, 0.0, 0.0, 0.0, 0.0, 0.0, 0.0, 0.0, 0.0, 0.0, 0.0, 0.43710889990505025, 0.0, 0.0, 0.0, 0.0, 0.0, 0.0, 0.0, 0.0, 0.0, 0.0, 0.0], [0.49296266852625126, 0.0, 0.0, 0.0, 0.0, 0.0, 0.0, 0.0, 0.0, 0.0, 0.0, 0.0, 0.43710889990505025, 0.0, 0.0, 0.0, 0.0, 0.0, 0.0, 0.0, 0.0, 0.0, 0.0, 0.0], [0.49296266852625126, 0.0, 0.0, 0.0, 0.0, 0.0, 0.0, 0.0, 0.0, 0.0, 0.0, 0.0, 0.43710889990505025, 0.0, 0.0, 0.0, 0.0, 0.0, 0.0, 0.0, 0.0, 0.0, 0.0, 0.0], [0.49296266852625126, 0.0, 0.0, 0.0, 0.0, 0.0, 0.0, 0.0, 0.0, 0.0, 0.0, 0.0, 0.43710889990505025, 0.0, 0.0, 0.0, 0.0, 0.0, 0.0, 0.0, 0.0, 0.0, 0.0, 0.0], [0.49296266852625126, 0.0, 0.0, 0.0, 0.0, 0.0, 0.0, 0.0, 0.0, 0.0, 0.0, 0.0, 0.43710889990505025, 0.0, 0.0, 0.0, 0.0, 0.0, 0.0, 0.0, 0.0, 0.0, 0.0, 0.0]]\n",
      "[6, 23, 19, 20, 9, 11, 1, 10, 13, 3, 17, 7, 0]\n",
      "[[0, 0, 0, 0, 0, 0, 0, 0, 0, 0, 0, 0, 0, 0, 0, 0, 0, 0, 0, 0, 0, 0, 0, 0], [0, 0, 0, 0, 0, 0, 0, 0, 0, 0, 0, 0, 0, 0, 0, 0, 0, 0, 0, 0, 0, 0, 0, 0], [0, 0, 0, 0, 0, 0, 0, 0, 0, 0, 0, 0, 0, 0, 0, 0, 0, 0, 0, 0, 0, 0, 0, 0], [0, 0, 0, 0, 0, 0, 0, 0, 0, 0, 0, 0, 0, 0, 0, 0, 0, 0, 0, 0, 0, 0, 0, 0], [0, 0, 0, 0, 0, 0, 0, 0, 0, 0, 0, 0, 0, 0, 0, 0, 0, 0, 0, 0, 0, 0, 0, 0], [0, 0, 0, 0, 0, 0, 0, 0, 0, 0, 0, 0, 0, 0, 0, 0, 0, 0, 0, 0, 0, 0, 0, 0], [0, 0, 0, 0, 0, 0, 0, 0, 0, 0, 0, 0, 0, 0, 0, 0, 0, 0, 0, 0, 0, 0, 0, 0], [0, 0, 0, 0, 0, 0, 0, 0, 0, 0, 0, 0, 0, 0, 0, 0, 0, 0, 0, 0, 0, 0, 0, 0], [0, 0, 0, 0, 0, 0, 0, 0, 0, 0, 0, 0, 0, 0, 0, 0, 0, 0, 0, 0, 0, 0, 0, 0], [0, 0, 0, 0, 0, 0, 0, 0, 0, 0, 0, 0, 0, 0, 0, 0, 0, 0, 0, 0, 0, 0, 0, 0], [0, 0, 0, 0, 0, 0, 0, 0, 0, 0, 0, 0, 0, 0, 0, 0, 0, 0, 0, 0, 0, 0, 0, 0], [0, 0, 0, 0, 0, 0, 0, 0, 0, 0, 0, 0, 0, 0, 0, 0, 0, 0, 0, 0, 0, 0, 0, 0], [0, 0, 0, 0, 0, 0, 0, 0, 0, 0, 0, 0, 0, 0, 0, 0, 0, 0, 0, 0, 0, 0, 0, 0], [0, 0, 0, 0, 0, 0, 0, 0, 0, 0, 0, 0, 0, 0, 0, 0, 0, 0, 0, 0, 0, 0, 0, 0], [0, 0, 0, 0, 0, 0, 0, 0, 0, 0, 0, 0, 0.43710889990505025, 0, 0, 0, 0, 0, 0, 0, 0, 0, 0, 0], [0, 0, 0, 0, 0, 0, 0, 0, 0, 0, 0, 0, 0, 0, 0, 0, 0, 0, 0, 0, 0, 0, 0, 0], [0, 0, 0, 0, 0, 0, 0, 0, 0, 0, 0, 0, 0, 0, 0, 0, 0, 0, 0, 0, 0, 0, 0, 0], [0, 0, 0, 0, 0, 0, 0, 0, 0, 0, 0, 0, 0, 0, 0, 0, 0, 0, 0, 0, 0, 0, 0, 0], [0, 0, 0, 0, 0, 0, 0, 0, 0, 0, 0, 0, 0, 0, 0, 0, 0, 0, 0, 0, 0, 0, 0, 0], [0, 0, 0, 0, 0, 0, 0, 0, 0, 0, 0, 0, 0, 0, 0, 0, 0, 0, 0, 0, 0, 0, 0, 0], [0, 0, 0, 0, 0, 0, 0, 0, 0, 0, 0, 0, 0, 0, 0, 0, 0, 0, 0, 0, 0, 0, 0, 0], [0, 0, 0, 0, 0, 0, 0, 0, 0, 0, 0, 0, 0, 0, 0, 0, 0, 0, 0, 0, 0, 0, 0, 0], [0, 0, 0, 0, 0, 0, 0, 0, 0, 0, 0, 0, 0, 0, 0, 0, 0, 0, 0, 0, 0, 0, 0, 0], [0, 0, 0, 0, 0, 0, 0, 0, 0, 0, 0, 0, 0, 0, 0, 0, 0, 0, 0, 0, 0, 0, 0, 0]]\n",
      "\n",
      "\n",
      "importance matrix\n"
     ]
    },
    {
     "name": "stdout",
     "output_type": "stream",
     "text": [
      "[[0.0, 0.0, 0.0, 0.0, 0.0, 0.0, 0.0, 0.0, 0.0, 0.0, 0.0, 0.0, 0.43710889990505025, 0.0, 0.0, 0.0, 0.0, 0.0, 0.0, 0.0, 0.0, 0.0, 0.0, 0.0], [0.0, 0.0, 0.0, 0.0, 0.0, 0.0, 0.0, 0.0, 0.0, 0.0, 0.0, 0.0, 0.43710889990505025, 0.0, 0.0, 0.0, 0.0, 0.0, 0.0, 0.0, 0.0, 0.0, 0.0, 0.0], [0.0, 0.0, 0.0, 0.0, 0.0, 0.0, 0.0, 0.0, 0.0, 0.0, 0.0, 0.0, 0.43710889990505025, 0.0, 0.0, 0.0, 0.0, 0.0, 0.0, 0.0, 0.0, 0.0, 0.0, 0.0], [0.0, 0.0, 0.0, 0.0, 0.0, 0.0, 0.0, 0.0, 0.0, 0.0, 0.0, 0.0, 0.43710889990505025, 0.0, 0.0, 0.0, 0.0, 0.0, 0.0, 0.0, 0.0, 0.0, 0.0, 0.0], [0.0, 0.0, 0.0, 0.0, 0.0, 0.0, 0.0, 0.0, 0.0, 0.0, 0.0, 0.0, 0.43710889990505025, 0.0, 0.0, 0.0, 0.0, 0.0, 0.0, 0.0, 0.0, 0.0, 0.0, 0.0], [0.0, 0.0, 0.0, 0.0, 0.0, 0.0, 0.0, 0.0, 0.0, 0.0, 0.0, 0.0, 0.43710889990505025, 0.0, 0.0, 0.0, 0.0, 0.0, 0.0, 0.0, 0.0, 0.0, 0.0, 0.0], [0.0, 0.0, 0.0, 0.0, 0.0, 0.0, 0.0, 0.0, 0.0, 0.0, 0.0, 0.0, 0.43710889990505025, 0.0, 0.0, 0.0, 0.0, 0.0, 0.0, 0.0, 0.0, 0.0, 0.0, 0.0], [0.0, 0.0, 0.0, 0.0, 0.0, 0.0, 0.0, 0.0, 0.0, 0.0, 0.0, 0.0, 0.43710889990505025, 0.0, 0.0, 0.0, 0.0, 0.0, 0.0, 0.0, 0.0, 0.0, 0.0, 0.0], [0.0, 0.0, 0.0, 0.0, 0.0, 0.0, 0.0, 0.0, 0.0, 0.0, 0.0, 0.0, 0.43710889990505025, 0.0, 0.0, 0.0, 0.0, 0.0, 0.0, 0.0, 0.0, 0.0, 0.0, 0.0], [0.0, 0.0, 0.0, 0.0, 0.0, 0.0, 0.0, 0.0, 0.0, 0.0, 0.0, 0.0, 0.43710889990505025, 0.0, 0.0, 0.0, 0.0, 0.0, 0.0, 0.0, 0.0, 0.0, 0.0, 0.0], [0.0, 0.0, 0.0, 0.0, 0.0, 0.0, 0.0, 0.0, 0.0, 0.0, 0.0, 0.0, 0.43710889990505025, 0.0, 0.0, 0.0, 0.0, 0.0, 0.0, 0.0, 0.0, 0.0, 0.0, 0.0], [0.0, 0.0, 0.0, 0.0, 0.0, 0.0, 0.0, 0.0, 0.0, 0.0, 0.0, 0.0, 0.43710889990505025, 0.0, 0.0, 0.0, 0.0, 0.0, 0.0, 0.0, 0.0, 0.0, 0.0, 0.0], [0.0, 0.0, 0.0, 0.0, 0.0, 0.0, 0.0, 0.0, 0.0, 0.0, 0.0, 0.0, 0.43710889990505025, 0.0, 0.0, 0.0, 0.0, 0.0, 0.0, 0.0, 0.0, 0.0, 0.0, 0.0], [0.0, 0.0, 0.0, 0.0, 0.0, 0.0, 0.0, 0.0, 0.0, 0.0, 0.0, 0.0, 0.43710889990505025, 0.0, 0.0, 0.0, 0.0, 0.0, 0.0, 0.0, 0.0, 0.0, 0.0, 0.0], [0.0, 0.0, 0.0, 0.0, 0.0, 0.0, 0.0, 0.0, 0.0, 0.0, 0.0, 0.0, 0.43710889990505025, 0.0, 0.0, 0.0, 0.0, 0.0, 0.0, 0.0, 0.0, 0.0, 0.0, 0.0], [0.0, 0.0, 0.0, 0.0, 0.0, 0.0, 0.0, 0.0, 0.0, 0.0, 0.0, 0.0, 0.43710889990505025, 0.0, 0.0, 0.0, 0.0, 0.0, 0.0, 0.0, 0.0, 0.0, 0.0, 0.0], [0.0, 0.0, 0.0, 0.0, 0.0, 0.0, 0.0, 0.0, 0.0, 0.0, 0.0, 0.0, 0.43710889990505025, 0.0, 0.0, 0.0, 0.0, 0.0, 0.0, 0.0, 0.0, 0.0, 0.0, 0.0], [0.0, 0.0, 0.0, 0.0, 0.0, 0.0, 0.0, 0.0, 0.0, 0.0, 0.0, 0.0, 0.43710889990505025, 0.0, 0.0, 0.0, 0.0, 0.0, 0.0, 0.0, 0.0, 0.0, 0.0, 0.0], [0.0, 0.0, 0.0, 0.0, 0.0, 0.0, 0.0, 0.0, 0.0, 0.0, 0.0, 0.0, 0.43710889990505025, 0.0, 0.0, 0.0, 0.0, 0.0, 0.0, 0.0, 0.0, 0.0, 0.0, 0.0], [0.0, 0.0, 0.0, 0.0, 0.0, 0.0, 0.0, 0.0, 0.0, 0.0, 0.0, 0.0, 0.43710889990505025, 0.0, 0.0, 0.0, 0.0, 0.0, 0.0, 0.0, 0.0, 0.0, 0.0, 0.0], [0.0, 0.0, 0.0, 0.0, 0.0, 0.0, 0.0, 0.0, 0.0, 0.0, 0.0, 0.0, 0.43710889990505025, 0.0, 0.0, 0.0, 0.0, 0.0, 0.0, 0.0, 0.0, 0.0, 0.0, 0.0], [0.0, 0.0, 0.0, 0.0, 0.0, 0.0, 0.0, 0.0, 0.0, 0.0, 0.0, 0.0, 0.43710889990505025, 0.0, 0.0, 0.0, 0.0, 0.0, 0.0, 0.0, 0.0, 0.0, 0.0, 0.0], [0.0, 0.0, 0.0, 0.0, 0.0, 0.0, 0.0, 0.0, 0.0, 0.0, 0.0, 0.0, 0.43710889990505025, 0.0, 0.0, 0.0, 0.0, 0.0, 0.0, 0.0, 0.0, 0.0, 0.0, 0.0], [0.0, 0.0, 0.0, 0.0, 0.0, 0.0, 0.0, 0.0, 0.0, 0.0, 0.0, 0.0, 0.43710889990505025, 0.0, 0.0, 0.0, 0.0, 0.0, 0.0, 0.0, 0.0, 0.0, 0.0, 0.0]]\n",
      "[6, 23, 19, 20, 9, 11, 1, 10, 13, 3, 17, 7, 0, 12]\n",
      "[[0, 0, 0, 0, 0, 0, 0, 0, 0, 0, 0, 0, 0, 0, 0, 0, 0, 0, 0, 0, 0, 0, 0, 0], [0, 0, 0, 0, 0, 0, 0, 0, 0, 0, 0, 0, 0, 0, 0, 0, 0, 0, 0, 0, 0, 0, 0, 0], [0, 0, 0, 0, 0, 0, 0, 0, 0, 0, 0, 0, 0, 0, 0, 0, 0, 0, 0, 0, 0, 0, 0, 0], [0, 0, 0, 0, 0, 0, 0, 0, 0, 0, 0, 0, 0, 0, 0, 0, 0, 0, 0, 0, 0, 0, 0, 0], [0, 0, 0, 0, 0, 0, 0, 0, 0, 0, 0, 0, 0, 0, 0, 0, 0, 0, 0, 0, 0, 0, 0, 0], [0, 0, 0, 0, 0, 0, 0, 0, 0, 0, 0, 0, 0, 0, 0, 0, 0, 0, 0, 0, 0, 0, 0, 0], [0, 0, 0, 0, 0, 0, 0, 0, 0, 0, 0, 0, 0, 0, 0, 0, 0, 0, 0, 0, 0, 0, 0, 0], [0, 0, 0, 0, 0, 0, 0, 0, 0, 0, 0, 0, 0, 0, 0, 0, 0, 0, 0, 0, 0, 0, 0, 0], [0, 0, 0, 0, 0, 0, 0, 0, 0, 0, 0, 0, 0, 0, 0, 0, 0, 0, 0, 0, 0, 0, 0, 0], [0, 0, 0, 0, 0, 0, 0, 0, 0, 0, 0, 0, 0, 0, 0, 0, 0, 0, 0, 0, 0, 0, 0, 0], [0, 0, 0, 0, 0, 0, 0, 0, 0, 0, 0, 0, 0, 0, 0, 0, 0, 0, 0, 0, 0, 0, 0, 0], [0, 0, 0, 0, 0, 0, 0, 0, 0, 0, 0, 0, 0, 0, 0, 0, 0, 0, 0, 0, 0, 0, 0, 0], [0, 0, 0, 0, 0, 0, 0, 0, 0, 0, 0, 0, 0, 0, 0, 0, 0, 0, 0, 0, 0, 0, 0, 0], [0, 0, 0, 0, 0, 0, 0, 0, 0, 0, 0, 0, 0, 0, 0, 0, 0, 0, 0, 0, 0, 0, 0, 0], [0, 0, 0, 0, 0, 0, 0, 0, 0, 0, 0, 0, 0, 0, 0, 0, 0, 0, 0, 0, 0, 0, 0, 0], [0, 0, 0, 0, 0, 0, 0, 0, 0, 0, 0, 0, 0, 0, 0, 0, 0, 0, 0, 0, 0, 0, 0, 0], [0, 0, 0, 0, 0, 0, 0, 0, 0, 0, 0, 0, 0, 0, 0, 0, 0, 0, 0, 0, 0, 0, 0, 0], [0, 0, 0, 0, 0, 0, 0, 0, 0, 0, 0, 0, 0, 0, 0, 0, 0, 0, 0, 0, 0, 0, 0, 0], [0, 0, 0, 0, 0, 0, 0, 0, 0, 0, 0, 0, 0, 0, 0, 0, 0, 0, 0, 0, 0, 0, 0, 0], [0, 0, 0, 0, 0, 0, 0, 0, 0, 0, 0, 0, 0, 0, 0, 0, 0, 0, 0, 0, 0, 0, 0, 0], [0, 0, 0, 0, 0, 0, 0, 0, 0, 0, 0, 0, 0, 0, 0, 0, 0, 0, 0, 0, 0, 0, 0, 0], [0, 0, 0, 0, 0, 0, 0, 0, 0, 0, 0, 0, 0, 0, 0, 0, 0, 0, 0, 0, 0, 0, 0, 0], [0, 0, 0, 0, 0, 0, 0, 0, 0, 0, 0, 0, 0, 0, 0, 0, 0, 0, 0, 0, 0, 0, 0, 0], [0, 0, 0, 0, 0, 0, 0, 0, 0, 0, 0, 0, 0, 0, 0, 0, 0, 0, 0, 0, 0, 0, 0, 0]]\n",
      "selected features\n",
      "6\n",
      "23\n",
      "19\n",
      "20\n",
      "9\n",
      "11\n",
      "1\n",
      "10\n",
      "13\n",
      "3\n",
      "17\n",
      "7\n",
      "0\n",
      "12\n"
     ]
    }
   ],
   "source": [
    "w,h=30,24\n",
    "Matrix=[]\n",
    "for i in range(h):\n",
    "    Lii=[]\n",
    "    for j in range(w):\n",
    "        Lii.append(X[j][i])\n",
    "    Matrix.append(Lii)\n",
    "Matrix1 = [[0 for x in range(h)] for y in range(h)]\n",
    "Matrix2 = [[0 for x in range(h)] for y in range(h)]\n",
    "def mean(list3):\n",
    "    s=0.0\n",
    "    for i in list3:\n",
    "        s=s+float(i)\n",
    "    s=s/len(list3)\n",
    "    return s\n",
    "def pc(x,y):\n",
    "    n =len(x)  \n",
    "    mx =mean(x)\n",
    "    my =mean(y)\n",
    "    x1,y1=0.0,0.0\n",
    "    for i in range (n):\n",
    "        x1=x1+float(x[i])*float(y[i])\n",
    "    for i in range (n):\n",
    "        y1=y1+float(x[i])*float(x[i])\n",
    "    s1= x1 - n*my*mx \n",
    "    s2= y1 - n*mx*mx \n",
    "  \n",
    "    b = s1 / s2 \n",
    "    return(b)\n",
    "\n",
    "for i in range(h):\n",
    "   for j in range(h):\n",
    "        Matrix1[i][j]=pc(Matrix[i],Matrix[j])\n",
    "\n",
    "\n",
    "print(\" weithted  graph with pc as graph weight\")\n",
    "print(Matrix1)\n",
    "print(\"\\n\")\n",
    "for i in range (h):\n",
    "    for j in range (h):\n",
    "        z=float(Matrix1[i][j])\n",
    "        if(abs(z)<0.4 or abs(z)>1):\n",
    "            Matrix1[i][j]=0\n",
    "\n",
    "print(\"removing edges with pc<thresold\")\n",
    "for i in range (h):\n",
    "        Matrix1[i][i]=0\n",
    "print(Matrix1)\n",
    "z=h\n",
    "list2=[]\n",
    "while(z!=0):\n",
    "  for i in range (h):\n",
    "    for j in range (h):\n",
    "        s=0.0\n",
    "        for k in range (h):\n",
    "            s=s+float(abs(Matrix1[k][j]))\n",
    "        Matrix2[i][j]=s\n",
    "  \n",
    "  print(\"\\n\")\n",
    "  print(\"importance matrix\")\n",
    "  print(Matrix2)\n",
    "  list1=[]\n",
    "  for i in range (h):\n",
    "     list1.append(float(Matrix2[i][i]))\n",
    "\n",
    "  x=list1.index(max(list1))\n",
    "  list1.clear()\n",
    "  list2.append(x)\n",
    "  print(list2)\n",
    "  for j in range (h):\n",
    "    Matrix1[j][x]=0\n",
    "    Matrix1[x][j]=0\n",
    "  print(Matrix1)\n",
    "  l=0\n",
    "  for i in range (h):\n",
    "    for j in range (h):\n",
    "        if(Matrix1[i][j]!=0):\n",
    "          l=1\n",
    "  if(l==0):\n",
    "    break;\n",
    "  z=z-1\n",
    "\n",
    "print(\"selected features\")\n",
    "for i in list2:\n",
    "    print(i)\n"
   ]
  },
  {
   "cell_type": "code",
   "execution_count": 26,
   "metadata": {},
   "outputs": [],
   "source": [
    "X1=[]\n",
    "for i in X:\n",
    "  LI=[]\n",
    "  for j in list2:\n",
    "     LI.append(i[j])\n",
    "  X1.append(LI)"
   ]
  },
  {
   "cell_type": "code",
   "execution_count": 27,
   "metadata": {},
   "outputs": [],
   "source": [
    "for k in X1:\n",
    "   for l in range(len(k)):\n",
    "     k[l]=k[l]/sum(k)"
   ]
  },
  {
   "cell_type": "code",
   "execution_count": 28,
   "metadata": {},
   "outputs": [
    {
     "data": {
      "image/png": "[encoded data removed]",
      "text/plain": [
       "<Figure size 432x288 with 1 Axes>"
      ]
     },
     "metadata": {
      "needs_background": "light"
     },
     "output_type": "display_data"
    }
   ],
   "source": [
    "import pylab as pl\n",
    "for i in range(15):\n",
    "    pca_2d=[max(X1[i]),min(X1[i])]\n",
    "    pl.scatter(pca_2d[0],pca_2d[1],c='r', marker='o')\n",
    "for i in range(15,30,1):\n",
    "    pca_2d1=[max(X1[i]),min(X1[i])]\n",
    "    pl.scatter(pca_2d1[0],pca_2d1[1],c='g', marker='*')\n",
    "pl.title('Influenza Virus protien & bound to rudandamine')\n",
    "plt.plot(pca_2d[0],pca_2d[1],c='r',label='IVP')\n",
    "plt.plot(pca_2d1[0],pca_2d1[1],c='g',label='IVP-R')\n",
    "pl.legend()\n",
    "pl.show()"
   ]
  },
  {
   "cell_type": "code",
   "execution_count": 30,
   "metadata": {},
   "outputs": [],
   "source": [
    "Y=[]\n",
    "for i in range(15):\n",
    "    Y.append(0)\n",
    "for i in range(15,30,1):\n",
    "    Y.append(1)"
   ]
  },
  {
   "cell_type": "code",
   "execution_count": 31,
   "metadata": {},
   "outputs": [
    {
     "name": "stdout",
     "output_type": "stream",
     "text": [
      "Accuracy: 1.0\n",
      "Accuracy: 1.0\n",
      "Accuracy: 1.0\n",
      "Accuracy: 1.0\n",
      "Accuracy: 1.0\n",
      "Accuracy: 1.0\n"
     ]
    }
   ],
   "source": [
    "from sklearn import metrics\n",
    "from sklearn.tree import DecisionTreeClassifier\n",
    "from sklearn.model_selection import KFold\n",
    "z=0\n",
    "for i in range(5):\n",
    "    X_train, X_test, y_train, y_test = train_test_split(X1, Y, test_size=0.2, random_state=0)\n",
    "    clf = DecisionTreeClassifier()\n",
    "    clf = clf.fit(X_train,y_train)\n",
    "    y_pred = clf.predict(X_test)\n",
    "    print(\"Accuracy:\",metrics.accuracy_score(y_test, y_pred))\n",
    "    z+=metrics.accuracy_score(y_test, y_pred)\n",
    "print(\"Accuracy:\",z/5)"
   ]
  },
  {
   "cell_type": "code",
   "execution_count": 32,
   "metadata": {},
   "outputs": [
    {
     "name": "stderr",
     "output_type": "stream",
     "text": [
      "C:\\ProgramData\\Anaconda3\\lib\\site-packages\\sklearn\\svm\\base.py:193: FutureWarning: The default value of gamma will change from 'auto' to 'scale' in version 0.22 to account better for unscaled features. Set gamma explicitly to 'auto' or 'scale' to avoid this warning.\n",
      "  \"avoid this warning.\", FutureWarning)\n"
     ]
    },
    {
     "name": "stdout",
     "output_type": "stream",
     "text": [
      "Accuracy: 1.0\n"
     ]
    },
    {
     "name": "stderr",
     "output_type": "stream",
     "text": [
      "C:\\ProgramData\\Anaconda3\\lib\\site-packages\\sklearn\\svm\\base.py:193: FutureWarning: The default value of gamma will change from 'auto' to 'scale' in version 0.22 to account better for unscaled features. Set gamma explicitly to 'auto' or 'scale' to avoid this warning.\n",
      "  \"avoid this warning.\", FutureWarning)\n"
     ]
    },
    {
     "name": "stdout",
     "output_type": "stream",
     "text": [
      "Accuracy: 1.0\n"
     ]
    },
    {
     "name": "stderr",
     "output_type": "stream",
     "text": [
      "C:\\ProgramData\\Anaconda3\\lib\\site-packages\\sklearn\\svm\\base.py:193: FutureWarning: The default value of gamma will change from 'auto' to 'scale' in version 0.22 to account better for unscaled features. Set gamma explicitly to 'auto' or 'scale' to avoid this warning.\n",
      "  \"avoid this warning.\", FutureWarning)\n"
     ]
    },
    {
     "name": "stdout",
     "output_type": "stream",
     "text": [
      "Accuracy: 1.0\n"
     ]
    },
    {
     "name": "stderr",
     "output_type": "stream",
     "text": [
      "C:\\ProgramData\\Anaconda3\\lib\\site-packages\\sklearn\\svm\\base.py:193: FutureWarning: The default value of gamma will change from 'auto' to 'scale' in version 0.22 to account better for unscaled features. Set gamma explicitly to 'auto' or 'scale' to avoid this warning.\n",
      "  \"avoid this warning.\", FutureWarning)\n"
     ]
    },
    {
     "name": "stdout",
     "output_type": "stream",
     "text": [
      "Accuracy: 1.0\n"
     ]
    },
    {
     "name": "stderr",
     "output_type": "stream",
     "text": [
      "C:\\ProgramData\\Anaconda3\\lib\\site-packages\\sklearn\\svm\\base.py:193: FutureWarning: The default value of gamma will change from 'auto' to 'scale' in version 0.22 to account better for unscaled features. Set gamma explicitly to 'auto' or 'scale' to avoid this warning.\n",
      "  \"avoid this warning.\", FutureWarning)\n"
     ]
    },
    {
     "name": "stdout",
     "output_type": "stream",
     "text": [
      "Accuracy: 1.0\n",
      "Accuracy: 1.0\n"
     ]
    }
   ],
   "source": [
    "from sklearn import metrics\n",
    "from sklearn import svm\n",
    "from sklearn.model_selection import KFold\n",
    "z=0\n",
    "for i in range(5):\n",
    "    X_train, X_test, y_train, y_test = train_test_split(X, Y, test_size=0.2, random_state=0)\n",
    "    clf = svm.SVC()\n",
    "    clf = clf.fit(X_train,y_train)\n",
    "    y_pred = clf.predict(X_test)\n",
    "    print(\"Accuracy:\",metrics.accuracy_score(y_test, y_pred))\n",
    "    z+=metrics.accuracy_score(y_test, y_pred)\n",
    "print(\"Accuracy:\",z/5)"
   ]
  },
  {
   "cell_type": "code",
   "execution_count": null,
   "metadata": {},
   "outputs": [],
   "source": []
  }
 ],
 "metadata": {
  "kernelspec": {
   "display_name": "Python 3",
   "language": "python",
   "name": "python3"
  },
  "language_info": {
   "codemirror_mode": {
    "name": "ipython",
    "version": 3
   },
   "file_extension": ".py",
   "mimetype": "text/x-python",
   "name": "python",
   "nbconvert_exporter": "python",
   "pygments_lexer": "ipython3",
   "version": "3.7.4"
  }
 },
 "nbformat": 4,
 "nbformat_minor": 2
}
