{
 "cells": [
  {
   "cell_type": "code",
   "execution_count": 2,
   "metadata": {},
   "outputs": [
    {
     "name": "stderr",
     "output_type": "stream",
     "text": [
      "Using TensorFlow backend.\n"
     ]
    }
   ],
   "source": [
    "%load_ext autoreload\n",
    "%autoreload 2\n",
    "from ripser import ripser\n",
    "from persim import plot_diagrams\n",
    "import matplotlib.pyplot as plt\n",
    "import numpy as np\n",
    "from sklearn import datasets\n",
    "from sklearn.model_selection import train_test_split\n",
    "from sklearn.preprocessing import LabelEncoder\n",
    "\n",
    "import cv2                  \n",
    "import numpy as np  \n",
    "from tqdm import tqdm\n",
    "import os                   \n",
    "from random import shuffle  \n",
    "from zipfile import ZipFile\n",
    "from PIL import Image\n",
    "from sklearn.model_selection import train_test_split\n",
    "from sklearn.model_selection import KFold\n",
    "from sklearn.metrics import accuracy_score,precision_score,recall_score,confusion_matrix,roc_curve,roc_auc_score\n",
    "from sklearn.model_selection import GridSearchCV\n",
    "from sklearn.preprocessing import LabelEncoder\n",
    "#preprocess.\n",
    "from keras.preprocessing.image import ImageDataGenerator\n",
    "\n",
    "#dl libraraies\n",
    "from keras import backend as K\n",
    "from keras.models import Sequential\n",
    "from keras.layers import Dense\n",
    "from keras.optimizers import Adam,SGD,Adagrad,Adadelta,RMSprop\n",
    "from keras.utils import to_categorical\n",
    "\n",
    "# specifically for cnn\n",
    "from keras.layers import Dropout, Flatten,Activation\n",
    "from keras.layers import Conv2D, MaxPooling2D, BatchNormalization\n",
    "from keras.layers import Dropout \n",
    "import tensorflow as tf\n",
    "import random as rn"
   ]
  },
  {
   "cell_type": "code",
   "execution_count": 8,
   "metadata": {},
   "outputs": [],
   "source": [
    "from skimage import data\n",
    "from skimage.color import rgb2gray\n",
    "IMG_SIZE=50\n",
    "def make_train_data(DIR):\n",
    "    for img in os.listdir(DIR):\n",
    "        path = os.path.join(DIR,img)\n",
    "        img = cv2.imread(path,cv2.IMREAD_COLOR)\n",
    "        img = cv2.resize(img, (IMG_SIZE,IMG_SIZE))\n",
    "        img = rgb2gray(img)\n",
    "        ret, b_img = cv2.threshold(img,.4,1,cv2.THRESH_BINARY)\n",
    "        cv2.waitKey(0)\n",
    "        cv2.destroyAllWindows()\n",
    "        t=np.array(b_img)\n",
    "        t1=[]\n",
    "        for i in range(50):\n",
    "            for j in range(50):\n",
    "                if(t[i][j]==1):\n",
    "                    t1.append([i,j])\n",
    "        X.append(t1)"
   ]
  },
  {
   "cell_type": "code",
   "execution_count": 9,
   "metadata": {},
   "outputs": [],
   "source": [
    "X=[]\n",
    "DIR='/Users/user/Desktop/Covid-19-Pnumonia-dataset'"
   ]
  },
  {
   "cell_type": "code",
   "execution_count": 10,
   "metadata": {},
   "outputs": [
    {
     "name": "stdout",
     "output_type": "stream",
     "text": [
      "79\n"
     ]
    }
   ],
   "source": [
    "make_train_data(DIR)\n",
    "print(len(X))"
   ]
  },
  {
   "cell_type": "code",
   "execution_count": 11,
   "metadata": {},
   "outputs": [],
   "source": [
    "from skimage import color\n",
    "from skimage import io\n",
    "import numpy as np\n",
    "from ripser import ripser\n",
    "from persim import plot_diagrams\n",
    "import gudhi"
   ]
  },
  {
   "cell_type": "code",
   "execution_count": 12,
   "metadata": {},
   "outputs": [],
   "source": [
    "l5=[]\n",
    "l6=[]\n",
    "def barcodes1(diag):\n",
    "        for j in range(len(diag)):\n",
    "            birth=diag[j][1][0]\n",
    "            deth=diag[j][1][1]\n",
    "            if((deth-birth)>.1):\n",
    "              if(diag[j][0]==0):\n",
    "                l5.append([birth,deth])\n",
    "              if(diag[j][0]==1):\n",
    "                l6.append([birth,deth])"
   ]
  },
  {
   "cell_type": "code",
   "execution_count": 13,
   "metadata": {},
   "outputs": [],
   "source": [
    "l3=[]\n",
    "l4=[]\n",
    "def barcodes(diag):\n",
    "        for j in range(len(diag)):\n",
    "            birth=diag[j][1][0]\n",
    "            deth=diag[j][1][1]\n",
    "            if((deth-birth)>.1):\n",
    "              if(diag[j][0]==0):\n",
    "                l3.append([birth,deth])\n",
    "              if(diag[j][0]==1):\n",
    "                l4.append([birth,deth])"
   ]
  },
  {
   "cell_type": "code",
   "execution_count": 14,
   "metadata": {},
   "outputs": [],
   "source": [
    "def betti_nums1(data, eps):\n",
    "    diagrams = ripser(data, maxdim = 1,distance_matrix=False, metric = 'euclidean',thresh =5)['dgms']\n",
    "    b=[]\n",
    "    c=0\n",
    "    for j in range(len(diagrams[0])):\n",
    "        if(diagrams[0][j][1]-diagrams[0][j][0]>.1):\n",
    "            c+=1\n",
    "    b0=c\n",
    "    c=0\n",
    "    for j in range(len(diagrams[1])):\n",
    "        if(diagrams[1][j][1]-diagrams[1][j][0]>.01):\n",
    "            c+=1\n",
    "    b1=c   \n",
    "    b.append(b0)\n",
    "    b.append(b1)\n",
    "    #plot_diagrams(diagrams)  \n",
    "    #barcodes(diagrams)\n",
    "    return b"
   ]
  },
  {
   "cell_type": "code",
   "execution_count": 15,
   "metadata": {},
   "outputs": [],
   "source": [
    "import numpy as np\n",
    "import math\n",
    "import random\n",
    "import gudhi\n",
    "from sklearn.neighbors import KDTree\n",
    "from sklearn.metrics.pairwise import euclidean_distances\n",
    "import matplotlib.pyplot as plt\n",
    "from mpl_toolkits.mplot3d import Axes3D"
   ]
  },
  {
   "cell_type": "code",
   "execution_count": null,
   "metadata": {},
   "outputs": [],
   "source": [
    "import numpy as np\n",
    "import matplotlib.pyplot as plt\n",
    "import pylab as pl\n",
    "Y=0\n",
    "for i in range(len(l1[0])):\n",
    "       x=[l1[0][i],l1[1][i]]\n",
    "       y=[Y,Y]\n",
    "       Y=Y+5\n",
    "       if(i==len(l1[0])-1):\n",
    "         plt.plot(x, y,c='b',label='H0')\n",
    "       else:\n",
    "         plt.plot(x, y,c='b')\n",
    "for i in range(len(l2[0])):\n",
    "       x=[l2[0][i],l2[1][i]]\n",
    "       y=[Y,Y]\n",
    "       Y=Y+5\n",
    "       if(i==len(l2[0])-1):\n",
    "         plt.plot(x, y,c='r',label='H1')\n",
    "       else:\n",
    "         plt.plot(x, y,c='r')\n",
    "plt.title(\"Homology Barcodes\")\n",
    "plt.xlabel('time')\n",
    "pl.legend()\n",
    "pl.show()"
   ]
  },
  {
   "cell_type": "code",
   "execution_count": 16,
   "metadata": {},
   "outputs": [],
   "source": [
    "X1=[]\n",
    "for i in range(len(X)):\n",
    "         X[i]=np.array(X[i])\n",
    "         X1.append(betti_nums1(X[i], 1.42 ))"
   ]
  },
  {
   "cell_type": "code",
   "execution_count": 17,
   "metadata": {},
   "outputs": [],
   "source": [
    "def DTM(X,query_pts,m):\n",
    "    N_tot = X.shape[0]     \n",
    "    k = math.floor(m*N_tot)+1   # number of neighbors\n",
    "    kdt = KDTree(X, leaf_size=30, metric='euclidean')\n",
    "    NN_Dist, NN = kdt.query(query_pts, k, return_distance=True)  \n",
    "    DTM_result = np.sqrt(np.sum(NN_Dist*NN_Dist,axis=1) / k)\n",
    "    return(DTM_result)\n",
    "def Filtration_value(p, fx, fy, d, n = 10):\n",
    "    if p==np.inf:\n",
    "        value = max([fx,fy,d/2])\n",
    "    else:\n",
    "        fmax = max([fx,fy])\n",
    "        if d < (abs(fx**p-fy**p))**(1/p):\n",
    "            value = fmax\n",
    "        elif p==1:\n",
    "            value = (fx+fy+d)/2\n",
    "        elif p==2:\n",
    "            value = np.sqrt( ( (fx+fy)**2 +d**2 )*( (fx-fy)**2 +d**2 ) )/(2*d)            \n",
    "        else:\n",
    "            Imin = fmax; Imax = (d**p+fmax**p)**(1/p)\n",
    "            for i in range(n):\n",
    "                I = (Imin+Imax)/2\n",
    "                g = (I**p-fx**p)**(1/p)+(I**p-fy**p)**(1/p)\n",
    "                if g<d:\n",
    "                    Imin=I\n",
    "                else:\n",
    "                    Imax=I\n",
    "            value = I\n",
    "    return value\n",
    "def WeightedRipsFiltration(X, F, p, dimension_max , filtration_max):\n",
    "    N_tot = X.shape[0]     \n",
    "    distances = euclidean_distances(X)         \n",
    "    st = gudhi.SimplexTree()                    \n",
    "\n",
    "    for i in range(N_tot):                  \n",
    "        value = F[i]\n",
    "        if value<filtration_max:\n",
    "            st.insert([i], filtration = F[i])            \n",
    "    for i in range(N_tot):                  \n",
    "        for j in range(i):\n",
    "            value = Filtration_value(p, F[i], F[j], distances[i][j])\n",
    "            if value<filtration_max:\n",
    "                st.insert([i,j], filtration  = value)\n",
    "    \n",
    "    st.expansion(dimension_max)                \n",
    " \n",
    "    result_str = 'Weighted Rips Complex is of dimension ' + repr(st.dimension()) + ' - ' + \\\n",
    "        repr(st.num_simplices()) + ' simplices - ' + \\\n",
    "        repr(st.num_vertices()) + ' vertices.' +\\\n",
    "        ' Filtration maximal value is ' + str(filtration_max) + '.'\n",
    "    print(result_str)\n",
    "\n",
    "    return st\n",
    "def DTMFiltration(X, m, p, dimension_max, filtration_max = 8):\n",
    "    \n",
    "    DTM_values = DTM(X,X,m)\n",
    "    st = WeightedRipsFiltration(X, DTM_values, p, dimension_max, filtration_max)\n",
    "    return st\n",
    "def AlphaWeightedRipsFiltration(X, F, p,dimension_max, filtration_max):\n",
    "    N_tot = X.shape[0]     \n",
    "    distances = euclidean_distances(X)          #compute the pairwise distances\n",
    "\n",
    "    st_alpha = gudhi.AlphaComplex(points=X).create_simplex_tree()    \n",
    "    st = gudhi.SimplexTree()                   #create an empty simplex tree\n",
    "    \n",
    "    for simplex in st_alpha.get_skeleton(2):            #add vertices with corresponding filtration value\n",
    "        if len(simplex[0])==1:\n",
    "            i = simplex[0][0]\n",
    "            st.insert([i], filtration  = F[i])\n",
    "        if len(simplex[0])==2:                     #add edges with corresponding filtration value\n",
    "            i = simplex[0][0]\n",
    "            j = simplex[0][1]\n",
    "            value = Filtration_value(p, F[i], F[j], distances[i][j])\n",
    "            st.insert([i,j], filtration  = value)\n",
    "\n",
    "    st.expansion(dimension_max)                 #expand the complex\n",
    "\n",
    "    result_str = 'Alpha Weighted Rips Complex is of dimension ' + repr(st.dimension()) + ' - ' + \\\n",
    "        repr(st.num_simplices()) + ' simplices - ' + \\\n",
    "        repr(st.num_vertices()) + ' vertices.' +\\\n",
    "        ' Filtration maximal value is ' + str(filtration_max) + '.'\n",
    "    print(result_str)\n",
    "\n",
    "    return st\n",
    "def AlphaDTMFiltration(X, m, p, dimension_max, filtration_max = 8):\n",
    "    DTM_values = DTM(X,X,m)\n",
    "    st = AlphaWeightedRipsFiltration(X, DTM_values, p, dimension_max, filtration_max)\n",
    "    return st"
   ]
  },
  {
   "cell_type": "code",
   "execution_count": 18,
   "metadata": {},
   "outputs": [],
   "source": [
    "def fil(l,X,index):\n",
    " p ,m= 1,.1\n",
    " dimension_max = 2     \n",
    " st_DTM = DTMFiltration(l, m, p, dimension_max) \n",
    " diagram_DTM = st_DTM.persistence()  \n",
    " st_alpha = gudhi.AlphaComplex(points=l).create_simplex_tree()  \n",
    " diagram_alpha = st_alpha.persistence()  \n",
    " b2,b3=0,0;\n",
    " for i in range(len(diagram_DTM)):\n",
    "        if(diagram_DTM[i][0]==1):\n",
    "            if(diagram_DTM[i][1][1]-diagram_DTM[i][1][0]>.1):\n",
    "                b2+=1\n",
    "        if(diagram_DTM[i][0]==0):\n",
    "            if(diagram_DTM[i][1][1]-diagram_DTM[i][1][0]>.1):\n",
    "                b3+=1\n",
    " X1[index].append(b2)\n",
    " X1[index].append(b3)\n",
    " barcodes(diagram_DTM)\n",
    " \n",
    " b2,b3=0,0;\n",
    " for i in range(len(diagram_alpha)):\n",
    "        if(diagram_alpha[i][0]==1):\n",
    "            if(diagram_alpha[i][1][1]-diagram_alpha[i][1][0]>.1):\n",
    "                b2+=1\n",
    "        if(diagram_alpha[i][0]==0):\n",
    "            if(diagram_alpha[i][1][1]-diagram_alpha[i][1][0]>.1):\n",
    "                b3+=1\n",
    " X1[index].append(b2)\n",
    " X1[index].append(b3)\n",
    " barcodes1(diagram_alpha)"
   ]
  },
  {
   "cell_type": "code",
   "execution_count": null,
   "metadata": {},
   "outputs": [],
   "source": [
    "fil(X[71], 1.42,1)"
   ]
  },
  {
   "cell_type": "code",
   "execution_count": null,
   "metadata": {},
   "outputs": [],
   "source": [
    "l5=l5[:100]\n",
    "l6=l6[:100]"
   ]
  },
  {
   "cell_type": "code",
   "execution_count": null,
   "metadata": {},
   "outputs": [],
   "source": [
    "import numpy as np\n",
    "import matplotlib.pyplot as plt\n",
    "import pylab as pl\n",
    "Y=0\n",
    "for i in range(len(l5)):\n",
    "       x=[l5[i][0],l5[i][1]]\n",
    "       y=[Y,Y]\n",
    "       Y=Y+5\n",
    "       if(i==len(l5)-1):\n",
    "         plt.plot(x, y,c='b',label='H0')\n",
    "       else:\n",
    "         plt.plot(x, y,c='b')\n",
    "for i in range(len(l6)):\n",
    "       x=[l6[i][0],l6[i][1]]\n",
    "       y=[Y,Y]\n",
    "       Y=Y+5\n",
    "       if(i==len(l6)-1):\n",
    "         plt.plot(x, y,c='r',label='H1')\n",
    "       else:\n",
    "         plt.plot(x, y,c='r')\n",
    "plt.title(\"Homology Barcodes\\nAlpha filteration\")\n",
    "plt.xlabel('time')\n",
    "pl.legend()\n",
    "pl.show()"
   ]
  },
  {
   "cell_type": "code",
   "execution_count": 19,
   "metadata": {
    "scrolled": true
   },
   "outputs": [
    {
     "name": "stdout",
     "output_type": "stream",
     "text": [
      "Weighted Rips Complex is of dimension 2 - 294003 simplices - 1839 vertices. Filtration maximal value is 8.\n",
      "Weighted Rips Complex is of dimension 2 - 330919 simplices - 1732 vertices. Filtration maximal value is 8.\n",
      "Weighted Rips Complex is of dimension 2 - 248804 simplices - 1903 vertices. Filtration maximal value is 8.\n",
      "Weighted Rips Complex is of dimension 2 - 282129 simplices - 1910 vertices. Filtration maximal value is 8.\n",
      "Weighted Rips Complex is of dimension 2 - 797081 simplices - 1338 vertices. Filtration maximal value is 8.\n",
      "Weighted Rips Complex is of dimension 2 - 943147 simplices - 1371 vertices. Filtration maximal value is 8.\n",
      "Weighted Rips Complex is of dimension 2 - 279305 simplices - 1821 vertices. Filtration maximal value is 8.\n",
      "Weighted Rips Complex is of dimension 2 - 352398 simplices - 1846 vertices. Filtration maximal value is 8.\n",
      "Weighted Rips Complex is of dimension 2 - 1147062 simplices - 1348 vertices. Filtration maximal value is 8.\n",
      "Weighted Rips Complex is of dimension 2 - 954920 simplices - 1662 vertices. Filtration maximal value is 8.\n",
      "Weighted Rips Complex is of dimension 2 - 299542 simplices - 1957 vertices. Filtration maximal value is 8.\n",
      "Weighted Rips Complex is of dimension 2 - 370602 simplices - 1865 vertices. Filtration maximal value is 8.\n",
      "Weighted Rips Complex is of dimension 2 - 302343 simplices - 1940 vertices. Filtration maximal value is 8.\n",
      "Weighted Rips Complex is of dimension 2 - 366599 simplices - 1570 vertices. Filtration maximal value is 8.\n",
      "Weighted Rips Complex is of dimension 2 - 349161 simplices - 1893 vertices. Filtration maximal value is 8.\n",
      "Weighted Rips Complex is of dimension 2 - 336007 simplices - 1923 vertices. Filtration maximal value is 8.\n",
      "Weighted Rips Complex is of dimension 2 - 217744 simplices - 2068 vertices. Filtration maximal value is 8.\n",
      "Weighted Rips Complex is of dimension 2 - 321136 simplices - 1716 vertices. Filtration maximal value is 8.\n",
      "Weighted Rips Complex is of dimension 2 - 1446055 simplices - 660 vertices. Filtration maximal value is 8.\n",
      "Weighted Rips Complex is of dimension 2 - 376717 simplices - 1558 vertices. Filtration maximal value is 8.\n",
      "Weighted Rips Complex is of dimension 2 - 477571 simplices - 1489 vertices. Filtration maximal value is 8.\n",
      "Weighted Rips Complex is of dimension 2 - 518692 simplices - 1379 vertices. Filtration maximal value is 8.\n",
      "Weighted Rips Complex is of dimension 2 - 461480 simplices - 1873 vertices. Filtration maximal value is 8.\n",
      "Weighted Rips Complex is of dimension 2 - 434171 simplices - 1643 vertices. Filtration maximal value is 8.\n",
      "Weighted Rips Complex is of dimension 2 - 264710 simplices - 1956 vertices. Filtration maximal value is 8.\n",
      "Weighted Rips Complex is of dimension 2 - 329251 simplices - 1869 vertices. Filtration maximal value is 8.\n",
      "Weighted Rips Complex is of dimension 2 - 442311 simplices - 1639 vertices. Filtration maximal value is 8.\n",
      "Weighted Rips Complex is of dimension 2 - 272067 simplices - 1947 vertices. Filtration maximal value is 8.\n",
      "Weighted Rips Complex is of dimension 2 - 427207 simplices - 1610 vertices. Filtration maximal value is 8.\n",
      "Weighted Rips Complex is of dimension 2 - 262345 simplices - 1841 vertices. Filtration maximal value is 8.\n",
      "Weighted Rips Complex is of dimension 2 - 390769 simplices - 1684 vertices. Filtration maximal value is 8.\n",
      "Weighted Rips Complex is of dimension 2 - 310249 simplices - 1847 vertices. Filtration maximal value is 8.\n",
      "Weighted Rips Complex is of dimension 2 - 424629 simplices - 1427 vertices. Filtration maximal value is 8.\n",
      "Weighted Rips Complex is of dimension 2 - 763976 simplices - 1577 vertices. Filtration maximal value is 8.\n",
      "Weighted Rips Complex is of dimension 2 - 518372 simplices - 1712 vertices. Filtration maximal value is 8.\n",
      "Weighted Rips Complex is of dimension 2 - 557072 simplices - 1529 vertices. Filtration maximal value is 8.\n",
      "Weighted Rips Complex is of dimension 2 - 498441 simplices - 1868 vertices. Filtration maximal value is 8.\n",
      "Weighted Rips Complex is of dimension 2 - 590645 simplices - 1690 vertices. Filtration maximal value is 8.\n",
      "Weighted Rips Complex is of dimension 2 - 368459 simplices - 1754 vertices. Filtration maximal value is 8.\n",
      "Weighted Rips Complex is of dimension 2 - 592510 simplices - 1512 vertices. Filtration maximal value is 8.\n",
      "Weighted Rips Complex is of dimension 2 - 1619236 simplices - 498 vertices. Filtration maximal value is 8.\n",
      "Weighted Rips Complex is of dimension 2 - 609388 simplices - 1432 vertices. Filtration maximal value is 8.\n",
      "Weighted Rips Complex is of dimension 2 - 614288 simplices - 1189 vertices. Filtration maximal value is 8.\n",
      "Weighted Rips Complex is of dimension 2 - 368258 simplices - 1938 vertices. Filtration maximal value is 8.\n",
      "Weighted Rips Complex is of dimension 2 - 196789 simplices - 1899 vertices. Filtration maximal value is 8.\n",
      "Weighted Rips Complex is of dimension 2 - 177286 simplices - 2026 vertices. Filtration maximal value is 8.\n",
      "Weighted Rips Complex is of dimension 2 - 193853 simplices - 2064 vertices. Filtration maximal value is 8.\n",
      "Weighted Rips Complex is of dimension 2 - 284942 simplices - 1910 vertices. Filtration maximal value is 8.\n",
      "Weighted Rips Complex is of dimension 2 - 421834 simplices - 1580 vertices. Filtration maximal value is 8.\n",
      "Weighted Rips Complex is of dimension 2 - 316983 simplices - 1932 vertices. Filtration maximal value is 8.\n",
      "Weighted Rips Complex is of dimension 2 - 498857 simplices - 1843 vertices. Filtration maximal value is 8.\n",
      "Weighted Rips Complex is of dimension 2 - 407030 simplices - 1861 vertices. Filtration maximal value is 8.\n",
      "Weighted Rips Complex is of dimension 2 - 559495 simplices - 1846 vertices. Filtration maximal value is 8.\n",
      "Weighted Rips Complex is of dimension 2 - 490922 simplices - 1892 vertices. Filtration maximal value is 8.\n",
      "Weighted Rips Complex is of dimension 2 - 445095 simplices - 1843 vertices. Filtration maximal value is 8.\n",
      "Weighted Rips Complex is of dimension 2 - 452492 simplices - 1901 vertices. Filtration maximal value is 8.\n",
      "Weighted Rips Complex is of dimension 2 - 193481 simplices - 1975 vertices. Filtration maximal value is 8.\n",
      "Weighted Rips Complex is of dimension 2 - 198794 simplices - 2044 vertices. Filtration maximal value is 8.\n",
      "Weighted Rips Complex is of dimension 2 - 180639 simplices - 1998 vertices. Filtration maximal value is 8.\n",
      "Weighted Rips Complex is of dimension 2 - 732674 simplices - 1551 vertices. Filtration maximal value is 8.\n",
      "Weighted Rips Complex is of dimension 2 - 935840 simplices - 1141 vertices. Filtration maximal value is 8.\n",
      "Weighted Rips Complex is of dimension 2 - 1602778 simplices - 958 vertices. Filtration maximal value is 8.\n",
      "Weighted Rips Complex is of dimension 2 - 476002 simplices - 1794 vertices. Filtration maximal value is 8.\n",
      "Weighted Rips Complex is of dimension 2 - 1147699 simplices - 1162 vertices. Filtration maximal value is 8.\n",
      "Weighted Rips Complex is of dimension 2 - 738463 simplices - 1339 vertices. Filtration maximal value is 8.\n",
      "Weighted Rips Complex is of dimension 2 - 1009171 simplices - 1172 vertices. Filtration maximal value is 8.\n",
      "Weighted Rips Complex is of dimension 2 - 513687 simplices - 1784 vertices. Filtration maximal value is 8.\n",
      "Weighted Rips Complex is of dimension 2 - 435342 simplices - 1616 vertices. Filtration maximal value is 8.\n",
      "Weighted Rips Complex is of dimension 2 - 969963 simplices - 1120 vertices. Filtration maximal value is 8.\n",
      "Weighted Rips Complex is of dimension 2 - 814584 simplices - 1339 vertices. Filtration maximal value is 8.\n",
      "Weighted Rips Complex is of dimension 2 - 648261 simplices - 1508 vertices. Filtration maximal value is 8.\n",
      "Weighted Rips Complex is of dimension 2 - 1578767 simplices - 1019 vertices. Filtration maximal value is 8.\n",
      "Weighted Rips Complex is of dimension 2 - 826030 simplices - 1602 vertices. Filtration maximal value is 8.\n",
      "Weighted Rips Complex is of dimension 2 - 746482 simplices - 1464 vertices. Filtration maximal value is 8.\n",
      "Weighted Rips Complex is of dimension 2 - 501681 simplices - 1322 vertices. Filtration maximal value is 8.\n",
      "Weighted Rips Complex is of dimension 2 - 1287128 simplices - 1128 vertices. Filtration maximal value is 8.\n"
     ]
    },
    {
     "name": "stdout",
     "output_type": "stream",
     "text": [
      "Weighted Rips Complex is of dimension 2 - 1140530 simplices - 1253 vertices. Filtration maximal value is 8.\n",
      "Weighted Rips Complex is of dimension 2 - 647097 simplices - 1426 vertices. Filtration maximal value is 8.\n",
      "Weighted Rips Complex is of dimension 2 - 1278195 simplices - 1193 vertices. Filtration maximal value is 8.\n"
     ]
    }
   ],
   "source": [
    "for i in range(len(X)):\n",
    "         fil(X[i], 1.42,i)"
   ]
  },
  {
   "cell_type": "code",
   "execution_count": null,
   "metadata": {},
   "outputs": [],
   "source": [
    "import matplotlib.pyplot as plt\n",
    "import pandas as pd\n",
    "\n",
    "from sklearn.decomposition import PCA as sklearnPCA\n",
    "from sklearn.discriminant_analysis import LinearDiscriminantAnalysis as LDA\n",
    "from sklearn.datasets.samples_generator import make_blobs"
   ]
  },
  {
   "cell_type": "code",
   "execution_count": 21,
   "metadata": {},
   "outputs": [],
   "source": [
    "X2=X1\n",
    "for k in X2:\n",
    "   for l in range(len(k)):\n",
    "     k[l]=k[l]/sum(k)"
   ]
  },
  {
   "cell_type": "code",
   "execution_count": null,
   "metadata": {},
   "outputs": [],
   "source": [
    "print(X1)"
   ]
  },
  {
   "cell_type": "code",
   "execution_count": null,
   "metadata": {},
   "outputs": [],
   "source": [
    "import pylab as pl\n",
    "for i in range(0,58,1):\n",
    "    pca_2d=[max(X2[i]),min(X2[i])]\n",
    "    pl.scatter(pca_2d[0],pca_2d[1],c='r', marker='o')\n",
    "for i in range(59,89,1):\n",
    "    pca_2d1=[max(X2[i]),min(X2[i])]\n",
    "    pl.scatter(pca_2d1[0],pca_2d1[1],c='b', marker='*')\n",
    "pl.title('Detection of Covid-19 Pnumonia')\n",
    "axes = plt.gca()\n",
    "axes.set_xlim([.9985,.9995])\n",
    "plt.plot(pca_2d[0],pca_2d[1],c='r',label='Covid-19-PNumonia')\n",
    "plt.plot(pca_2d1[0],pca_2d1[1],c='b',label='Normal-PNumonia')\n",
    "pl.legend()\n",
    "pl.show()"
   ]
  },
  {
   "cell_type": "code",
   "execution_count": null,
   "metadata": {},
   "outputs": [],
   "source": [
    "import pylab as pl\n",
    "for i in range(59,80,1):\n",
    "    pca_2d=[max(X2[i]),min(X2[i])]\n",
    "    pl.scatter(pca_2d[0],pca_2d[1],c='r', marker='o')\n",
    "pl.title('Covid-19 Pnumonia')\n",
    "plt.plot(pca_2d[0],pca_2d[1],c='r',label='IVP')\n",
    "pl.legend()\n",
    "pl.show()"
   ]
  },
  {
   "cell_type": "code",
   "execution_count": null,
   "metadata": {},
   "outputs": [],
   "source": [
    "Y=[]\n",
    "for i in range(59):\n",
    "    Y.append(1)\n",
    "for i in range(59,79,1):\n",
    "    Y.append(0)\n"
   ]
  },
  {
   "cell_type": "code",
   "execution_count": 22,
   "metadata": {},
   "outputs": [
    {
     "name": "stdout",
     "output_type": "stream",
     "text": [
      "[[0.19457306908686794, 0.21386206602293353, 0.1490330743975607, 0.31605771878126676, 0.47187429142285736, 0.9993600479637785], [0.19590294351630866, 0.20912181949295175, 0.15417319093665027, 0.3201739617998992, 0.46412615188922096, 0.9993184860634629], [0.19359033906177428, 0.2134499110885082, 0.1417607348674602, 0.32471361720939024, 0.4732339204599972, 0.9993541848502456], [0.19033259423503326, 0.21173838309609444, 0.16605520205984114, 0.31825015726613265, 0.47533089170019915, 0.999365869651222], [0.19839978302142663, 0.20909465668507576, 0.1334643024682021, 0.3302447176580908, 0.460596655584249, 0.999090506594672], [0.19362126245847175, 0.21060633192750997, 0.14069793862437052, 0.3330462863398686, 0.46906672955557577, 0.9990763251041768], [0.19542306534176454, 0.2110726985436927, 0.13439996315374947, 0.3326306323551839, 0.466901765398488, 0.9993120154437882], [0.19139018371264052, 0.21464439009503186, 0.1584536071325791, 0.31568698450972593, 0.47652601190668054, 0.9993525201811251], [0.19134615384615383, 0.20502136401402066, 0.15447409647132648, 0.34061470185690274, 0.46591975963489324, 0.9990265221103908], [0.1833764553686934, 0.2102919389319665, 0.17150325720296214, 0.3353128512272198, 0.48347438943680776, 0.9991870465620057], [0.18735523719653427, 0.21523906617055882, 0.16786822937949092, 0.31633035004644805, 0.48346447556017735, 0.999372986177633], [0.18934294112069783, 0.21204208787455442, 0.15525273621433472, 0.3276783696792469, 0.47793448897542584, 0.9993183164746837], [0.18875927889713678, 0.21143356099711236, 0.16783158378254762, 0.32201478880066003, 0.47687942179602794, 0.9993604660845284], [0.20098451194621203, 0.20976075752614923, 0.11408122108349578, 0.3369442289638978, 0.4579492886733559, 0.9992122578201451], [0.18971893491124261, 0.2116567600074081, 0.15934810269858812, 0.3258982887523922, 0.4757543258510893, 0.9993365143786256], [0.18903557022368903, 0.21037307619326048, 0.16090704829400743, 0.32806964296708535, 0.476276506585797, 0.9993386230415305], [0.18769716088328076, 0.216695080286277, 0.17190511686967286, 0.30950780294430036, 0.4839738334013856, 0.9994247936601584], [0.1970127274639739, 0.21115514798904594, 0.13316931992056003, 0.32870154437315213, 0.4653524900987376, 0.999287538806505], [0.2125789618236748, 0.19356778917346878, 0.12800519511500574, 0.32729423370442234, 0.4289310464517916, 0.9983356207375037], [0.2013274336283186, 0.21205868063558772, 0.10292137768195418, 0.3391737169755834, 0.46016683226426, 0.9991974406864488], [0.20250214644915981, 0.21715718628170735, 0.10254557284741148, 0.3259259631924618, 0.4636592258194194, 0.9992060880383145], [0.20494039925319546, 0.20952981554840067, 0.09002803611986546, 0.34626451786950746, 0.45163878699004495, 0.9990881471918255], [0.1876245696684182, 0.21188360047180121, 0.17205762863614332, 0.32008495135687937, 0.4792791981758228, 0.9993384726988315], [0.19734904270986744, 0.21454228837283995, 0.13748429357772657, 0.31782267285172583, 0.4678372921998558, 0.999288866630408], [0.1876271186440678, 0.21437093450857886, 0.1724778467987485, 0.31383499829218864, 0.482126221240258, 0.999381395952333], [0.19170549860205033, 0.21422332897612203, 0.1499543843275979, 0.32259980531401033, 0.4756835168473186, 0.9993421119863218], [0.19741064512559478, 0.21011423151992356, 0.13195081633092187, 0.3295439813055136, 0.4647858704062054, 0.9992529097132727], [0.18923024983119513, 0.2145491776811895, 0.17069994365466862, 0.3111429206985095, 0.47971581275695174, 0.9993913884281657], [0.19745151105096978, 0.21553427601960332, 0.12071469578118428, 0.3279333839467599, 0.46911057848993626, 0.9992405860312006], [0.1951492537313433, 0.2153405165112314, 0.14120266436495527, 0.3166194226797141, 0.4733423083969452, 0.9993590849525139], [0.1955121545813422, 0.21422496338014518, 0.1386923866197573, 0.321279107242584, 0.47078733545122875, 0.9992882349473398], [0.19281558777357097, 0.21438721688625614, 0.15216805544503323, 0.3172144554237774, 0.4746123174369725, 0.9993532931971914], [0.20473537604456823, 0.21285725530803865, 0.10901182796600144, 0.32391133413099266, 0.45688764601787435, 0.9991921167531652], [0.18911580687049936, 0.2039542042562378, 0.16129052698075438, 0.34383109324250594, 0.4674576714627723, 0.9991482608452997], [0.19076955205179075, 0.20967225818286825, 0.15558166507696283, 0.3309775654879712, 0.4718443565215809, 0.9992567950209873], [0.19796954314720813, 0.20968058470424314, 0.15267022353131238, 0.31412040105742817, 0.4624312855718073, 0.9992553642389719], [0.1866452890691314, 0.2114982055723891, 0.16543149037180876, 0.3291303102009447, 0.48005554291432717, 0.9993068169461452], [0.1902102496714849, 0.21148881307100245, 0.14370472885355992, 0.33843689469946225, 0.47398760837629944, 0.9992189017286481], [0.19362842397776894, 0.21168726293278795, 0.15112236498592166, 0.3225713645426368, 0.4701565918893642, 0.9993089525010084], [0.1958266452648475, 0.21126341608996774, 0.12730157227859265, 0.33723394713363253, 0.46603628100165384, 0.9991572921792835], [0.20514851485148514, 0.19131078867754248, 0.1312063967980942, 0.3530593636054228, 0.4316007438676139, 0.9974729546313795], [0.20010374789262092, 0.21043415877693644, 0.1180598628236252, 0.3333699141808959, 0.46091606889407166, 0.999143389140648], [0.20975987606506585, 0.21014623010249328, 0.09505090284077945, 0.3260647533378711, 0.4487678373962185, 0.9990483292874779], [0.1884940470780696, 0.21166537152396633, 0.15953063820323446, 0.32755521815438543, 0.47852574919308244, 0.9993419131011886], [0.19500561167227834, 0.2134260927982139, 0.13795327260114243, 0.3253636439672466, 0.4703048037683127, 0.9993567433381291], [0.19054533720555017, 0.21685854879556446, 0.1635191373973007, 0.30820387027454127, 0.4804437275122603, 0.9994247296780032], [0.18730301665916255, 0.22067947055119586, 0.1765317509641197, 0.29695344265966767, 0.48906445057162834, 0.9994512099371028], [0.1908383599965032, 0.21499124583224197, 0.16073971470753362, 0.3131883498014846, 0.4786482582434136, 0.9993781213170446], [0.20074260390465923, 0.21324100006689456, 0.10532502803148706, 0.336347739347584, 0.4621766235570625, 0.9992143212401465], [0.18843334238392614, 0.21121447531509496, 0.16371194300569014, 0.3265961130840044, 0.47717181474784304, 0.999343789354086], [0.18783241578800036, 0.20989896302512678, 0.17230354361989556, 0.3237553492875231, 0.4768962729931356, 0.9993195460230486], [0.1896331447344406, 0.210806309024402, 0.16936817612729274, 0.3196732258644275, 0.4751457997241048, 0.9993437290228075], [0.1849263316962599, 0.21030835555588434, 0.17504487398297525, 0.3283195955256348, 0.48134731507112505, 0.9992957228768639], [0.18732957644064716, 0.2108221123792622, 0.17119215413190472, 0.3234979169720869, 0.4789111244056721, 0.9993348663341558], [0.18713617711613703, 0.20896465075770193, 0.16932812837461686, 0.3292502827150795, 0.477510064373737, 0.9993007497197438], [0.18708851499634235, 0.21214401690561438, 0.16632404312266533, 0.3255379157203878, 0.48033823596857145, 0.9993301495249999], [0.1922690763052209, 0.21275731234183537, 0.16591221068111517, 0.3115352788269861, 0.47332316788918705, 0.9994103578716326], [0.18969929622520793, 0.21485977509394766, 0.17082726464870618, 0.3098577489516615, 0.47881725172674683, 0.999425262496021], [0.19093931837073982, 0.21421546263696492, 0.16356351091286025, 0.31230614128259704, 0.4777401907749952, 0.9994088109111198], [0.1920074566002563, 0.20388764989919403, 0.16191557660126019, 0.3351659911021291, 0.4641045401402026, 0.9991772059369073], [0.20561347233360064, 0.20188945867300115, 0.12849674606611516, 0.3311531210548775, 0.4434095035626168, 0.9989787645016031], [0.20243812338381972, 0.19915694373368495, 0.14862357244258234, 0.32534680303147107, 0.4479394761703387, 0.9987938790039316], [0.18954750696512634, 0.20708401466824175, 0.17221284122570488, 0.3239688842561765, 0.4727699451589965, 0.9993083432957405], [0.20175438596491227, 0.19760172218736735, 0.1527964872151673, 0.3295003021987994, 0.4452654105163419, 0.9989888812844033], [0.2019255789747593, 0.20230830596318666, 0.1497934699374022, 0.3218321385075934, 0.449700859706786, 0.999146630695507], [0.20086083213773315, 0.1956833622335979, 0.14557100066091744, 0.3401496660950435, 0.44549360169351904, 0.9989473327183103], [0.18773270625122476, 0.2090423107263313, 0.17003698849641644, 0.32778651353709937, 0.4761000769754611, 0.9992851154985365], [0.19749478079331942, 0.20993217215032256, 0.1526074783668246, 0.31393514387220384, 0.4640595938923439, 0.9992932962057165], [0.2048054919908467, 0.20574673421148496, 0.12032882989932932, 0.3294572219482412, 0.4500275665021327, 0.9989553097221916], [0.19880636604774535, 0.20178114296047525, 0.15199898612707916, 0.32741968019234147, 0.4547635655469108, 0.9991103520575577], [0.19666215606675688, 0.20746198765836682, 0.15726823310484614, 0.31690249965374023, 0.4632594220378896, 0.9992313514250449], [0.1990265008112493, 0.20098131879167058, 0.1464623701145568, 0.3362429878648945, 0.4508215086591591, 0.9987935454372873], [0.18879483181109377, 0.20430611397248039, 0.1716880947795621, 0.33371073413221747, 0.46984923094804637, 0.9991933656352139], [0.19541176470588234, 0.20499487375200534, 0.16220986759098643, 0.321365355553566, 0.46250118322324846, 0.9991900105913183], [0.20592193808882908, 0.21231991967190236, 0.13574789212625393, 0.2991929040737673, 0.45626961197723886, 0.9992225583819075], [0.19919028340080971, 0.20241853997849468, 0.14298746829896006, 0.3336740480327846, 0.4536419093100369, 0.9989183158206398], [0.19693716902819522, 0.2047691451335329, 0.14924698488207155, 0.33003639761799997, 0.4587478756776101, 0.9990273005738579], [0.20083425346583242, 0.20278773000884734, 0.14942031401434358, 0.32280314154606354, 0.4525588861129064, 0.9991891709124733], [0.19620725698073765, 0.20526838656008328, 0.1512247047602471, 0.3285096206604904, 0.4608670546993573, 0.9989796745294595]]"
     ]
    },
    {
     "name": "stdout",
     "output_type": "stream",
     "text": [
      "\n"
     ]
    }
   ],
   "source": [
    "print(X1)"
   ]
  },
  {
   "cell_type": "code",
   "execution_count": 1,
   "metadata": {},
   "outputs": [
    {
     "ename": "NameError",
     "evalue": "name 'train_test_split' is not defined",
     "output_type": "error",
     "traceback": [
      "\u001b[1;31m---------------------------------------------------------------------------\u001b[0m",
      "\u001b[1;31mNameError\u001b[0m                                 Traceback (most recent call last)",
      "\u001b[1;32m<ipython-input-1-f548ce1d26a0>\u001b[0m in \u001b[0;36m<module>\u001b[1;34m\u001b[0m\n\u001b[0;32m      1\u001b[0m \u001b[1;32mfrom\u001b[0m \u001b[0msklearn\u001b[0m\u001b[1;33m.\u001b[0m\u001b[0mtree\u001b[0m \u001b[1;32mimport\u001b[0m \u001b[0mDecisionTreeClassifier\u001b[0m\u001b[1;33m\u001b[0m\u001b[1;33m\u001b[0m\u001b[0m\n\u001b[0;32m      2\u001b[0m \u001b[1;32mfrom\u001b[0m \u001b[0msklearn\u001b[0m \u001b[1;32mimport\u001b[0m \u001b[0mmetrics\u001b[0m\u001b[1;33m\u001b[0m\u001b[1;33m\u001b[0m\u001b[0m\n\u001b[1;32m----> 3\u001b[1;33m \u001b[0mX_train\u001b[0m\u001b[1;33m,\u001b[0m \u001b[0mX_test\u001b[0m\u001b[1;33m,\u001b[0m \u001b[0my_train\u001b[0m\u001b[1;33m,\u001b[0m \u001b[0my_test\u001b[0m \u001b[1;33m=\u001b[0m \u001b[0mtrain_test_split\u001b[0m\u001b[1;33m(\u001b[0m\u001b[0mX1\u001b[0m\u001b[1;33m,\u001b[0m \u001b[0mY\u001b[0m\u001b[1;33m,\u001b[0m \u001b[0mtest_size\u001b[0m\u001b[1;33m=\u001b[0m\u001b[1;36m0.3\u001b[0m\u001b[1;33m,\u001b[0m \u001b[0mrandom_state\u001b[0m\u001b[1;33m=\u001b[0m\u001b[1;36m0\u001b[0m\u001b[1;33m)\u001b[0m\u001b[1;33m\u001b[0m\u001b[1;33m\u001b[0m\u001b[0m\n\u001b[0m\u001b[0;32m      4\u001b[0m \u001b[0mclf\u001b[0m \u001b[1;33m=\u001b[0m \u001b[0mDecisionTreeClassifier\u001b[0m\u001b[1;33m(\u001b[0m\u001b[1;33m)\u001b[0m\u001b[1;33m\u001b[0m\u001b[1;33m\u001b[0m\u001b[0m\n\u001b[0;32m      5\u001b[0m \u001b[0mclf\u001b[0m \u001b[1;33m=\u001b[0m \u001b[0mclf\u001b[0m\u001b[1;33m.\u001b[0m\u001b[0mfit\u001b[0m\u001b[1;33m(\u001b[0m\u001b[0mX_train\u001b[0m\u001b[1;33m,\u001b[0m\u001b[0my_train\u001b[0m\u001b[1;33m)\u001b[0m\u001b[1;33m\u001b[0m\u001b[1;33m\u001b[0m\u001b[0m\n",
      "\u001b[1;31mNameError\u001b[0m: name 'train_test_split' is not defined"
     ]
    }
   ],
   "source": [
    "from sklearn.tree import DecisionTreeClassifier\n",
    "from sklearn import metrics\n",
    "X_train, X_test, y_train, y_test = train_test_split(X1, Y, test_size=0.3, random_state=0)\n",
    "clf = DecisionTreeClassifier()\n",
    "clf = clf.fit(X_train,y_train)\n",
    "y_pred = clf.predict(X_test)\n",
    "print(\"Accuracy:\",metrics.accuracy_score(y_test, y_pred))"
   ]
  },
  {
   "cell_type": "code",
   "execution_count": null,
   "metadata": {},
   "outputs": [],
   "source": [
    "from mlxtend.plotting import plot_confusion_matrix\n",
    "def confusionMat(clf,class_names,X,Y,y_pred,y_test,z):\n",
    "    # Plot non-normalized confusion matrix\n",
    "    titles_options = [(\"Confusion matrix, without normalization\", None),\n",
    "                  (\"Normalized confusion matrix\", 'true')]\n",
    "    for title, normalize in titles_options:\n",
    "            disp = plot_confusion_matrix(clf, X,Y,\n",
    "                                 display_labels=class_names,\n",
    "                                 cmap=plt.cm.Blues,\n",
    "                                 normalize=normalize)\n",
    "    disp.ax_.set_title(title+\"\\n\"+z)\n",
    "\n",
    "    print(title)\n",
    "    print(disp.confusion_matrix)\n",
    "    print(classification_report(y_test, y_pred, target_names=class_names))\n",
    "    sss=sensitivity_specificity_support(y_test, y_pred, average='macro')\n",
    "    print(\"sensitivity:\"+str(sss[0]))\n",
    "    print(\"sensitivity:\"+str(sss[1]))\n",
    "    print(\"\\n\")\n",
    "    plt.show()"
   ]
  },
  {
   "cell_type": "code",
   "execution_count": null,
   "metadata": {},
   "outputs": [],
   "source": [
    "#from sklearn.metrics import plot_confusion_matrix\n",
    "z=\"DT clasifier\"+\"Accuracy:\"+str(metrics.accuracy_score(y_test, y_pred))\n",
    "print(z)\n",
    "class_names = ['Covid19-pnumonia','Normal-pnumonia']\n",
    "confusionMat(clf,class_names,X,Y,y_pred,y_test,z)"
   ]
  },
  {
   "cell_type": "code",
   "execution_count": null,
   "metadata": {},
   "outputs": [],
   "source": []
  },
  {
   "cell_type": "code",
   "execution_count": null,
   "metadata": {},
   "outputs": [],
   "source": [
    "Y1=[1,2,2,3,3,3,3,3,3,1,1,1,1,2,2,2,3,3,3,3,3,3,3,3,1,1,3,1,1,1,2,1,2,3,1,2,2,2,3,3,3,3,2,2,2,2,2,2,3,1,2,3,3,3,3,3,1,1,1]"
   ]
  },
  {
   "cell_type": "code",
   "execution_count": null,
   "metadata": {},
   "outputs": [],
   "source": [
    "X3=X1[:59]"
   ]
  },
  {
   "cell_type": "code",
   "execution_count": null,
   "metadata": {},
   "outputs": [],
   "source": [
    "X_train, X_test, y_train, y_test = train_test_split(X3, Y1, test_size=0.3, random_state=0)\n",
    "clf = DecisionTreeClassifier()\n",
    "clf = clf.fit(X_train,y_train)\n",
    "y_pred = clf.predict(X_test)\n",
    "print(\"Accuracy:\",metrics.accuracy_score(y_test, y_pred))"
   ]
  },
  {
   "cell_type": "code",
   "execution_count": null,
   "metadata": {},
   "outputs": [],
   "source": [
    "print(y_test)\n",
    "print(y_pred)"
   ]
  },
  {
   "cell_type": "code",
   "execution_count": null,
   "metadata": {},
   "outputs": [],
   "source": [
    "from sklearn import svm\n",
    "X_train, X_test, y_train, y_test = train_test_split(X1, Y, test_size=0.3, random_state=0)\n",
    "clf = svm.SVC()\n",
    "clf = clf.fit(X_train,y_train)\n",
    "y_pred = clf.predict(X_test)\n",
    "print(\"Accuracy:\",metrics.accuracy_score(y_test, y_pred))"
   ]
  },
  {
   "cell_type": "code",
   "execution_count": null,
   "metadata": {},
   "outputs": [],
   "source": []
  }
 ],
 "metadata": {
  "kernelspec": {
   "display_name": "Python 3",
   "language": "python",
   "name": "python3"
  },
  "language_info": {
   "codemirror_mode": {
    "name": "ipython",
    "version": 3
   },
   "file_extension": ".py",
   "mimetype": "text/x-python",
   "name": "python",
   "nbconvert_exporter": "python",
   "pygments_lexer": "ipython3",
   "version": "3.7.4"
  }
 },
 "nbformat": 4,
 "nbformat_minor": 2
}
